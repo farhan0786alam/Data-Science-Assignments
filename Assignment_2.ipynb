{
 "cells": [
  {
   "cell_type": "markdown",
   "id": "abc85729-35de-4b59-9e25-cd7fc1b06951",
   "metadata": {},
   "source": [
    "# Python Assignment: Data Structures, Functions, Numpy & Pandas"
   ]
  },
  {
   "cell_type": "markdown",
   "id": "1af29573-dee2-48b4-bdb0-bd0b4213e009",
   "metadata": {},
   "source": [
    "## Section A: Data Structures & Control Structures"
   ]
  },
  {
   "cell_type": "markdown",
   "id": "c6ad0074-f810-4d74-be01-a7593dffd027",
   "metadata": {},
   "source": [
    "### 1.\tCreate a list of 5 integers. Perform and print the result of the following operations: append, extend, insert, remove, pop, clear, index, count, sort, and reverse."
   ]
  },
  {
   "cell_type": "code",
   "execution_count": 14,
   "id": "3960a59e-1ae6-48b2-a2c9-fddd946080b3",
   "metadata": {},
   "outputs": [
    {
     "name": "stdout",
     "output_type": "stream",
     "text": [
      "Original list: [1, 2, 3, 4, 5]\n"
     ]
    }
   ],
   "source": [
    "# Initial list of 5 integers\n",
    "numbers = [1, 2, 3, 4, 5]\n",
    "print(\"Original list:\", numbers)"
   ]
  },
  {
   "cell_type": "code",
   "execution_count": 15,
   "id": "1ff00a85-6f5c-4885-a4a8-74d1df1d7920",
   "metadata": {},
   "outputs": [
    {
     "name": "stdout",
     "output_type": "stream",
     "text": [
      "After append(6): [1, 2, 3, 4, 5, 6]\n"
     ]
    }
   ],
   "source": [
    "# Append: Add one element at the end\n",
    "numbers.append(6)\n",
    "print(\"After append(6):\", numbers)"
   ]
  },
  {
   "cell_type": "code",
   "execution_count": 16,
   "id": "eba20706-b0b7-48e7-bb42-edf2a65fa1f8",
   "metadata": {},
   "outputs": [
    {
     "name": "stdout",
     "output_type": "stream",
     "text": [
      "After extend([7, 8]): [1, 2, 3, 4, 5, 6, 7, 8]\n"
     ]
    }
   ],
   "source": [
    "# Extend: Add multiple elements at the end\n",
    "numbers.extend([7, 8])\n",
    "print(\"After extend([7, 8]):\", numbers)"
   ]
  },
  {
   "cell_type": "code",
   "execution_count": 17,
   "id": "375117b4-4d9b-4f1a-912e-951b7ad956db",
   "metadata": {},
   "outputs": [
    {
     "name": "stdout",
     "output_type": "stream",
     "text": [
      "After insert(2, 9): [1, 2, 9, 3, 4, 5, 6, 7, 8]\n"
     ]
    }
   ],
   "source": [
    "# Insert: Add element at specific index\n",
    "numbers.insert(2, 9)  # Insert 25 at index 2\n",
    "print(\"After insert(2, 9):\", numbers)"
   ]
  },
  {
   "cell_type": "code",
   "execution_count": 18,
   "id": "aac0bc49-bcaa-464b-a0bb-4395dc9da5d2",
   "metadata": {},
   "outputs": [
    {
     "name": "stdout",
     "output_type": "stream",
     "text": [
      "After remove(4): [1, 2, 9, 3, 5, 6, 7, 8]\n"
     ]
    }
   ],
   "source": [
    "# Remove: Remove first occurrence of a value\n",
    "numbers.remove(4)\n",
    "print(\"After remove(4):\", numbers)"
   ]
  },
  {
   "cell_type": "code",
   "execution_count": 19,
   "id": "4ef99b89-b91a-4ddb-99ea-4df370bf0ce8",
   "metadata": {},
   "outputs": [
    {
     "name": "stdout",
     "output_type": "stream",
     "text": [
      "After pop(): [1, 2, 9, 3, 5, 6, 7]\n",
      "Popped value: 8\n"
     ]
    }
   ],
   "source": [
    "# Pop: Remove and return element at index (default is last)\n",
    "popped_value = numbers.pop()\n",
    "print(\"After pop():\", numbers)\n",
    "print(\"Popped value:\", popped_value)"
   ]
  },
  {
   "cell_type": "code",
   "execution_count": 20,
   "id": "2641ec1e-c274-4f66-b3da-083ea0feda56",
   "metadata": {},
   "outputs": [
    {
     "name": "stdout",
     "output_type": "stream",
     "text": [
      "Index of 3: 3\n"
     ]
    }
   ],
   "source": [
    "# Index: Find index of a value\n",
    "index_of_3 = numbers.index(3)\n",
    "print(\"Index of 3:\", index_of_3)"
   ]
  },
  {
   "cell_type": "code",
   "execution_count": 21,
   "id": "5308363f-f91a-4d68-a70b-67067a448781",
   "metadata": {},
   "outputs": [
    {
     "name": "stdout",
     "output_type": "stream",
     "text": [
      "Count of 2: 1\n"
     ]
    }
   ],
   "source": [
    "# Count: Count occurrences of a value\n",
    "count_of_2 = numbers.count(2)\n",
    "print(\"Count of 2:\", count_of_2)"
   ]
  },
  {
   "cell_type": "code",
   "execution_count": 22,
   "id": "4bb7c5ba-a2ad-4c49-8790-ff2fead2ac51",
   "metadata": {},
   "outputs": [
    {
     "name": "stdout",
     "output_type": "stream",
     "text": [
      "After sort(): [1, 2, 3, 5, 6, 7, 9]\n"
     ]
    }
   ],
   "source": [
    "# Sort: Sort the list in ascending order\n",
    "numbers.sort()\n",
    "print(\"After sort():\", numbers)"
   ]
  },
  {
   "cell_type": "code",
   "execution_count": 23,
   "id": "df84c9f0-a6ae-4a84-a57f-9dca5c4b9053",
   "metadata": {},
   "outputs": [
    {
     "name": "stdout",
     "output_type": "stream",
     "text": [
      "After reverse(): [9, 7, 6, 5, 3, 2, 1]\n"
     ]
    }
   ],
   "source": [
    "# Reverse: Reverse the list\n",
    "numbers.reverse()\n",
    "print(\"After reverse():\", numbers)"
   ]
  },
  {
   "cell_type": "code",
   "execution_count": 24,
   "id": "7115c4b9-fb89-4fff-88a3-738d6c128e5c",
   "metadata": {},
   "outputs": [
    {
     "name": "stdout",
     "output_type": "stream",
     "text": [
      "After clear(): []\n"
     ]
    }
   ],
   "source": [
    "# Clear: Remove all elements from the list\n",
    "numbers.clear()\n",
    "print(\"After clear():\", numbers)"
   ]
  },
  {
   "cell_type": "markdown",
   "id": "6b27cad8-bc74-405c-ac35-27c14ce01ee9",
   "metadata": {},
   "source": [
    "## 2.\tCreate a tuple that stores 3 student names. Try changing the second name in the tuple. What happens? Explain why."
   ]
  },
  {
   "cell_type": "code",
   "execution_count": 25,
   "id": "d81cd5f8-e040-4197-8c7f-01feef3a39b0",
   "metadata": {},
   "outputs": [
    {
     "name": "stdout",
     "output_type": "stream",
     "text": [
      "Original tuple: ('Farhan', 'Akhzar', 'Tanweer')\n"
     ]
    }
   ],
   "source": [
    "# Creating a tuple with 3 student names\n",
    "students = (\"Farhan\", \"Akhzar\", \"Tanweer\")\n",
    "print(\"Original tuple:\", students)"
   ]
  },
  {
   "cell_type": "code",
   "execution_count": 26,
   "id": "5a4471ce-e1e7-477b-b9ea-2b197c998dd7",
   "metadata": {},
   "outputs": [
    {
     "ename": "TypeError",
     "evalue": "'tuple' object does not support item assignment",
     "output_type": "error",
     "traceback": [
      "\u001b[1;31m---------------------------------------------------------------------------\u001b[0m",
      "\u001b[1;31mTypeError\u001b[0m                                 Traceback (most recent call last)",
      "Cell \u001b[1;32mIn[26], line 2\u001b[0m\n\u001b[0;32m      1\u001b[0m \u001b[38;5;66;03m# Attempting to change the second name\u001b[39;00m\n\u001b[1;32m----> 2\u001b[0m students[\u001b[38;5;241m1\u001b[39m] \u001b[38;5;241m=\u001b[39m \u001b[38;5;124m\"\u001b[39m\u001b[38;5;124mAman\u001b[39m\u001b[38;5;124m\"\u001b[39m\n",
      "\u001b[1;31mTypeError\u001b[0m: 'tuple' object does not support item assignment"
     ]
    }
   ],
   "source": [
    "# Attempting to change the second name\n",
    "students[1] = \"Aman\"  # This will raise an error"
   ]
  },
  {
   "cell_type": "markdown",
   "id": "a4754253-f452-43d2-ac18-d7ae65c3c16e",
   "metadata": {},
   "source": [
    "## Define:\n",
    "   #### Tuples in Python are immutable, which means once created, their elements cannot be changed.\n",
    "\n",
    "   #### When we try to assign a new value to students[1], Python throws a TypeError.\n",
    "\n",
    "   #### This behavior ensures that tuples remain constant and safe from accidental modification."
   ]
  },
  {
   "cell_type": "markdown",
   "id": "41e2a2fc-9263-4af6-9d53-37bcb5e399e0",
   "metadata": {},
   "source": [
    "# 3.\tCreate a set of integers with some duplicate values. Print the set and explain the output."
   ]
  },
  {
   "cell_type": "code",
   "execution_count": 28,
   "id": "f623bdf5-a060-4bea-8140-98d9c6c503eb",
   "metadata": {},
   "outputs": [
    {
     "name": "stdout",
     "output_type": "stream",
     "text": [
      "Set of integers: {1, 2, 3, 4, 5}\n"
     ]
    }
   ],
   "source": [
    "# Creating a set with duplicate values\n",
    "numbers = {1, 2, 3, 2, 4, 3, 5}\n",
    "\n",
    "# Printing the set\n",
    "print(\"Set of integers:\", numbers)"
   ]
  },
  {
   "cell_type": "markdown",
   "id": "729f0479-3363-4d2d-b4c9-ac46a0bd87e9",
   "metadata": {},
   "source": [
    "# 4.\tCreate a dictionary with the keys: 'name', 'age', and 'city'. Update the age and add a new key 'email'. Print the final dictionary."
   ]
  },
  {
   "cell_type": "code",
   "execution_count": 29,
   "id": "068794cc-8892-4fe6-b6ec-8f1c8a2f413a",
   "metadata": {},
   "outputs": [
    {
     "name": "stdout",
     "output_type": "stream",
     "text": [
      "Final Dictionary: {'name': 'Aman', 'age': 20, 'city': 'Mau', 'email': 'aman@gmail.com'}\n"
     ]
    }
   ],
   "source": [
    "# Step 1: Create the initial dictionary\n",
    "student = {\n",
    "    'name': 'Aman',\n",
    "    'age': 19,\n",
    "    'city': 'Mau'\n",
    "}\n",
    "\n",
    "# Step 2: Update the age\n",
    "student['age'] = 20\n",
    "\n",
    "# Step 3: Add a new key 'email'\n",
    "student['email'] = 'aman@gmail.com'\n",
    "\n",
    "# Step 4: Print the final dictionary\n",
    "print(\"Final Dictionary:\", student)\n"
   ]
  },
  {
   "cell_type": "markdown",
   "id": "f73a9515-c52c-4e17-bfea-113dc2d1fa90",
   "metadata": {},
   "source": [
    "## 5. Write a script that checks if a person is eligible to vote (age ≥ 18). Take age as a variable and print the appropriate message."
   ]
  },
  {
   "cell_type": "code",
   "execution_count": 33,
   "id": "b57d9d0c-e097-4ae8-bd48-f70e5d2b0be4",
   "metadata": {},
   "outputs": [
    {
     "name": "stdin",
     "output_type": "stream",
     "text": [
      "Enter your age:  1\n"
     ]
    },
    {
     "name": "stdout",
     "output_type": "stream",
     "text": [
      "❌ You are not eligible to vote yet.\n"
     ]
    }
   ],
   "source": [
    "# Voting Eligibility Checker\n",
    "\n",
    "# Take age as input\n",
    "age = int(input(\"Enter your age: \"))\n",
    "\n",
    "# Check eligibility\n",
    "if age >= 18:\n",
    "    print(\"✅ You are eligible to vote.\")\n",
    "else:\n",
    "    print(\"❌ You are not eligible to vote yet.\")\n"
   ]
  },
  {
   "cell_type": "markdown",
   "id": "17dff28c-1764-4b64-9417-5743e5591e1c",
   "metadata": {},
   "source": [
    "# 6.\tGiven a 'marks' variable, print the grade:"
   ]
  },
  {
   "cell_type": "markdown",
   "id": "42c262d1-1532-419b-9271-c5ea4d6c9f95",
   "metadata": {},
   "source": [
    "### - 90 and above: 'A'\n",
    "### - 75–89: 'B'\n",
    "### - 50–74: 'C'\n",
    "### - Below 50: 'Fail'\n"
   ]
  },
  {
   "cell_type": "code",
   "execution_count": 34,
   "id": "36cd07cd-b615-4ea3-8e31-c3e1b55b0f18",
   "metadata": {},
   "outputs": [
    {
     "name": "stdin",
     "output_type": "stream",
     "text": [
      "Enter your marks:  67\n"
     ]
    },
    {
     "name": "stdout",
     "output_type": "stream",
     "text": [
      "Your grade is: C\n"
     ]
    }
   ],
   "source": [
    "# Grade Calculator\n",
    "\n",
    "# Input: marks\n",
    "marks = int(input(\"Enter your marks: \"))\n",
    "\n",
    "# Determine grade\n",
    "if marks >= 90:\n",
    "    grade = 'A'\n",
    "elif marks >= 75:\n",
    "    grade = 'B'\n",
    "elif marks >= 50:\n",
    "    grade = 'C'\n",
    "else:\n",
    "    grade = 'Fail'\n",
    "\n",
    "# Output result\n",
    "print(f\"Your grade is: {grade}\")\n"
   ]
  },
  {
   "cell_type": "markdown",
   "id": "f57c51e8-52f8-452e-98ac-e37d812ce9f3",
   "metadata": {},
   "source": [
    "# 7.\tGiven a number, check if it's positive, and if it is also even. If not positive, print if it's zero or negative."
   ]
  },
  {
   "cell_type": "code",
   "execution_count": 36,
   "id": "ebe17d88-c264-43c2-9e8e-d420c72bef83",
   "metadata": {},
   "outputs": [
    {
     "name": "stdin",
     "output_type": "stream",
     "text": [
      "Enter a number:  17\n"
     ]
    },
    {
     "name": "stdout",
     "output_type": "stream",
     "text": [
      "The number is positive.\n",
      "It is odd.\n"
     ]
    }
   ],
   "source": [
    "# Number Check Script\n",
    "\n",
    "# Input: number\n",
    "num = int(input(\"Enter a number: \"))\n",
    "\n",
    "# Check conditions operater\n",
    "if num > 0:\n",
    "    print(\"The number is positive.\")\n",
    "    if num % 2 == 0:\n",
    "        print(\"It is also even.\")\n",
    "    else:\n",
    "        print(\"It is odd.\")\n",
    "elif num == 0:\n",
    "    print(\"The number is zero.\")\n",
    "else:\n",
    "    print(\"The number is negative.\")\n"
   ]
  },
  {
   "cell_type": "code",
   "execution_count": null,
   "id": "f3761865-5960-44b8-800e-4767e75b8477",
   "metadata": {},
   "outputs": [],
   "source": []
  },
  {
   "cell_type": "markdown",
   "id": "d661af4d-ee8e-46e0-98b0-d9f567bbe583",
   "metadata": {},
   "source": [
    "# Section B: Numpy"
   ]
  },
  {
   "cell_type": "markdown",
   "id": "ee4fecd1-d7f8-47be-a53b-b8422d63f7c0",
   "metadata": {},
   "source": [
    "## 8.\tCreate:"
   ]
  },
  {
   "cell_type": "markdown",
   "id": "172f8b9b-1d73-489a-b447-6fd75d879ed9",
   "metadata": {},
   "source": [
    "#### - A scalar using np.array(5)\n",
    "#### - A 1D array with values 1 to 5\n",
    "#### - A 2D array (2x3) with values from 10 to 60 in steps of 10\n"
   ]
  },
  {
   "cell_type": "markdown",
   "id": "d0d1c050-047c-4706-aeab-4ae92c7c29ce",
   "metadata": {},
   "source": [
    "#####  Import libraries\n"
   ]
  },
  {
   "cell_type": "code",
   "execution_count": 37,
   "id": "618b80f0-de92-4348-ba7c-3a6a34fa15cf",
   "metadata": {},
   "outputs": [],
   "source": [
    "import numpy as np"
   ]
  },
  {
   "cell_type": "markdown",
   "id": "bcccda9f-3685-4a81-8fea-53b38ab4bf12",
   "metadata": {},
   "source": [
    "###  - A scalar using np.array(5)"
   ]
  },
  {
   "cell_type": "code",
   "execution_count": 38,
   "id": "1fb9952b-1754-4a37-a1af-c21bfcf49af6",
   "metadata": {},
   "outputs": [
    {
     "name": "stdout",
     "output_type": "stream",
     "text": [
      "Scalar: 5\n",
      "Shape: ()\n"
     ]
    }
   ],
   "source": [
    "scalar = np.array(5)\n",
    "print(\"Scalar:\", scalar)\n",
    "print(\"Shape:\", scalar.shape)\n"
   ]
  },
  {
   "cell_type": "markdown",
   "id": "14d94c45-28a4-459c-ac00-5c04e689811a",
   "metadata": {},
   "source": [
    "### - A 1D array with values 1 to 5"
   ]
  },
  {
   "cell_type": "code",
   "execution_count": 39,
   "id": "ee405147-c151-4591-b1d1-43990ee138e9",
   "metadata": {},
   "outputs": [
    {
     "name": "stdout",
     "output_type": "stream",
     "text": [
      "1D Array: [1 2 3 4 5]\n",
      "Shape: (5,)\n"
     ]
    }
   ],
   "source": [
    "one_d_array = np.array([1, 2, 3, 4, 5])\n",
    "print(\"1D Array:\", one_d_array)\n",
    "print(\"Shape:\", one_d_array.shape)\n"
   ]
  },
  {
   "cell_type": "markdown",
   "id": "8872a1af-9753-4cd0-9e58-5cfc37cd0e0f",
   "metadata": {},
   "source": [
    "### - A 2D array (2x3) with values from 10 to 60 in steps of 10"
   ]
  },
  {
   "cell_type": "code",
   "execution_count": 41,
   "id": "33079915-29b4-4199-92d2-1bd97885bb96",
   "metadata": {},
   "outputs": [
    {
     "name": "stdout",
     "output_type": "stream",
     "text": [
      "2D Array:\n",
      " [[10 20 30]\n",
      " [40 50 60]]\n",
      "Shape: (2, 3)\n"
     ]
    }
   ],
   "source": [
    "two_d_array = np.array([[10, 20, 30], [40, 50, 60]])\n",
    "print(\"2D Array:\\n\", two_d_array)\n",
    "print(\"Shape:\", two_d_array.shape)\n"
   ]
  },
  {
   "cell_type": "markdown",
   "id": "60955078-dcd6-41c4-a955-68eb65cbb7a8",
   "metadata": {},
   "source": [
    "## 9.\tGenerate a 4x4 Numpy array of random integers between 0 and 100 using np.random.randint()."
   ]
  },
  {
   "cell_type": "code",
   "execution_count": 42,
   "id": "41620309-5772-4379-a5c0-95046c29c1a2",
   "metadata": {},
   "outputs": [
    {
     "name": "stdout",
     "output_type": "stream",
     "text": [
      "4x4 Random Integer Array (0–100):\n",
      "[[78 54  3 92]\n",
      " [70  4 16 92]\n",
      " [ 6 46 42 30]\n",
      " [84 67 74  8]]\n"
     ]
    }
   ],
   "source": [
    "import numpy as np\n",
    "\n",
    "# Generate a 4x4 array of random integers between 0 and 100\n",
    "random_array = np.random.randint(0, 101, size=(4, 4))\n",
    "\n",
    "# Print the array\n",
    "print(\"4x4 Random Integer Array (0–100):\")\n",
    "print(random_array)\n"
   ]
  },
  {
   "cell_type": "markdown",
   "id": "3757f362-6b85-4cb1-9f19-a9c2c6b98822",
   "metadata": {},
   "source": [
    "## 10.\tCreate a 2D numpy array of shape (3x3). Convert it into a pandas DataFrame and add column names: 'A', 'B', 'C'."
   ]
  },
  {
   "cell_type": "code",
   "execution_count": 43,
   "id": "a456cbec-d0db-4994-a9c6-00167168d557",
   "metadata": {},
   "outputs": [
    {
     "name": "stdout",
     "output_type": "stream",
     "text": [
      "Pandas DataFrame:\n",
      "   A  B  C\n",
      "0  1  2  3\n",
      "1  4  5  6\n",
      "2  7  8  9\n"
     ]
    }
   ],
   "source": [
    "import numpy as np\n",
    "import pandas as pd\n",
    "\n",
    "# Step 1: Create a 2D NumPy array of shape (3x3)\n",
    "array_2d = np.array([[1, 2, 3],\n",
    "                     [4, 5, 6],\n",
    "                     [7, 8, 9]])\n",
    "\n",
    "# Step 2: Convert the NumPy array to a Pandas DataFrame\n",
    "df = pd.DataFrame(array_2d, columns=['A', 'B', 'C'])\n",
    "\n",
    "# Step 3: Print the DataFrame\n",
    "print(\"Pandas DataFrame:\")\n",
    "print(df)\n"
   ]
  },
  {
   "cell_type": "markdown",
   "id": "13deb4ab-8fb9-4909-a53a-25787367a8a7",
   "metadata": {},
   "source": [
    "##### 🧠 Explanation:\n",
    "#####  np.array() creates a 3×3 matrix.\n",
    "\n",
    "##### pd.DataFrame() converts it into a DataFrame.\n",
    "\n",
    "##### columns=['A', 'B', 'C'] assigns custom column names."
   ]
  },
  {
   "cell_type": "code",
   "execution_count": null,
   "id": "a97597f5-8f70-4657-bcfb-fd73916eb419",
   "metadata": {},
   "outputs": [],
   "source": []
  },
  {
   "cell_type": "markdown",
   "id": "1cfebab5-819e-473d-903b-44d1569ba973",
   "metadata": {},
   "source": [
    "# Section C: Exploring Pandas"
   ]
  },
  {
   "cell_type": "markdown",
   "id": "f71859c2-7442-4ebf-a264-1a2636fddba2",
   "metadata": {},
   "source": [
    "# 11.\tCreate a small DataFrame manually with 10 rows and columns: 'Name', 'Age', 'City', and 'Salary'. Then:\n",
    "\n"
   ]
  },
  {
   "cell_type": "code",
   "execution_count": 44,
   "id": "bc284e62-5c37-4ba0-8a2b-0918c2eb3616",
   "metadata": {},
   "outputs": [
    {
     "name": "stdout",
     "output_type": "stream",
     "text": [
      "🔍 DataFrame Info:\n",
      "<class 'pandas.core.frame.DataFrame'>\n",
      "RangeIndex: 10 entries, 0 to 9\n",
      "Data columns (total 4 columns):\n",
      " #   Column  Non-Null Count  Dtype  \n",
      "---  ------  --------------  -----  \n",
      " 0   Name    10 non-null     object \n",
      " 1   Age     10 non-null     int64  \n",
      " 2   City    10 non-null     object \n",
      " 3   Salary  8 non-null      float64\n",
      "dtypes: float64(1), int64(1), object(2)\n",
      "memory usage: 452.0+ bytes\n",
      "None\n",
      "\n",
      "📊 Descriptive Statistics:\n",
      "             Age        Salary\n",
      "count  10.000000      8.000000\n",
      "mean   29.200000  56500.000000\n",
      "std     5.245104   4535.573676\n",
      "min    22.000000  50000.000000\n",
      "25%    25.500000  53750.000000\n",
      "50%    28.500000  57500.000000\n",
      "75%    30.750000  60000.000000\n",
      "max    40.000000  62000.000000\n",
      "\n",
      "🧾 Selected Columns ('Name' and 'City'):\n",
      "      Name     City\n",
      "0     Aman    Delhi\n",
      "1   Bhavna   Mumbai\n",
      "2   Akhzar  Chennai\n",
      "3  Tanweer    Delhi\n",
      "4     Esha   Mumbai\n",
      "5   Farhan  Chennai\n",
      "6    Mohit    Delhi\n",
      "7  Manzoor   Mumbai\n",
      "8    salam  Chennai\n",
      "9     Amit    Delhi\n",
      "\n",
      "🗑️ DataFrame after dropping 'City':\n",
      "      Name  Age   Salary\n",
      "0     Aman   25  50000.0\n",
      "1   Bhavna   30  60000.0\n",
      "2   Akhzar   22  55000.0\n",
      "3  Tanweer   28      NaN\n",
      "4     Esha   35  62000.0\n",
      "5   Farhan   40  58000.0\n",
      "6    Mohit   29  57000.0\n",
      "7  Manzoor   31  60000.0\n",
      "8    salam   27      NaN\n",
      "9     Amit   25  50000.0\n",
      "\n",
      "💰 DataFrame after filling missing 'Salary' values with mean:\n",
      "      Name  Age     City   Salary\n",
      "0     Aman   25    Delhi  50000.0\n",
      "1   Bhavna   30   Mumbai  60000.0\n",
      "2   Akhzar   22  Chennai  55000.0\n",
      "3  Tanweer   28    Delhi  56500.0\n",
      "4     Esha   35   Mumbai  62000.0\n",
      "5   Farhan   40  Chennai  58000.0\n",
      "6    Mohit   29    Delhi  57000.0\n",
      "7  Manzoor   31   Mumbai  60000.0\n",
      "8    salam   27  Chennai  56500.0\n",
      "9     Amit   25    Delhi  50000.0\n",
      "\n",
      "🚫 DataFrame after removing duplicate rows:\n",
      "      Name  Age     City   Salary\n",
      "0     Aman   25    Delhi  50000.0\n",
      "1   Bhavna   30   Mumbai  60000.0\n",
      "2   Akhzar   22  Chennai  55000.0\n",
      "3  Tanweer   28    Delhi  56500.0\n",
      "4     Esha   35   Mumbai  62000.0\n",
      "5   Farhan   40  Chennai  58000.0\n",
      "6    Mohit   29    Delhi  57000.0\n",
      "7  Manzoor   31   Mumbai  60000.0\n",
      "8    salam   27  Chennai  56500.0\n",
      "9     Amit   25    Delhi  50000.0\n"
     ]
    }
   ],
   "source": [
    "import pandas as pd\n",
    "import numpy as np\n",
    "\n",
    "# Step 1: Create the DataFrame manually\n",
    "data = {\n",
    "    'Name': ['Aman', 'Bhavna', 'Akhzar', 'Tanweer', 'Esha', 'Farhan', 'Mohit', 'Manzoor', 'salam', 'Amit'],\n",
    "    'Age': [25, 30, 22, 28, 35, 40, 29, 31, 27, 25],\n",
    "    'City': ['Delhi', 'Mumbai', 'Chennai', 'Delhi', 'Mumbai', 'Chennai', 'Delhi', 'Mumbai', 'Chennai', 'Delhi'],\n",
    "    'Salary': [50000, 60000, 55000, np.nan, 62000, 58000, 57000, 60000, np.nan, 50000]\n",
    "}\n",
    "\n",
    "df = pd.DataFrame(data)\n",
    "\n",
    "# Step 2: Display info and statistics\n",
    "print(\"🔍 DataFrame Info:\")\n",
    "print(df.info())\n",
    "\n",
    "print(\"\\n📊 Descriptive Statistics:\")\n",
    "print(df.describe())\n",
    "\n",
    "# Step 3: Select 'Name' and 'City' columns\n",
    "print(\"\\n🧾 Selected Columns ('Name' and 'City'):\")\n",
    "print(df[['Name', 'City']])\n",
    "\n",
    "# Step 4: Drop 'City' column\n",
    "df_dropped = df.drop(columns=['City'])\n",
    "print(\"\\n🗑️ DataFrame after dropping 'City':\")\n",
    "print(df_dropped)\n",
    "\n",
    "# Step 5: Fill missing 'Salary' values with mean\n",
    "mean_salary = df['Salary'].mean()\n",
    "df['Salary'].fillna(mean_salary, inplace=True)\n",
    "print(\"\\n💰 DataFrame after filling missing 'Salary' values with mean:\")\n",
    "print(df)\n",
    "\n",
    "# Step 6: Remove duplicate rows\n",
    "df_no_duplicates = df.drop_duplicates()\n",
    "print(\"\\n🚫 DataFrame after removing duplicate rows:\")\n",
    "print(df_no_duplicates)\n"
   ]
  },
  {
   "cell_type": "code",
   "execution_count": null,
   "id": "43720750-5176-4dfe-8b73-c0bae9311425",
   "metadata": {},
   "outputs": [],
   "source": []
  }
 ],
 "metadata": {
  "kernelspec": {
   "display_name": "Python 3 (ipykernel)",
   "language": "python",
   "name": "python3"
  },
  "language_info": {
   "codemirror_mode": {
    "name": "ipython",
    "version": 3
   },
   "file_extension": ".py",
   "mimetype": "text/x-python",
   "name": "python",
   "nbconvert_exporter": "python",
   "pygments_lexer": "ipython3",
   "version": "3.11.5"
  }
 },
 "nbformat": 4,
 "nbformat_minor": 5
}
