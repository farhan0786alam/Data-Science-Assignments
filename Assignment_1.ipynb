{
 "cells": [
  {
   "cell_type": "markdown",
   "id": "b83705e7-6279-481b-ab92-da13b57906e3",
   "metadata": {},
   "source": [
    "# PYTHON PROGRAMMING ASSIGNMENT"
   ]
  },
  {
   "cell_type": "markdown",
   "id": "3631c5d3-ee44-49e0-b822-75564ccda0ad",
   "metadata": {},
   "source": [
    "## Exercise 1: Prime Numbers"
   ]
  },
  {
   "cell_type": "markdown",
   "id": "e739e96c-4a9d-4529-bd13-81b3db473629",
   "metadata": {},
   "source": [
    "### Import libraries"
   ]
  },
  {
   "cell_type": "code",
   "execution_count": 1,
   "id": "16dd7abc-64c3-4601-9785-28761b88eae2",
   "metadata": {},
   "outputs": [],
   "source": [
    "import pandas as pd\n",
    "import numpy as py"
   ]
  },
  {
   "cell_type": "code",
   "execution_count": 8,
   "id": "f9ca20d0-fb89-422f-a7fb-8a963269488b",
   "metadata": {},
   "outputs": [
    {
     "name": "stdin",
     "output_type": "stream",
     "text": [
      "Enter a number:  9\n"
     ]
    },
    {
     "name": "stdout",
     "output_type": "stream",
     "text": [
      "9 is not a prime number.\n"
     ]
    }
   ],
   "source": [
    "def is_prime(n):\n",
    "    if n <= 1:\n",
    "        return False\n",
    "    for i in range(2, int(n**0.5) + 1):\n",
    "        if n % i == 0:\n",
    "            return False\n",
    "    return True\n",
    "\n",
    "# Input from user\n",
    "num = int(input(\"Enter a number: \"))\n",
    "\n",
    "# Output result\n",
    "if is_prime(num):\n",
    "    print(f\"{num} is a prime number.\")\n",
    "else:\n",
    "    print(f\"{num} is not a prime number.\")\n"
   ]
  },
  {
   "cell_type": "markdown",
   "id": "5c7fd791-86cc-4e8c-a4da-26958b350960",
   "metadata": {},
   "source": [
    "## Exercise 2: Product of Random Numbers"
   ]
  },
  {
   "cell_type": "markdown",
   "id": "f13766e7-93ba-47e8-b4e7-1cc1e330aa40",
   "metadata": {},
   "source": [
    "## Import libraries"
   ]
  },
  {
   "cell_type": "code",
   "execution_count": 9,
   "id": "bce8da21-1a7c-41a0-8ef4-7dd95d09a053",
   "metadata": {},
   "outputs": [],
   "source": [
    "import random"
   ]
  },
  {
   "cell_type": "code",
   "execution_count": 17,
   "id": "b9165c2b-9a35-47ae-a063-3ad59a71bfd7",
   "metadata": {},
   "outputs": [
    {
     "name": "stdout",
     "output_type": "stream",
     "text": [
      "What is 13 × 16?\n"
     ]
    },
    {
     "name": "stdin",
     "output_type": "stream",
     "text": [
      "Your answer:  208\n"
     ]
    },
    {
     "name": "stdout",
     "output_type": "stream",
     "text": [
      "✅ Correct! Well done.\n"
     ]
    }
   ],
   "source": [
    "# Generate two random numbers between 11 and 19\n",
    "num1 = random.randint(11, 19)\n",
    "num2 = random.randint(11, 19)\n",
    "\n",
    "# Ask the user to enter the product\n",
    "print(f\"What is {num1} × {num2}?\")\n",
    "user_answer = int(input(\"Your answer: \"))\n",
    "\n",
    "# Check the answer\n",
    "correct_answer = num1 * num2\n",
    "\n",
    "# Display result\n",
    "if user_answer == correct_answer:\n",
    "    print(\"✅ Correct! Well done.\")\n",
    "else:\n",
    "    print(f\"❌ Incorrect. The correct answer is {correct_answer}.\")\n"
   ]
  },
  {
   "cell_type": "markdown",
   "id": "bfb3f01d-5e19-4567-996c-2a1765eba315",
   "metadata": {},
   "source": [
    "# Exercise 3: Squares of Even/Odd Numbers"
   ]
  },
  {
   "cell_type": "code",
   "execution_count": 21,
   "id": "eb8ca755-f393-4879-b2d5-de2e886b37d2",
   "metadata": {},
   "outputs": [
    {
     "name": "stdout",
     "output_type": "stream",
     "text": [
      "The square of 101 is 10201\n",
      "The square of 103 is 10609\n",
      "The square of 105 is 11025\n",
      "The square of 107 is 11449\n",
      "The square of 109 is 11881\n",
      "The square of 111 is 12321\n",
      "The square of 113 is 12769\n",
      "The square of 115 is 13225\n",
      "The square of 117 is 13689\n",
      "The square of 119 is 14161\n",
      "The square of 121 is 14641\n",
      "The square of 123 is 15129\n",
      "The square of 125 is 15625\n",
      "The square of 127 is 16129\n",
      "The square of 129 is 16641\n",
      "The square of 131 is 17161\n",
      "The square of 133 is 17689\n",
      "The square of 135 is 18225\n",
      "The square of 137 is 18769\n",
      "The square of 139 is 19321\n",
      "The square of 141 is 19881\n",
      "The square of 143 is 20449\n",
      "The square of 145 is 21025\n",
      "The square of 147 is 21609\n",
      "The square of 149 is 22201\n",
      "The square of 151 is 22801\n",
      "The square of 153 is 23409\n",
      "The square of 155 is 24025\n",
      "The square of 157 is 24649\n",
      "The square of 159 is 25281\n",
      "The square of 161 is 25921\n",
      "The square of 163 is 26569\n",
      "The square of 165 is 27225\n",
      "The square of 167 is 27889\n",
      "The square of 169 is 28561\n",
      "The square of 171 is 29241\n",
      "The square of 173 is 29929\n",
      "The square of 175 is 30625\n",
      "The square of 177 is 31329\n",
      "The square of 179 is 32041\n",
      "The square of 181 is 32761\n",
      "The square of 183 is 33489\n",
      "The square of 185 is 34225\n",
      "The square of 187 is 34969\n",
      "The square of 189 is 35721\n",
      "The square of 191 is 36481\n",
      "The square of 193 is 37249\n",
      "The square of 195 is 38025\n",
      "The square of 197 is 38809\n",
      "The square of 199 is 39601\n"
     ]
    }
   ],
   "source": [
    "# Loop through numbers from 100 to 200\n",
    "for num in range(100, 201):\n",
    "    # Check if the number is odd\n",
    "    if num % 2 != 0:\n",
    "        square = num ** 2\n",
    "        print(f\"The square of {num} is {square}\")"
   ]
  },
  {
   "cell_type": "markdown",
   "id": "bedfdd28-317e-4874-a30e-22aed4527e9a",
   "metadata": {},
   "source": [
    "# Exercise 4: Hospital Billing System\n"
   ]
  },
  {
   "cell_type": "code",
   "execution_count": 22,
   "id": "2012ac26-b709-4b5b-bf46-8874178ce779",
   "metadata": {},
   "outputs": [
    {
     "name": "stdout",
     "output_type": "stream",
     "text": [
      "🏥 Hospital Billing Summary\n",
      "Room Charges (₹2000 x 4 days): ₹8000\n",
      "Consultation Fee: ₹1500\n",
      "Lab Test Charges (₹300 x 3 tests): ₹900\n",
      "Medicine Charges: ₹2400\n",
      "Total Before Discount: ₹12800\n",
      "Discount Applied: ₹1280.0\n",
      "✅ Final Bill Amount: ₹11520.0\n"
     ]
    }
   ],
   "source": [
    "# Charges\n",
    "room_charge_per_day = 2000\n",
    "consultation_fee = 1500\n",
    "lab_test_charge = 300\n",
    "medicine_charges = 2400\n",
    "\n",
    "# Patient details\n",
    "days_stayed = 4\n",
    "lab_tests_taken = 3\n",
    "\n",
    "# Calculate individual costs\n",
    "room_total = room_charge_per_day * days_stayed\n",
    "lab_total = lab_test_charge * lab_tests_taken\n",
    "\n",
    "# Calculate total before discount\n",
    "total_before_discount = room_total + consultation_fee + lab_total + medicine_charges\n",
    "\n",
    "# Apply discount if applicable\n",
    "if total_before_discount > 10000:\n",
    "    discount = total_before_discount * 0.10\n",
    "else:\n",
    "    discount = 0\n",
    "\n",
    "# Final bill\n",
    "final_bill = total_before_discount - discount\n",
    "\n",
    "# Display breakdown\n",
    "print(\"🏥 Hospital Billing Summary\")\n",
    "print(f\"Room Charges (₹2000 x {days_stayed} days): ₹{room_total}\")\n",
    "print(f\"Consultation Fee: ₹{consultation_fee}\")\n",
    "print(f\"Lab Test Charges (₹300 x {lab_tests_taken} tests): ₹{lab_total}\")\n",
    "print(f\"Medicine Charges: ₹{medicine_charges}\")\n",
    "print(f\"Total Before Discount: ₹{total_before_discount}\")\n",
    "print(f\"Discount Applied: ₹{discount}\")\n",
    "print(f\"✅ Final Bill Amount: ₹{final_bill}\")\n"
   ]
  },
  {
   "cell_type": "code",
   "execution_count": null,
   "id": "7bc01c28-e73a-4931-8e01-4343c88417de",
   "metadata": {},
   "outputs": [],
   "source": []
  }
 ],
 "metadata": {
  "kernelspec": {
   "display_name": "Python 3 (ipykernel)",
   "language": "python",
   "name": "python3"
  },
  "language_info": {
   "codemirror_mode": {
    "name": "ipython",
    "version": 3
   },
   "file_extension": ".py",
   "mimetype": "text/x-python",
   "name": "python",
   "nbconvert_exporter": "python",
   "pygments_lexer": "ipython3",
   "version": "3.11.5"
  }
 },
 "nbformat": 4,
 "nbformat_minor": 5
}
