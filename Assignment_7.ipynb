{
 "cells": [
  {
   "cell_type": "markdown",
   "id": "e0225539-0145-45e9-8e3d-d2d0c2f30505",
   "metadata": {},
   "source": [
    "# 1. What is Normalization & Standardization and how is it helpful?"
   ]
  },
  {
   "cell_type": "markdown",
   "id": "6ed49998-f5c7-4484-8c7e-0b2a2a91cacf",
   "metadata": {},
   "source": [
    "# Import Libraries\n"
   ]
  },
  {
   "cell_type": "code",
   "execution_count": 1,
   "id": "00af4f4b-8545-4893-b482-7b8f5588c527",
   "metadata": {},
   "outputs": [],
   "source": [
    "import pandas as pd                               # For data manipulation and analysis\n",
    "import matplotlib.pyplot as plt                   # For creating visualizations\n",
    "import seaborn as sns                             # For advanced and attractive statistical plots"
   ]
  },
  {
   "cell_type": "markdown",
   "id": "deb25db9-3ff2-4ad2-bb7a-a9d121e0991c",
   "metadata": {},
   "source": [
    "# Load Dataset"
   ]
  },
  {
   "cell_type": "code",
   "execution_count": 3,
   "id": "4b145bf3-d8e2-4eb8-b10c-6848c815225d",
   "metadata": {},
   "outputs": [
    {
     "data": {
      "text/html": [
       "<div>\n",
       "<style scoped>\n",
       "    .dataframe tbody tr th:only-of-type {\n",
       "        vertical-align: middle;\n",
       "    }\n",
       "\n",
       "    .dataframe tbody tr th {\n",
       "        vertical-align: top;\n",
       "    }\n",
       "\n",
       "    .dataframe thead th {\n",
       "        text-align: right;\n",
       "    }\n",
       "</style>\n",
       "<table border=\"1\" class=\"dataframe\">\n",
       "  <thead>\n",
       "    <tr style=\"text-align: right;\">\n",
       "      <th></th>\n",
       "      <th>Price</th>\n",
       "      <th>Age_08_04</th>\n",
       "      <th>KM</th>\n",
       "      <th>Fuel_Type</th>\n",
       "      <th>HP</th>\n",
       "      <th>Automatic</th>\n",
       "      <th>cc</th>\n",
       "      <th>Doors</th>\n",
       "      <th>Cylinders</th>\n",
       "      <th>Gears</th>\n",
       "      <th>Weight</th>\n",
       "    </tr>\n",
       "  </thead>\n",
       "  <tbody>\n",
       "    <tr>\n",
       "      <th>0</th>\n",
       "      <td>13500</td>\n",
       "      <td>23</td>\n",
       "      <td>46986</td>\n",
       "      <td>Diesel</td>\n",
       "      <td>90</td>\n",
       "      <td>0</td>\n",
       "      <td>2000</td>\n",
       "      <td>3</td>\n",
       "      <td>4</td>\n",
       "      <td>5</td>\n",
       "      <td>1165</td>\n",
       "    </tr>\n",
       "    <tr>\n",
       "      <th>1</th>\n",
       "      <td>13750</td>\n",
       "      <td>23</td>\n",
       "      <td>72937</td>\n",
       "      <td>Diesel</td>\n",
       "      <td>90</td>\n",
       "      <td>0</td>\n",
       "      <td>2000</td>\n",
       "      <td>3</td>\n",
       "      <td>4</td>\n",
       "      <td>5</td>\n",
       "      <td>1165</td>\n",
       "    </tr>\n",
       "    <tr>\n",
       "      <th>2</th>\n",
       "      <td>13950</td>\n",
       "      <td>24</td>\n",
       "      <td>41711</td>\n",
       "      <td>Diesel</td>\n",
       "      <td>90</td>\n",
       "      <td>0</td>\n",
       "      <td>2000</td>\n",
       "      <td>3</td>\n",
       "      <td>4</td>\n",
       "      <td>5</td>\n",
       "      <td>1165</td>\n",
       "    </tr>\n",
       "    <tr>\n",
       "      <th>3</th>\n",
       "      <td>14950</td>\n",
       "      <td>26</td>\n",
       "      <td>48000</td>\n",
       "      <td>Diesel</td>\n",
       "      <td>90</td>\n",
       "      <td>0</td>\n",
       "      <td>2000</td>\n",
       "      <td>3</td>\n",
       "      <td>4</td>\n",
       "      <td>5</td>\n",
       "      <td>1165</td>\n",
       "    </tr>\n",
       "    <tr>\n",
       "      <th>4</th>\n",
       "      <td>13750</td>\n",
       "      <td>30</td>\n",
       "      <td>38500</td>\n",
       "      <td>Diesel</td>\n",
       "      <td>90</td>\n",
       "      <td>0</td>\n",
       "      <td>2000</td>\n",
       "      <td>3</td>\n",
       "      <td>4</td>\n",
       "      <td>5</td>\n",
       "      <td>1170</td>\n",
       "    </tr>\n",
       "    <tr>\n",
       "      <th>...</th>\n",
       "      <td>...</td>\n",
       "      <td>...</td>\n",
       "      <td>...</td>\n",
       "      <td>...</td>\n",
       "      <td>...</td>\n",
       "      <td>...</td>\n",
       "      <td>...</td>\n",
       "      <td>...</td>\n",
       "      <td>...</td>\n",
       "      <td>...</td>\n",
       "      <td>...</td>\n",
       "    </tr>\n",
       "    <tr>\n",
       "      <th>1431</th>\n",
       "      <td>7500</td>\n",
       "      <td>69</td>\n",
       "      <td>20544</td>\n",
       "      <td>Petrol</td>\n",
       "      <td>86</td>\n",
       "      <td>0</td>\n",
       "      <td>1300</td>\n",
       "      <td>3</td>\n",
       "      <td>4</td>\n",
       "      <td>5</td>\n",
       "      <td>1025</td>\n",
       "    </tr>\n",
       "    <tr>\n",
       "      <th>1432</th>\n",
       "      <td>10845</td>\n",
       "      <td>72</td>\n",
       "      <td>19000</td>\n",
       "      <td>Petrol</td>\n",
       "      <td>86</td>\n",
       "      <td>0</td>\n",
       "      <td>1300</td>\n",
       "      <td>3</td>\n",
       "      <td>4</td>\n",
       "      <td>5</td>\n",
       "      <td>1015</td>\n",
       "    </tr>\n",
       "    <tr>\n",
       "      <th>1433</th>\n",
       "      <td>8500</td>\n",
       "      <td>71</td>\n",
       "      <td>17016</td>\n",
       "      <td>Petrol</td>\n",
       "      <td>86</td>\n",
       "      <td>0</td>\n",
       "      <td>1300</td>\n",
       "      <td>3</td>\n",
       "      <td>4</td>\n",
       "      <td>5</td>\n",
       "      <td>1015</td>\n",
       "    </tr>\n",
       "    <tr>\n",
       "      <th>1434</th>\n",
       "      <td>7250</td>\n",
       "      <td>70</td>\n",
       "      <td>16916</td>\n",
       "      <td>Petrol</td>\n",
       "      <td>86</td>\n",
       "      <td>0</td>\n",
       "      <td>1300</td>\n",
       "      <td>3</td>\n",
       "      <td>4</td>\n",
       "      <td>5</td>\n",
       "      <td>1015</td>\n",
       "    </tr>\n",
       "    <tr>\n",
       "      <th>1435</th>\n",
       "      <td>6950</td>\n",
       "      <td>76</td>\n",
       "      <td>1</td>\n",
       "      <td>Petrol</td>\n",
       "      <td>110</td>\n",
       "      <td>0</td>\n",
       "      <td>1600</td>\n",
       "      <td>5</td>\n",
       "      <td>4</td>\n",
       "      <td>5</td>\n",
       "      <td>1114</td>\n",
       "    </tr>\n",
       "  </tbody>\n",
       "</table>\n",
       "<p>1436 rows × 11 columns</p>\n",
       "</div>"
      ],
      "text/plain": [
       "      Price  Age_08_04     KM Fuel_Type   HP  Automatic    cc  Doors  \\\n",
       "0     13500         23  46986    Diesel   90          0  2000      3   \n",
       "1     13750         23  72937    Diesel   90          0  2000      3   \n",
       "2     13950         24  41711    Diesel   90          0  2000      3   \n",
       "3     14950         26  48000    Diesel   90          0  2000      3   \n",
       "4     13750         30  38500    Diesel   90          0  2000      3   \n",
       "...     ...        ...    ...       ...  ...        ...   ...    ...   \n",
       "1431   7500         69  20544    Petrol   86          0  1300      3   \n",
       "1432  10845         72  19000    Petrol   86          0  1300      3   \n",
       "1433   8500         71  17016    Petrol   86          0  1300      3   \n",
       "1434   7250         70  16916    Petrol   86          0  1300      3   \n",
       "1435   6950         76      1    Petrol  110          0  1600      5   \n",
       "\n",
       "      Cylinders  Gears  Weight  \n",
       "0             4      5    1165  \n",
       "1             4      5    1165  \n",
       "2             4      5    1165  \n",
       "3             4      5    1165  \n",
       "4             4      5    1170  \n",
       "...         ...    ...     ...  \n",
       "1431          4      5    1025  \n",
       "1432          4      5    1015  \n",
       "1433          4      5    1015  \n",
       "1434          4      5    1015  \n",
       "1435          4      5    1114  \n",
       "\n",
       "[1436 rows x 11 columns]"
      ]
     },
     "execution_count": 3,
     "metadata": {},
     "output_type": "execute_result"
    }
   ],
   "source": [
    "df = pd.read_csv(\"ToyotaCorolla - MLR_7.csv\")\n",
    "df"
   ]
  },
  {
   "cell_type": "markdown",
   "id": "59c2887c-4f9c-4dfc-9d4d-3d8fde7b80e9",
   "metadata": {},
   "source": [
    "###  Rename columns for consistency and readability\n",
    "###  This makes the column names easier to use later in the analysis"
   ]
  },
  {
   "cell_type": "code",
   "execution_count": 4,
   "id": "a7ede82d-1192-46e8-bb30-dbf228e1ae85",
   "metadata": {},
   "outputs": [
    {
     "data": {
      "text/html": [
       "<div>\n",
       "<style scoped>\n",
       "    .dataframe tbody tr th:only-of-type {\n",
       "        vertical-align: middle;\n",
       "    }\n",
       "\n",
       "    .dataframe tbody tr th {\n",
       "        vertical-align: top;\n",
       "    }\n",
       "\n",
       "    .dataframe thead th {\n",
       "        text-align: right;\n",
       "    }\n",
       "</style>\n",
       "<table border=\"1\" class=\"dataframe\">\n",
       "  <thead>\n",
       "    <tr style=\"text-align: right;\">\n",
       "      <th></th>\n",
       "      <th>Price</th>\n",
       "      <th>Age</th>\n",
       "      <th>KM</th>\n",
       "      <th>FuelType</th>\n",
       "      <th>HP</th>\n",
       "      <th>Automatic</th>\n",
       "      <th>CC</th>\n",
       "      <th>Doors</th>\n",
       "      <th>Cylinders</th>\n",
       "      <th>Gears</th>\n",
       "      <th>Weight</th>\n",
       "    </tr>\n",
       "  </thead>\n",
       "  <tbody>\n",
       "    <tr>\n",
       "      <th>0</th>\n",
       "      <td>13500</td>\n",
       "      <td>23</td>\n",
       "      <td>46986</td>\n",
       "      <td>Diesel</td>\n",
       "      <td>90</td>\n",
       "      <td>0</td>\n",
       "      <td>2000</td>\n",
       "      <td>3</td>\n",
       "      <td>4</td>\n",
       "      <td>5</td>\n",
       "      <td>1165</td>\n",
       "    </tr>\n",
       "    <tr>\n",
       "      <th>1</th>\n",
       "      <td>13750</td>\n",
       "      <td>23</td>\n",
       "      <td>72937</td>\n",
       "      <td>Diesel</td>\n",
       "      <td>90</td>\n",
       "      <td>0</td>\n",
       "      <td>2000</td>\n",
       "      <td>3</td>\n",
       "      <td>4</td>\n",
       "      <td>5</td>\n",
       "      <td>1165</td>\n",
       "    </tr>\n",
       "    <tr>\n",
       "      <th>2</th>\n",
       "      <td>13950</td>\n",
       "      <td>24</td>\n",
       "      <td>41711</td>\n",
       "      <td>Diesel</td>\n",
       "      <td>90</td>\n",
       "      <td>0</td>\n",
       "      <td>2000</td>\n",
       "      <td>3</td>\n",
       "      <td>4</td>\n",
       "      <td>5</td>\n",
       "      <td>1165</td>\n",
       "    </tr>\n",
       "    <tr>\n",
       "      <th>3</th>\n",
       "      <td>14950</td>\n",
       "      <td>26</td>\n",
       "      <td>48000</td>\n",
       "      <td>Diesel</td>\n",
       "      <td>90</td>\n",
       "      <td>0</td>\n",
       "      <td>2000</td>\n",
       "      <td>3</td>\n",
       "      <td>4</td>\n",
       "      <td>5</td>\n",
       "      <td>1165</td>\n",
       "    </tr>\n",
       "    <tr>\n",
       "      <th>4</th>\n",
       "      <td>13750</td>\n",
       "      <td>30</td>\n",
       "      <td>38500</td>\n",
       "      <td>Diesel</td>\n",
       "      <td>90</td>\n",
       "      <td>0</td>\n",
       "      <td>2000</td>\n",
       "      <td>3</td>\n",
       "      <td>4</td>\n",
       "      <td>5</td>\n",
       "      <td>1170</td>\n",
       "    </tr>\n",
       "    <tr>\n",
       "      <th>...</th>\n",
       "      <td>...</td>\n",
       "      <td>...</td>\n",
       "      <td>...</td>\n",
       "      <td>...</td>\n",
       "      <td>...</td>\n",
       "      <td>...</td>\n",
       "      <td>...</td>\n",
       "      <td>...</td>\n",
       "      <td>...</td>\n",
       "      <td>...</td>\n",
       "      <td>...</td>\n",
       "    </tr>\n",
       "    <tr>\n",
       "      <th>1431</th>\n",
       "      <td>7500</td>\n",
       "      <td>69</td>\n",
       "      <td>20544</td>\n",
       "      <td>Petrol</td>\n",
       "      <td>86</td>\n",
       "      <td>0</td>\n",
       "      <td>1300</td>\n",
       "      <td>3</td>\n",
       "      <td>4</td>\n",
       "      <td>5</td>\n",
       "      <td>1025</td>\n",
       "    </tr>\n",
       "    <tr>\n",
       "      <th>1432</th>\n",
       "      <td>10845</td>\n",
       "      <td>72</td>\n",
       "      <td>19000</td>\n",
       "      <td>Petrol</td>\n",
       "      <td>86</td>\n",
       "      <td>0</td>\n",
       "      <td>1300</td>\n",
       "      <td>3</td>\n",
       "      <td>4</td>\n",
       "      <td>5</td>\n",
       "      <td>1015</td>\n",
       "    </tr>\n",
       "    <tr>\n",
       "      <th>1433</th>\n",
       "      <td>8500</td>\n",
       "      <td>71</td>\n",
       "      <td>17016</td>\n",
       "      <td>Petrol</td>\n",
       "      <td>86</td>\n",
       "      <td>0</td>\n",
       "      <td>1300</td>\n",
       "      <td>3</td>\n",
       "      <td>4</td>\n",
       "      <td>5</td>\n",
       "      <td>1015</td>\n",
       "    </tr>\n",
       "    <tr>\n",
       "      <th>1434</th>\n",
       "      <td>7250</td>\n",
       "      <td>70</td>\n",
       "      <td>16916</td>\n",
       "      <td>Petrol</td>\n",
       "      <td>86</td>\n",
       "      <td>0</td>\n",
       "      <td>1300</td>\n",
       "      <td>3</td>\n",
       "      <td>4</td>\n",
       "      <td>5</td>\n",
       "      <td>1015</td>\n",
       "    </tr>\n",
       "    <tr>\n",
       "      <th>1435</th>\n",
       "      <td>6950</td>\n",
       "      <td>76</td>\n",
       "      <td>1</td>\n",
       "      <td>Petrol</td>\n",
       "      <td>110</td>\n",
       "      <td>0</td>\n",
       "      <td>1600</td>\n",
       "      <td>5</td>\n",
       "      <td>4</td>\n",
       "      <td>5</td>\n",
       "      <td>1114</td>\n",
       "    </tr>\n",
       "  </tbody>\n",
       "</table>\n",
       "<p>1436 rows × 11 columns</p>\n",
       "</div>"
      ],
      "text/plain": [
       "      Price  Age     KM FuelType   HP  Automatic    CC  Doors  Cylinders  \\\n",
       "0     13500   23  46986   Diesel   90          0  2000      3          4   \n",
       "1     13750   23  72937   Diesel   90          0  2000      3          4   \n",
       "2     13950   24  41711   Diesel   90          0  2000      3          4   \n",
       "3     14950   26  48000   Diesel   90          0  2000      3          4   \n",
       "4     13750   30  38500   Diesel   90          0  2000      3          4   \n",
       "...     ...  ...    ...      ...  ...        ...   ...    ...        ...   \n",
       "1431   7500   69  20544   Petrol   86          0  1300      3          4   \n",
       "1432  10845   72  19000   Petrol   86          0  1300      3          4   \n",
       "1433   8500   71  17016   Petrol   86          0  1300      3          4   \n",
       "1434   7250   70  16916   Petrol   86          0  1300      3          4   \n",
       "1435   6950   76      1   Petrol  110          0  1600      5          4   \n",
       "\n",
       "      Gears  Weight  \n",
       "0         5    1165  \n",
       "1         5    1165  \n",
       "2         5    1165  \n",
       "3         5    1165  \n",
       "4         5    1170  \n",
       "...     ...     ...  \n",
       "1431      5    1025  \n",
       "1432      5    1015  \n",
       "1433      5    1015  \n",
       "1434      5    1015  \n",
       "1435      5    1114  \n",
       "\n",
       "[1436 rows x 11 columns]"
      ]
     },
     "execution_count": 4,
     "metadata": {},
     "output_type": "execute_result"
    }
   ],
   "source": [
    "df = df.rename(columns={\n",
    "    \"Age_08_04\": \"Age\",\n",
    "    \"Fuel_Type\": \"FuelType\",\n",
    "    \"cc\": \"CC\"\n",
    "})\n",
    "df"
   ]
  },
  {
   "cell_type": "markdown",
   "id": "b6b02fe8-b5e1-4b7b-b420-9bbfd20a165a",
   "metadata": {},
   "source": [
    "#### Display summary statistics of all columns"
   ]
  },
  {
   "cell_type": "code",
   "execution_count": 5,
   "id": "f2c69327-e852-4eee-96fb-5be3a2379410",
   "metadata": {},
   "outputs": [
    {
     "data": {
      "text/html": [
       "<div>\n",
       "<style scoped>\n",
       "    .dataframe tbody tr th:only-of-type {\n",
       "        vertical-align: middle;\n",
       "    }\n",
       "\n",
       "    .dataframe tbody tr th {\n",
       "        vertical-align: top;\n",
       "    }\n",
       "\n",
       "    .dataframe thead th {\n",
       "        text-align: right;\n",
       "    }\n",
       "</style>\n",
       "<table border=\"1\" class=\"dataframe\">\n",
       "  <thead>\n",
       "    <tr style=\"text-align: right;\">\n",
       "      <th></th>\n",
       "      <th>Price</th>\n",
       "      <th>Age</th>\n",
       "      <th>KM</th>\n",
       "      <th>HP</th>\n",
       "      <th>Automatic</th>\n",
       "      <th>CC</th>\n",
       "      <th>Doors</th>\n",
       "      <th>Cylinders</th>\n",
       "      <th>Gears</th>\n",
       "      <th>Weight</th>\n",
       "    </tr>\n",
       "  </thead>\n",
       "  <tbody>\n",
       "    <tr>\n",
       "      <th>count</th>\n",
       "      <td>1436.000000</td>\n",
       "      <td>1436.000000</td>\n",
       "      <td>1436.000000</td>\n",
       "      <td>1436.000000</td>\n",
       "      <td>1436.000000</td>\n",
       "      <td>1436.00000</td>\n",
       "      <td>1436.000000</td>\n",
       "      <td>1436.0</td>\n",
       "      <td>1436.000000</td>\n",
       "      <td>1436.00000</td>\n",
       "    </tr>\n",
       "    <tr>\n",
       "      <th>mean</th>\n",
       "      <td>10730.824513</td>\n",
       "      <td>55.947075</td>\n",
       "      <td>68533.259749</td>\n",
       "      <td>101.502089</td>\n",
       "      <td>0.055710</td>\n",
       "      <td>1576.85585</td>\n",
       "      <td>4.033426</td>\n",
       "      <td>4.0</td>\n",
       "      <td>5.026462</td>\n",
       "      <td>1072.45961</td>\n",
       "    </tr>\n",
       "    <tr>\n",
       "      <th>std</th>\n",
       "      <td>3626.964585</td>\n",
       "      <td>18.599988</td>\n",
       "      <td>37506.448872</td>\n",
       "      <td>14.981080</td>\n",
       "      <td>0.229441</td>\n",
       "      <td>424.38677</td>\n",
       "      <td>0.952677</td>\n",
       "      <td>0.0</td>\n",
       "      <td>0.188510</td>\n",
       "      <td>52.64112</td>\n",
       "    </tr>\n",
       "    <tr>\n",
       "      <th>min</th>\n",
       "      <td>4350.000000</td>\n",
       "      <td>1.000000</td>\n",
       "      <td>1.000000</td>\n",
       "      <td>69.000000</td>\n",
       "      <td>0.000000</td>\n",
       "      <td>1300.00000</td>\n",
       "      <td>2.000000</td>\n",
       "      <td>4.0</td>\n",
       "      <td>3.000000</td>\n",
       "      <td>1000.00000</td>\n",
       "    </tr>\n",
       "    <tr>\n",
       "      <th>25%</th>\n",
       "      <td>8450.000000</td>\n",
       "      <td>44.000000</td>\n",
       "      <td>43000.000000</td>\n",
       "      <td>90.000000</td>\n",
       "      <td>0.000000</td>\n",
       "      <td>1400.00000</td>\n",
       "      <td>3.000000</td>\n",
       "      <td>4.0</td>\n",
       "      <td>5.000000</td>\n",
       "      <td>1040.00000</td>\n",
       "    </tr>\n",
       "    <tr>\n",
       "      <th>50%</th>\n",
       "      <td>9900.000000</td>\n",
       "      <td>61.000000</td>\n",
       "      <td>63389.500000</td>\n",
       "      <td>110.000000</td>\n",
       "      <td>0.000000</td>\n",
       "      <td>1600.00000</td>\n",
       "      <td>4.000000</td>\n",
       "      <td>4.0</td>\n",
       "      <td>5.000000</td>\n",
       "      <td>1070.00000</td>\n",
       "    </tr>\n",
       "    <tr>\n",
       "      <th>75%</th>\n",
       "      <td>11950.000000</td>\n",
       "      <td>70.000000</td>\n",
       "      <td>87020.750000</td>\n",
       "      <td>110.000000</td>\n",
       "      <td>0.000000</td>\n",
       "      <td>1600.00000</td>\n",
       "      <td>5.000000</td>\n",
       "      <td>4.0</td>\n",
       "      <td>5.000000</td>\n",
       "      <td>1085.00000</td>\n",
       "    </tr>\n",
       "    <tr>\n",
       "      <th>max</th>\n",
       "      <td>32500.000000</td>\n",
       "      <td>80.000000</td>\n",
       "      <td>243000.000000</td>\n",
       "      <td>192.000000</td>\n",
       "      <td>1.000000</td>\n",
       "      <td>16000.00000</td>\n",
       "      <td>5.000000</td>\n",
       "      <td>4.0</td>\n",
       "      <td>6.000000</td>\n",
       "      <td>1615.00000</td>\n",
       "    </tr>\n",
       "  </tbody>\n",
       "</table>\n",
       "</div>"
      ],
      "text/plain": [
       "              Price          Age             KM           HP    Automatic  \\\n",
       "count   1436.000000  1436.000000    1436.000000  1436.000000  1436.000000   \n",
       "mean   10730.824513    55.947075   68533.259749   101.502089     0.055710   \n",
       "std     3626.964585    18.599988   37506.448872    14.981080     0.229441   \n",
       "min     4350.000000     1.000000       1.000000    69.000000     0.000000   \n",
       "25%     8450.000000    44.000000   43000.000000    90.000000     0.000000   \n",
       "50%     9900.000000    61.000000   63389.500000   110.000000     0.000000   \n",
       "75%    11950.000000    70.000000   87020.750000   110.000000     0.000000   \n",
       "max    32500.000000    80.000000  243000.000000   192.000000     1.000000   \n",
       "\n",
       "                CC        Doors  Cylinders        Gears      Weight  \n",
       "count   1436.00000  1436.000000     1436.0  1436.000000  1436.00000  \n",
       "mean    1576.85585     4.033426        4.0     5.026462  1072.45961  \n",
       "std      424.38677     0.952677        0.0     0.188510    52.64112  \n",
       "min     1300.00000     2.000000        4.0     3.000000  1000.00000  \n",
       "25%     1400.00000     3.000000        4.0     5.000000  1040.00000  \n",
       "50%     1600.00000     4.000000        4.0     5.000000  1070.00000  \n",
       "75%     1600.00000     5.000000        4.0     5.000000  1085.00000  \n",
       "max    16000.00000     5.000000        4.0     6.000000  1615.00000  "
      ]
     },
     "execution_count": 5,
     "metadata": {},
     "output_type": "execute_result"
    }
   ],
   "source": [
    "df.describe()"
   ]
  },
  {
   "cell_type": "markdown",
   "id": "33d2b7f4-3a5d-4b82-bd98-4d2d4b4e223a",
   "metadata": {},
   "source": [
    "###  Histogram of Price\n",
    "#### Helps to visualize the distribution of car prices in the dataset"
   ]
  },
  {
   "cell_type": "code",
   "execution_count": 6,
   "id": "e6e83621-e23e-452a-98ce-f320287fb5f5",
   "metadata": {},
   "outputs": [
    {
     "data": {
      "image/png": "[encoded data removed]",
      "text/plain": [
       "<Figure size 600x400 with 1 Axes>"
      ]
     },
     "metadata": {},
     "output_type": "display_data"
    }
   ],
   "source": [
    "plt.figure(figsize=(6,4))\n",
    "sns.histplot(df['Price'], bins=30, kde=True)               # KDE adds a smooth curve showing data density\n",
    "plt.title(\"Price Distribution\")\n",
    "plt.show()"
   ]
  },
  {
   "cell_type": "markdown",
   "id": "ba82460a-898b-4463-88f0-af15197c6f1a",
   "metadata": {},
   "source": [
    "####  Scatter plot: Price vs Age\n",
    "####  Checks how car price changes with respect to the car’s age"
   ]
  },
  {
   "cell_type": "code",
   "execution_count": 7,
   "id": "2411d0db-7e0c-4951-b1fd-ac6b7af2fcae",
   "metadata": {},
   "outputs": [
    {
     "data": {
      "image/png": "[encoded data removed]",
      "text/plain": [
       "<Figure size 600x400 with 1 Axes>"
      ]
     },
     "metadata": {},
     "output_type": "display_data"
    }
   ],
   "source": [
    "plt.figure(figsize=(6,4))\n",
    "sns.scatterplot(x=\"Age\", y=\"Price\", data=df)\n",
    "plt.title(\"Price vs Age\")\n",
    "plt.show()\n"
   ]
  },
  {
   "cell_type": "markdown",
   "id": "4a161d87-995d-40ee-9c5e-6fa808fda7d3",
   "metadata": {},
   "source": [
    "#### Scatter plot: Price vs KM\n",
    "#### Checks the relationship between kilometers driven and car price"
   ]
  },
  {
   "cell_type": "code",
   "execution_count": 9,
   "id": "838c79b1-9200-4791-bba4-a9697d59305f",
   "metadata": {},
   "outputs": [
    {
     "data": {
      "image/png": "[encoded data removed]",
      "text/plain": [
       "<Figure size 600x400 with 1 Axes>"
      ]
     },
     "metadata": {},
     "output_type": "display_data"
    }
   ],
   "source": [
    "plt.figure(figsize=(6,4))\n",
    "sns.scatterplot(x=\"KM\", y=\"Price\", data=df)\n",
    "plt.title(\"Price vs KM\")\n",
    "plt.show()"
   ]
  },
  {
   "cell_type": "markdown",
   "id": "7333e858-6963-410d-a54d-a3f1316e8b6c",
   "metadata": {},
   "source": [
    "#### Boxplot: Price by FuelType\n",
    "#### Helps compare how car prices vary among different fuel types (e.g., Petrol, Diesel, CNG)"
   ]
  },
  {
   "cell_type": "code",
   "execution_count": 12,
   "id": "c7a32b25-f0f1-4c12-a364-588c31f632af",
   "metadata": {},
   "outputs": [
    {
     "data": {
      "image/png": "[encoded data removed]",
      "text/plain": [
       "<Figure size 600x400 with 1 Axes>"
      ]
     },
     "metadata": {},
     "output_type": "display_data"
    }
   ],
   "source": [
    "plt.figure(figsize=(6,4))\n",
    "sns.boxplot(x=\"FuelType\", y=\"Price\", data=df)\n",
    "plt.title(\"Price by FuelType\")\n",
    "plt.show()"
   ]
  },
  {
   "cell_type": "code",
   "execution_count": null,
   "id": "252878ba-cc6c-4a47-b3f7-2f604a1e18ab",
   "metadata": {},
   "outputs": [],
   "source": []
  },
  {
   "cell_type": "markdown",
   "id": "4f23ff29-2701-498d-b1b5-08a21cfd8aa4",
   "metadata": {},
   "source": [
    "#   Task 2: Training and Test Split "
   ]
  },
  {
   "cell_type": "markdown",
   "id": "ffcbc508-e15f-496b-a0c7-da4b03d2bb7b",
   "metadata": {},
   "source": [
    "### Import the required function for splitting data"
   ]
  },
  {
   "cell_type": "code",
   "execution_count": 13,
   "id": "a11805d9-2bec-4fea-a89b-b60d3800a8a1",
   "metadata": {},
   "outputs": [],
   "source": [
    "from sklearn.model_selection import train_test_split"
   ]
  },
  {
   "cell_type": "markdown",
   "id": "084bd461-56b7-4df3-99ab-befca2e92779",
   "metadata": {},
   "source": [
    "#### Define feature matrix (X) and target vector (y)"
   ]
  },
  {
   "cell_type": "code",
   "execution_count": 14,
   "id": "b4ccae5a-253f-4bbb-8dd4-ef21aa150186",
   "metadata": {},
   "outputs": [],
   "source": [
    "# X: Independent variables (features used to predict the target)\n",
    "# y: Dependent variable (target column to be predicted)\n",
    "X = df[['Age', 'KM', 'FuelType', 'HP', 'Automatic', 'CC', 'Doors', 'Weight', 'Cylinders', 'Gears']]\n",
    "y = df['Price']"
   ]
  },
  {
   "cell_type": "code",
   "execution_count": null,
   "id": "c785c190-ba16-41ae-ac04-e7e800a50a5f",
   "metadata": {},
   "outputs": [],
   "source": []
  },
  {
   "cell_type": "code",
   "execution_count": 15,
   "id": "4bdbaa6d-99af-4b45-9b37-6ebdfd1071cd",
   "metadata": {},
   "outputs": [],
   "source": [
    "# Split the dataset into training and testing sets\n",
    "# test_size=0.2 → 20% of data will be used for testing, 80% for training\n",
    "# random_state=42 → ensures the split is reproducible (same random shuffle each run)\n",
    "X_train, X_test, y_train, y_test = train_test_split(\n",
    "    X, y, test_size=0.2, random_state=42\n",
    ")"
   ]
  },
  {
   "cell_type": "code",
   "execution_count": 16,
   "id": "8fb05a50-3e07-4e5a-a56f-f3730a4e3213",
   "metadata": {},
   "outputs": [
    {
     "data": {
      "text/plain": [
       "(1148, 10)"
      ]
     },
     "execution_count": 16,
     "metadata": {},
     "output_type": "execute_result"
    }
   ],
   "source": [
    "X_train.shape"
   ]
  },
  {
   "cell_type": "code",
   "execution_count": 17,
   "id": "8cb4e096-8a8e-4415-bd62-deed8d269d12",
   "metadata": {},
   "outputs": [
    {
     "data": {
      "text/plain": [
       "(288, 10)"
      ]
     },
     "execution_count": 17,
     "metadata": {},
     "output_type": "execute_result"
    }
   ],
   "source": [
    "X_test.shape"
   ]
  },
  {
   "cell_type": "code",
   "execution_count": null,
   "id": "d67c8f85-4dbc-438a-87d9-ea157738432c",
   "metadata": {},
   "outputs": [],
   "source": []
  },
  {
   "cell_type": "markdown",
   "id": "0b264bb0-770c-4285-8727-8084e0daff83",
   "metadata": {},
   "source": [
    "#  Task 3: Build Multiple Regression Models "
   ]
  },
  {
   "cell_type": "markdown",
   "id": "c0753f9e-dd56-45ba-a647-ef3c9090aa84",
   "metadata": {},
   "source": [
    "#### Import required preprocessing and modeling libraries"
   ]
  },
  {
   "cell_type": "code",
   "execution_count": 18,
   "id": "bd90a0d1-e439-4ee4-a0a9-4f51b71b5408",
   "metadata": {},
   "outputs": [],
   "source": [
    "from sklearn.preprocessing import StandardScaler, OneHotEncoder, PolynomialFeatures\n",
    "from sklearn.compose import ColumnTransformer\n",
    "from sklearn.pipeline import Pipeline\n",
    "from sklearn.linear_model import LinearRegression\n",
    "import numpy as np"
   ]
  },
  {
   "cell_type": "code",
   "execution_count": 19,
   "id": "f45cc74f-5780-4b2e-9016-537b943fa001",
   "metadata": {},
   "outputs": [
    {
     "data": {
      "text/plain": [
       "(['Age',\n",
       "  'KM',\n",
       "  'HP',\n",
       "  'Automatic',\n",
       "  'CC',\n",
       "  'Doors',\n",
       "  'Weight',\n",
       "  'Cylinders',\n",
       "  'Gears'],\n",
       " ['FuelType'])"
      ]
     },
     "execution_count": 19,
     "metadata": {},
     "output_type": "execute_result"
    }
   ],
   "source": [
    "# -----------------------------------------------\n",
    "# STEP 1: Define Preprocessing Steps\n",
    "# -----------------------------------------------\n",
    "\n",
    "# Separate numeric and categorical columns\n",
    "numeric_features = ['Age', 'KM', 'HP', 'Automatic', 'CC', 'Doors', 'Weight', 'Cylinders', 'Gears']\n",
    "categorical_features = ['FuelType']\n",
    "numeric_features,categorical_features"
   ]
  },
  {
   "cell_type": "markdown",
   "id": "1ce2366f-78e6-4591-b2c2-5ab2e60e074f",
   "metadata": {},
   "source": [
    "###  ColumnTransformer allows different preprocessing for numeric and categorical data"
   ]
  },
  {
   "cell_type": "code",
   "execution_count": 20,
   "id": "40f5d9ea-8785-4d47-941f-792591e69155",
   "metadata": {},
   "outputs": [
    {
     "data": {
      "text/html": [
       "<style>#sk-container-id-1 {color: black;}#sk-container-id-1 pre{padding: 0;}#sk-container-id-1 div.sk-toggleable {background-color: white;}#sk-container-id-1 label.sk-toggleable__label {cursor: pointer;display: block;width: 100%;margin-bottom: 0;padding: 0.3em;box-sizing: border-box;text-align: center;}#sk-container-id-1 label.sk-toggleable__label-arrow:before {content: \"▸\";float: left;margin-right: 0.25em;color: #696969;}#sk-container-id-1 label.sk-toggleable__label-arrow:hover:before {color: black;}#sk-container-id-1 div.sk-estimator:hover label.sk-toggleable__label-arrow:before {color: black;}#sk-container-id-1 div.sk-toggleable__content {max-height: 0;max-width: 0;overflow: hidden;text-align: left;background-color: #f0f8ff;}#sk-container-id-1 div.sk-toggleable__content pre {margin: 0.2em;color: black;border-radius: 0.25em;background-color: #f0f8ff;}#sk-container-id-1 input.sk-toggleable__control:checked~div.sk-toggleable__content {max-height: 200px;max-width: 100%;overflow: auto;}#sk-container-id-1 input.sk-toggleable__control:checked~label.sk-toggleable__label-arrow:before {content: \"▾\";}#sk-container-id-1 div.sk-estimator input.sk-toggleable__control:checked~label.sk-toggleable__label {background-color: #d4ebff;}#sk-container-id-1 div.sk-label input.sk-toggleable__control:checked~label.sk-toggleable__label {background-color: #d4ebff;}#sk-container-id-1 input.sk-hidden--visually {border: 0;clip: rect(1px 1px 1px 1px);clip: rect(1px, 1px, 1px, 1px);height: 1px;margin: -1px;overflow: hidden;padding: 0;position: absolute;width: 1px;}#sk-container-id-1 div.sk-estimator {font-family: monospace;background-color: #f0f8ff;border: 1px dotted black;border-radius: 0.25em;box-sizing: border-box;margin-bottom: 0.5em;}#sk-container-id-1 div.sk-estimator:hover {background-color: #d4ebff;}#sk-container-id-1 div.sk-parallel-item::after {content: \"\";width: 100%;border-bottom: 1px solid gray;flex-grow: 1;}#sk-container-id-1 div.sk-label:hover label.sk-toggleable__label {background-color: #d4ebff;}#sk-container-id-1 div.sk-serial::before {content: \"\";position: absolute;border-left: 1px solid gray;box-sizing: border-box;top: 0;bottom: 0;left: 50%;z-index: 0;}#sk-container-id-1 div.sk-serial {display: flex;flex-direction: column;align-items: center;background-color: white;padding-right: 0.2em;padding-left: 0.2em;position: relative;}#sk-container-id-1 div.sk-item {position: relative;z-index: 1;}#sk-container-id-1 div.sk-parallel {display: flex;align-items: stretch;justify-content: center;background-color: white;position: relative;}#sk-container-id-1 div.sk-item::before, #sk-container-id-1 div.sk-parallel-item::before {content: \"\";position: absolute;border-left: 1px solid gray;box-sizing: border-box;top: 0;bottom: 0;left: 50%;z-index: -1;}#sk-container-id-1 div.sk-parallel-item {display: flex;flex-direction: column;z-index: 1;position: relative;background-color: white;}#sk-container-id-1 div.sk-parallel-item:first-child::after {align-self: flex-end;width: 50%;}#sk-container-id-1 div.sk-parallel-item:last-child::after {align-self: flex-start;width: 50%;}#sk-container-id-1 div.sk-parallel-item:only-child::after {width: 0;}#sk-container-id-1 div.sk-dashed-wrapped {border: 1px dashed gray;margin: 0 0.4em 0.5em 0.4em;box-sizing: border-box;padding-bottom: 0.4em;background-color: white;}#sk-container-id-1 div.sk-label label {font-family: monospace;font-weight: bold;display: inline-block;line-height: 1.2em;}#sk-container-id-1 div.sk-label-container {text-align: center;}#sk-container-id-1 div.sk-container {/* jupyter's `normalize.less` sets `[hidden] { display: none; }` but bootstrap.min.css set `[hidden] { display: none !important; }` so we also need the `!important` here to be able to override the default hidden behavior on the sphinx rendered scikit-learn.org. See: https://github.com/scikit-learn/scikit-learn/issues/21755 */display: inline-block !important;position: relative;}#sk-container-id-1 div.sk-text-repr-fallback {display: none;}</style><div id=\"sk-container-id-1\" class=\"sk-top-container\"><div class=\"sk-text-repr-fallback\"><pre>ColumnTransformer(transformers=[(&#x27;num&#x27;, StandardScaler(),\n",
       "                                 [&#x27;Age&#x27;, &#x27;KM&#x27;, &#x27;HP&#x27;, &#x27;Automatic&#x27;, &#x27;CC&#x27;, &#x27;Doors&#x27;,\n",
       "                                  &#x27;Weight&#x27;, &#x27;Cylinders&#x27;, &#x27;Gears&#x27;]),\n",
       "                                (&#x27;cat&#x27;, OneHotEncoder(drop=&#x27;first&#x27;),\n",
       "                                 [&#x27;FuelType&#x27;])])</pre><b>In a Jupyter environment, please rerun this cell to show the HTML representation or trust the notebook. <br />On GitHub, the HTML representation is unable to render, please try loading this page with nbviewer.org.</b></div><div class=\"sk-container\" hidden><div class=\"sk-item sk-dashed-wrapped\"><div class=\"sk-label-container\"><div class=\"sk-label sk-toggleable\"><input class=\"sk-toggleable__control sk-hidden--visually\" id=\"sk-estimator-id-1\" type=\"checkbox\" ><label for=\"sk-estimator-id-1\" class=\"sk-toggleable__label sk-toggleable__label-arrow\">ColumnTransformer</label><div class=\"sk-toggleable__content\"><pre>ColumnTransformer(transformers=[(&#x27;num&#x27;, StandardScaler(),\n",
       "                                 [&#x27;Age&#x27;, &#x27;KM&#x27;, &#x27;HP&#x27;, &#x27;Automatic&#x27;, &#x27;CC&#x27;, &#x27;Doors&#x27;,\n",
       "                                  &#x27;Weight&#x27;, &#x27;Cylinders&#x27;, &#x27;Gears&#x27;]),\n",
       "                                (&#x27;cat&#x27;, OneHotEncoder(drop=&#x27;first&#x27;),\n",
       "                                 [&#x27;FuelType&#x27;])])</pre></div></div></div><div class=\"sk-parallel\"><div class=\"sk-parallel-item\"><div class=\"sk-item\"><div class=\"sk-label-container\"><div class=\"sk-label sk-toggleable\"><input class=\"sk-toggleable__control sk-hidden--visually\" id=\"sk-estimator-id-2\" type=\"checkbox\" ><label for=\"sk-estimator-id-2\" class=\"sk-toggleable__label sk-toggleable__label-arrow\">num</label><div class=\"sk-toggleable__content\"><pre>[&#x27;Age&#x27;, &#x27;KM&#x27;, &#x27;HP&#x27;, &#x27;Automatic&#x27;, &#x27;CC&#x27;, &#x27;Doors&#x27;, &#x27;Weight&#x27;, &#x27;Cylinders&#x27;, &#x27;Gears&#x27;]</pre></div></div></div><div class=\"sk-serial\"><div class=\"sk-item\"><div class=\"sk-estimator sk-toggleable\"><input class=\"sk-toggleable__control sk-hidden--visually\" id=\"sk-estimator-id-3\" type=\"checkbox\" ><label for=\"sk-estimator-id-3\" class=\"sk-toggleable__label sk-toggleable__label-arrow\">StandardScaler</label><div class=\"sk-toggleable__content\"><pre>StandardScaler()</pre></div></div></div></div></div></div><div class=\"sk-parallel-item\"><div class=\"sk-item\"><div class=\"sk-label-container\"><div class=\"sk-label sk-toggleable\"><input class=\"sk-toggleable__control sk-hidden--visually\" id=\"sk-estimator-id-4\" type=\"checkbox\" ><label for=\"sk-estimator-id-4\" class=\"sk-toggleable__label sk-toggleable__label-arrow\">cat</label><div class=\"sk-toggleable__content\"><pre>[&#x27;FuelType&#x27;]</pre></div></div></div><div class=\"sk-serial\"><div class=\"sk-item\"><div class=\"sk-estimator sk-toggleable\"><input class=\"sk-toggleable__control sk-hidden--visually\" id=\"sk-estimator-id-5\" type=\"checkbox\" ><label for=\"sk-estimator-id-5\" class=\"sk-toggleable__label sk-toggleable__label-arrow\">OneHotEncoder</label><div class=\"sk-toggleable__content\"><pre>OneHotEncoder(drop=&#x27;first&#x27;)</pre></div></div></div></div></div></div></div></div></div></div>"
      ],
      "text/plain": [
       "ColumnTransformer(transformers=[('num', StandardScaler(),\n",
       "                                 ['Age', 'KM', 'HP', 'Automatic', 'CC', 'Doors',\n",
       "                                  'Weight', 'Cylinders', 'Gears']),\n",
       "                                ('cat', OneHotEncoder(drop='first'),\n",
       "                                 ['FuelType'])])"
      ]
     },
     "execution_count": 20,
     "metadata": {},
     "output_type": "execute_result"
    }
   ],
   "source": [
    "# - Numeric columns are standardized using StandardScaler (mean=0, std=1)\n",
    "# - Categorical columns are encoded using OneHotEncoder (drop='first' to avoid dummy variable trap)\n",
    "preprocessor = ColumnTransformer([\n",
    "    ('num', StandardScaler(), numeric_features),\n",
    "    ('cat', OneHotEncoder(drop=\"first\"), categorical_features)\n",
    "])\n",
    "preprocessor"
   ]
  },
  {
   "cell_type": "code",
   "execution_count": null,
   "id": "74a746cf-7b12-478d-978e-0d7279a6e6cf",
   "metadata": {},
   "outputs": [],
   "source": []
  },
  {
   "cell_type": "code",
   "execution_count": 21,
   "id": "3cee9672-1d44-4741-8d68-df31db5b83ca",
   "metadata": {},
   "outputs": [
    {
     "data": {
      "text/html": [
       "<style>#sk-container-id-2 {color: black;}#sk-container-id-2 pre{padding: 0;}#sk-container-id-2 div.sk-toggleable {background-color: white;}#sk-container-id-2 label.sk-toggleable__label {cursor: pointer;display: block;width: 100%;margin-bottom: 0;padding: 0.3em;box-sizing: border-box;text-align: center;}#sk-container-id-2 label.sk-toggleable__label-arrow:before {content: \"▸\";float: left;margin-right: 0.25em;color: #696969;}#sk-container-id-2 label.sk-toggleable__label-arrow:hover:before {color: black;}#sk-container-id-2 div.sk-estimator:hover label.sk-toggleable__label-arrow:before {color: black;}#sk-container-id-2 div.sk-toggleable__content {max-height: 0;max-width: 0;overflow: hidden;text-align: left;background-color: #f0f8ff;}#sk-container-id-2 div.sk-toggleable__content pre {margin: 0.2em;color: black;border-radius: 0.25em;background-color: #f0f8ff;}#sk-container-id-2 input.sk-toggleable__control:checked~div.sk-toggleable__content {max-height: 200px;max-width: 100%;overflow: auto;}#sk-container-id-2 input.sk-toggleable__control:checked~label.sk-toggleable__label-arrow:before {content: \"▾\";}#sk-container-id-2 div.sk-estimator input.sk-toggleable__control:checked~label.sk-toggleable__label {background-color: #d4ebff;}#sk-container-id-2 div.sk-label input.sk-toggleable__control:checked~label.sk-toggleable__label {background-color: #d4ebff;}#sk-container-id-2 input.sk-hidden--visually {border: 0;clip: rect(1px 1px 1px 1px);clip: rect(1px, 1px, 1px, 1px);height: 1px;margin: -1px;overflow: hidden;padding: 0;position: absolute;width: 1px;}#sk-container-id-2 div.sk-estimator {font-family: monospace;background-color: #f0f8ff;border: 1px dotted black;border-radius: 0.25em;box-sizing: border-box;margin-bottom: 0.5em;}#sk-container-id-2 div.sk-estimator:hover {background-color: #d4ebff;}#sk-container-id-2 div.sk-parallel-item::after {content: \"\";width: 100%;border-bottom: 1px solid gray;flex-grow: 1;}#sk-container-id-2 div.sk-label:hover label.sk-toggleable__label {background-color: #d4ebff;}#sk-container-id-2 div.sk-serial::before {content: \"\";position: absolute;border-left: 1px solid gray;box-sizing: border-box;top: 0;bottom: 0;left: 50%;z-index: 0;}#sk-container-id-2 div.sk-serial {display: flex;flex-direction: column;align-items: center;background-color: white;padding-right: 0.2em;padding-left: 0.2em;position: relative;}#sk-container-id-2 div.sk-item {position: relative;z-index: 1;}#sk-container-id-2 div.sk-parallel {display: flex;align-items: stretch;justify-content: center;background-color: white;position: relative;}#sk-container-id-2 div.sk-item::before, #sk-container-id-2 div.sk-parallel-item::before {content: \"\";position: absolute;border-left: 1px solid gray;box-sizing: border-box;top: 0;bottom: 0;left: 50%;z-index: -1;}#sk-container-id-2 div.sk-parallel-item {display: flex;flex-direction: column;z-index: 1;position: relative;background-color: white;}#sk-container-id-2 div.sk-parallel-item:first-child::after {align-self: flex-end;width: 50%;}#sk-container-id-2 div.sk-parallel-item:last-child::after {align-self: flex-start;width: 50%;}#sk-container-id-2 div.sk-parallel-item:only-child::after {width: 0;}#sk-container-id-2 div.sk-dashed-wrapped {border: 1px dashed gray;margin: 0 0.4em 0.5em 0.4em;box-sizing: border-box;padding-bottom: 0.4em;background-color: white;}#sk-container-id-2 div.sk-label label {font-family: monospace;font-weight: bold;display: inline-block;line-height: 1.2em;}#sk-container-id-2 div.sk-label-container {text-align: center;}#sk-container-id-2 div.sk-container {/* jupyter's `normalize.less` sets `[hidden] { display: none; }` but bootstrap.min.css set `[hidden] { display: none !important; }` so we also need the `!important` here to be able to override the default hidden behavior on the sphinx rendered scikit-learn.org. See: https://github.com/scikit-learn/scikit-learn/issues/21755 */display: inline-block !important;position: relative;}#sk-container-id-2 div.sk-text-repr-fallback {display: none;}</style><div id=\"sk-container-id-2\" class=\"sk-top-container\"><div class=\"sk-text-repr-fallback\"><pre>Pipeline(steps=[(&#x27;pre&#x27;,\n",
       "                 ColumnTransformer(transformers=[(&#x27;num&#x27;, StandardScaler(),\n",
       "                                                  [&#x27;Age&#x27;, &#x27;KM&#x27;, &#x27;HP&#x27;,\n",
       "                                                   &#x27;Automatic&#x27;, &#x27;CC&#x27;, &#x27;Doors&#x27;,\n",
       "                                                   &#x27;Weight&#x27;, &#x27;Cylinders&#x27;,\n",
       "                                                   &#x27;Gears&#x27;]),\n",
       "                                                 (&#x27;cat&#x27;,\n",
       "                                                  OneHotEncoder(drop=&#x27;first&#x27;),\n",
       "                                                  [&#x27;FuelType&#x27;])])),\n",
       "                (&#x27;lr&#x27;, LinearRegression())])</pre><b>In a Jupyter environment, please rerun this cell to show the HTML representation or trust the notebook. <br />On GitHub, the HTML representation is unable to render, please try loading this page with nbviewer.org.</b></div><div class=\"sk-container\" hidden><div class=\"sk-item sk-dashed-wrapped\"><div class=\"sk-label-container\"><div class=\"sk-label sk-toggleable\"><input class=\"sk-toggleable__control sk-hidden--visually\" id=\"sk-estimator-id-6\" type=\"checkbox\" ><label for=\"sk-estimator-id-6\" class=\"sk-toggleable__label sk-toggleable__label-arrow\">Pipeline</label><div class=\"sk-toggleable__content\"><pre>Pipeline(steps=[(&#x27;pre&#x27;,\n",
       "                 ColumnTransformer(transformers=[(&#x27;num&#x27;, StandardScaler(),\n",
       "                                                  [&#x27;Age&#x27;, &#x27;KM&#x27;, &#x27;HP&#x27;,\n",
       "                                                   &#x27;Automatic&#x27;, &#x27;CC&#x27;, &#x27;Doors&#x27;,\n",
       "                                                   &#x27;Weight&#x27;, &#x27;Cylinders&#x27;,\n",
       "                                                   &#x27;Gears&#x27;]),\n",
       "                                                 (&#x27;cat&#x27;,\n",
       "                                                  OneHotEncoder(drop=&#x27;first&#x27;),\n",
       "                                                  [&#x27;FuelType&#x27;])])),\n",
       "                (&#x27;lr&#x27;, LinearRegression())])</pre></div></div></div><div class=\"sk-serial\"><div class=\"sk-item sk-dashed-wrapped\"><div class=\"sk-label-container\"><div class=\"sk-label sk-toggleable\"><input class=\"sk-toggleable__control sk-hidden--visually\" id=\"sk-estimator-id-7\" type=\"checkbox\" ><label for=\"sk-estimator-id-7\" class=\"sk-toggleable__label sk-toggleable__label-arrow\">pre: ColumnTransformer</label><div class=\"sk-toggleable__content\"><pre>ColumnTransformer(transformers=[(&#x27;num&#x27;, StandardScaler(),\n",
       "                                 [&#x27;Age&#x27;, &#x27;KM&#x27;, &#x27;HP&#x27;, &#x27;Automatic&#x27;, &#x27;CC&#x27;, &#x27;Doors&#x27;,\n",
       "                                  &#x27;Weight&#x27;, &#x27;Cylinders&#x27;, &#x27;Gears&#x27;]),\n",
       "                                (&#x27;cat&#x27;, OneHotEncoder(drop=&#x27;first&#x27;),\n",
       "                                 [&#x27;FuelType&#x27;])])</pre></div></div></div><div class=\"sk-parallel\"><div class=\"sk-parallel-item\"><div class=\"sk-item\"><div class=\"sk-label-container\"><div class=\"sk-label sk-toggleable\"><input class=\"sk-toggleable__control sk-hidden--visually\" id=\"sk-estimator-id-8\" type=\"checkbox\" ><label for=\"sk-estimator-id-8\" class=\"sk-toggleable__label sk-toggleable__label-arrow\">num</label><div class=\"sk-toggleable__content\"><pre>[&#x27;Age&#x27;, &#x27;KM&#x27;, &#x27;HP&#x27;, &#x27;Automatic&#x27;, &#x27;CC&#x27;, &#x27;Doors&#x27;, &#x27;Weight&#x27;, &#x27;Cylinders&#x27;, &#x27;Gears&#x27;]</pre></div></div></div><div class=\"sk-serial\"><div class=\"sk-item\"><div class=\"sk-estimator sk-toggleable\"><input class=\"sk-toggleable__control sk-hidden--visually\" id=\"sk-estimator-id-9\" type=\"checkbox\" ><label for=\"sk-estimator-id-9\" class=\"sk-toggleable__label sk-toggleable__label-arrow\">StandardScaler</label><div class=\"sk-toggleable__content\"><pre>StandardScaler()</pre></div></div></div></div></div></div><div class=\"sk-parallel-item\"><div class=\"sk-item\"><div class=\"sk-label-container\"><div class=\"sk-label sk-toggleable\"><input class=\"sk-toggleable__control sk-hidden--visually\" id=\"sk-estimator-id-10\" type=\"checkbox\" ><label for=\"sk-estimator-id-10\" class=\"sk-toggleable__label sk-toggleable__label-arrow\">cat</label><div class=\"sk-toggleable__content\"><pre>[&#x27;FuelType&#x27;]</pre></div></div></div><div class=\"sk-serial\"><div class=\"sk-item\"><div class=\"sk-estimator sk-toggleable\"><input class=\"sk-toggleable__control sk-hidden--visually\" id=\"sk-estimator-id-11\" type=\"checkbox\" ><label for=\"sk-estimator-id-11\" class=\"sk-toggleable__label sk-toggleable__label-arrow\">OneHotEncoder</label><div class=\"sk-toggleable__content\"><pre>OneHotEncoder(drop=&#x27;first&#x27;)</pre></div></div></div></div></div></div></div></div><div class=\"sk-item\"><div class=\"sk-estimator sk-toggleable\"><input class=\"sk-toggleable__control sk-hidden--visually\" id=\"sk-estimator-id-12\" type=\"checkbox\" ><label for=\"sk-estimator-id-12\" class=\"sk-toggleable__label sk-toggleable__label-arrow\">LinearRegression</label><div class=\"sk-toggleable__content\"><pre>LinearRegression()</pre></div></div></div></div></div></div></div>"
      ],
      "text/plain": [
       "Pipeline(steps=[('pre',\n",
       "                 ColumnTransformer(transformers=[('num', StandardScaler(),\n",
       "                                                  ['Age', 'KM', 'HP',\n",
       "                                                   'Automatic', 'CC', 'Doors',\n",
       "                                                   'Weight', 'Cylinders',\n",
       "                                                   'Gears']),\n",
       "                                                 ('cat',\n",
       "                                                  OneHotEncoder(drop='first'),\n",
       "                                                  ['FuelType'])])),\n",
       "                ('lr', LinearRegression())])"
      ]
     },
     "execution_count": 21,
     "metadata": {},
     "output_type": "execute_result"
    }
   ],
   "source": [
    "# -----------------------------------------------\n",
    "# STEP 2: Model 1 — Simple Multiple Linear Regression\n",
    "# -----------------------------------------------\n",
    "\n",
    "# Create a pipeline that combines preprocessing and the regression model\n",
    "model1 = Pipeline([\n",
    "    (\"pre\", preprocessor),        # Apply preprocessing\n",
    "    (\"lr\", LinearRegression())    # Fit Linear Regression model\n",
    "])\n",
    "model1"
   ]
  },
  {
   "cell_type": "markdown",
   "id": "2f1daf2a-3ffc-40e9-83df-a686631923fe",
   "metadata": {},
   "source": [
    "###  Train (fit) the model on training data"
   ]
  },
  {
   "cell_type": "code",
   "execution_count": 23,
   "id": "d8bf056f-a0b1-4482-9f33-f3a87ca80fd4",
   "metadata": {},
   "outputs": [
    {
     "data": {
      "text/html": [
       "<style>#sk-container-id-3 {color: black;}#sk-container-id-3 pre{padding: 0;}#sk-container-id-3 div.sk-toggleable {background-color: white;}#sk-container-id-3 label.sk-toggleable__label {cursor: pointer;display: block;width: 100%;margin-bottom: 0;padding: 0.3em;box-sizing: border-box;text-align: center;}#sk-container-id-3 label.sk-toggleable__label-arrow:before {content: \"▸\";float: left;margin-right: 0.25em;color: #696969;}#sk-container-id-3 label.sk-toggleable__label-arrow:hover:before {color: black;}#sk-container-id-3 div.sk-estimator:hover label.sk-toggleable__label-arrow:before {color: black;}#sk-container-id-3 div.sk-toggleable__content {max-height: 0;max-width: 0;overflow: hidden;text-align: left;background-color: #f0f8ff;}#sk-container-id-3 div.sk-toggleable__content pre {margin: 0.2em;color: black;border-radius: 0.25em;background-color: #f0f8ff;}#sk-container-id-3 input.sk-toggleable__control:checked~div.sk-toggleable__content {max-height: 200px;max-width: 100%;overflow: auto;}#sk-container-id-3 input.sk-toggleable__control:checked~label.sk-toggleable__label-arrow:before {content: \"▾\";}#sk-container-id-3 div.sk-estimator input.sk-toggleable__control:checked~label.sk-toggleable__label {background-color: #d4ebff;}#sk-container-id-3 div.sk-label input.sk-toggleable__control:checked~label.sk-toggleable__label {background-color: #d4ebff;}#sk-container-id-3 input.sk-hidden--visually {border: 0;clip: rect(1px 1px 1px 1px);clip: rect(1px, 1px, 1px, 1px);height: 1px;margin: -1px;overflow: hidden;padding: 0;position: absolute;width: 1px;}#sk-container-id-3 div.sk-estimator {font-family: monospace;background-color: #f0f8ff;border: 1px dotted black;border-radius: 0.25em;box-sizing: border-box;margin-bottom: 0.5em;}#sk-container-id-3 div.sk-estimator:hover {background-color: #d4ebff;}#sk-container-id-3 div.sk-parallel-item::after {content: \"\";width: 100%;border-bottom: 1px solid gray;flex-grow: 1;}#sk-container-id-3 div.sk-label:hover label.sk-toggleable__label {background-color: #d4ebff;}#sk-container-id-3 div.sk-serial::before {content: \"\";position: absolute;border-left: 1px solid gray;box-sizing: border-box;top: 0;bottom: 0;left: 50%;z-index: 0;}#sk-container-id-3 div.sk-serial {display: flex;flex-direction: column;align-items: center;background-color: white;padding-right: 0.2em;padding-left: 0.2em;position: relative;}#sk-container-id-3 div.sk-item {position: relative;z-index: 1;}#sk-container-id-3 div.sk-parallel {display: flex;align-items: stretch;justify-content: center;background-color: white;position: relative;}#sk-container-id-3 div.sk-item::before, #sk-container-id-3 div.sk-parallel-item::before {content: \"\";position: absolute;border-left: 1px solid gray;box-sizing: border-box;top: 0;bottom: 0;left: 50%;z-index: -1;}#sk-container-id-3 div.sk-parallel-item {display: flex;flex-direction: column;z-index: 1;position: relative;background-color: white;}#sk-container-id-3 div.sk-parallel-item:first-child::after {align-self: flex-end;width: 50%;}#sk-container-id-3 div.sk-parallel-item:last-child::after {align-self: flex-start;width: 50%;}#sk-container-id-3 div.sk-parallel-item:only-child::after {width: 0;}#sk-container-id-3 div.sk-dashed-wrapped {border: 1px dashed gray;margin: 0 0.4em 0.5em 0.4em;box-sizing: border-box;padding-bottom: 0.4em;background-color: white;}#sk-container-id-3 div.sk-label label {font-family: monospace;font-weight: bold;display: inline-block;line-height: 1.2em;}#sk-container-id-3 div.sk-label-container {text-align: center;}#sk-container-id-3 div.sk-container {/* jupyter's `normalize.less` sets `[hidden] { display: none; }` but bootstrap.min.css set `[hidden] { display: none !important; }` so we also need the `!important` here to be able to override the default hidden behavior on the sphinx rendered scikit-learn.org. See: https://github.com/scikit-learn/scikit-learn/issues/21755 */display: inline-block !important;position: relative;}#sk-container-id-3 div.sk-text-repr-fallback {display: none;}</style><div id=\"sk-container-id-3\" class=\"sk-top-container\"><div class=\"sk-text-repr-fallback\"><pre>Pipeline(steps=[(&#x27;pre&#x27;,\n",
       "                 ColumnTransformer(transformers=[(&#x27;num&#x27;, StandardScaler(),\n",
       "                                                  [&#x27;Age&#x27;, &#x27;KM&#x27;, &#x27;HP&#x27;,\n",
       "                                                   &#x27;Automatic&#x27;, &#x27;CC&#x27;, &#x27;Doors&#x27;,\n",
       "                                                   &#x27;Weight&#x27;, &#x27;Cylinders&#x27;,\n",
       "                                                   &#x27;Gears&#x27;]),\n",
       "                                                 (&#x27;cat&#x27;,\n",
       "                                                  OneHotEncoder(drop=&#x27;first&#x27;),\n",
       "                                                  [&#x27;FuelType&#x27;])])),\n",
       "                (&#x27;lr&#x27;, LinearRegression())])</pre><b>In a Jupyter environment, please rerun this cell to show the HTML representation or trust the notebook. <br />On GitHub, the HTML representation is unable to render, please try loading this page with nbviewer.org.</b></div><div class=\"sk-container\" hidden><div class=\"sk-item sk-dashed-wrapped\"><div class=\"sk-label-container\"><div class=\"sk-label sk-toggleable\"><input class=\"sk-toggleable__control sk-hidden--visually\" id=\"sk-estimator-id-13\" type=\"checkbox\" ><label for=\"sk-estimator-id-13\" class=\"sk-toggleable__label sk-toggleable__label-arrow\">Pipeline</label><div class=\"sk-toggleable__content\"><pre>Pipeline(steps=[(&#x27;pre&#x27;,\n",
       "                 ColumnTransformer(transformers=[(&#x27;num&#x27;, StandardScaler(),\n",
       "                                                  [&#x27;Age&#x27;, &#x27;KM&#x27;, &#x27;HP&#x27;,\n",
       "                                                   &#x27;Automatic&#x27;, &#x27;CC&#x27;, &#x27;Doors&#x27;,\n",
       "                                                   &#x27;Weight&#x27;, &#x27;Cylinders&#x27;,\n",
       "                                                   &#x27;Gears&#x27;]),\n",
       "                                                 (&#x27;cat&#x27;,\n",
       "                                                  OneHotEncoder(drop=&#x27;first&#x27;),\n",
       "                                                  [&#x27;FuelType&#x27;])])),\n",
       "                (&#x27;lr&#x27;, LinearRegression())])</pre></div></div></div><div class=\"sk-serial\"><div class=\"sk-item sk-dashed-wrapped\"><div class=\"sk-label-container\"><div class=\"sk-label sk-toggleable\"><input class=\"sk-toggleable__control sk-hidden--visually\" id=\"sk-estimator-id-14\" type=\"checkbox\" ><label for=\"sk-estimator-id-14\" class=\"sk-toggleable__label sk-toggleable__label-arrow\">pre: ColumnTransformer</label><div class=\"sk-toggleable__content\"><pre>ColumnTransformer(transformers=[(&#x27;num&#x27;, StandardScaler(),\n",
       "                                 [&#x27;Age&#x27;, &#x27;KM&#x27;, &#x27;HP&#x27;, &#x27;Automatic&#x27;, &#x27;CC&#x27;, &#x27;Doors&#x27;,\n",
       "                                  &#x27;Weight&#x27;, &#x27;Cylinders&#x27;, &#x27;Gears&#x27;]),\n",
       "                                (&#x27;cat&#x27;, OneHotEncoder(drop=&#x27;first&#x27;),\n",
       "                                 [&#x27;FuelType&#x27;])])</pre></div></div></div><div class=\"sk-parallel\"><div class=\"sk-parallel-item\"><div class=\"sk-item\"><div class=\"sk-label-container\"><div class=\"sk-label sk-toggleable\"><input class=\"sk-toggleable__control sk-hidden--visually\" id=\"sk-estimator-id-15\" type=\"checkbox\" ><label for=\"sk-estimator-id-15\" class=\"sk-toggleable__label sk-toggleable__label-arrow\">num</label><div class=\"sk-toggleable__content\"><pre>[&#x27;Age&#x27;, &#x27;KM&#x27;, &#x27;HP&#x27;, &#x27;Automatic&#x27;, &#x27;CC&#x27;, &#x27;Doors&#x27;, &#x27;Weight&#x27;, &#x27;Cylinders&#x27;, &#x27;Gears&#x27;]</pre></div></div></div><div class=\"sk-serial\"><div class=\"sk-item\"><div class=\"sk-estimator sk-toggleable\"><input class=\"sk-toggleable__control sk-hidden--visually\" id=\"sk-estimator-id-16\" type=\"checkbox\" ><label for=\"sk-estimator-id-16\" class=\"sk-toggleable__label sk-toggleable__label-arrow\">StandardScaler</label><div class=\"sk-toggleable__content\"><pre>StandardScaler()</pre></div></div></div></div></div></div><div class=\"sk-parallel-item\"><div class=\"sk-item\"><div class=\"sk-label-container\"><div class=\"sk-label sk-toggleable\"><input class=\"sk-toggleable__control sk-hidden--visually\" id=\"sk-estimator-id-17\" type=\"checkbox\" ><label for=\"sk-estimator-id-17\" class=\"sk-toggleable__label sk-toggleable__label-arrow\">cat</label><div class=\"sk-toggleable__content\"><pre>[&#x27;FuelType&#x27;]</pre></div></div></div><div class=\"sk-serial\"><div class=\"sk-item\"><div class=\"sk-estimator sk-toggleable\"><input class=\"sk-toggleable__control sk-hidden--visually\" id=\"sk-estimator-id-18\" type=\"checkbox\" ><label for=\"sk-estimator-id-18\" class=\"sk-toggleable__label sk-toggleable__label-arrow\">OneHotEncoder</label><div class=\"sk-toggleable__content\"><pre>OneHotEncoder(drop=&#x27;first&#x27;)</pre></div></div></div></div></div></div></div></div><div class=\"sk-item\"><div class=\"sk-estimator sk-toggleable\"><input class=\"sk-toggleable__control sk-hidden--visually\" id=\"sk-estimator-id-19\" type=\"checkbox\" ><label for=\"sk-estimator-id-19\" class=\"sk-toggleable__label sk-toggleable__label-arrow\">LinearRegression</label><div class=\"sk-toggleable__content\"><pre>LinearRegression()</pre></div></div></div></div></div></div></div>"
      ],
      "text/plain": [
       "Pipeline(steps=[('pre',\n",
       "                 ColumnTransformer(transformers=[('num', StandardScaler(),\n",
       "                                                  ['Age', 'KM', 'HP',\n",
       "                                                   'Automatic', 'CC', 'Doors',\n",
       "                                                   'Weight', 'Cylinders',\n",
       "                                                   'Gears']),\n",
       "                                                 ('cat',\n",
       "                                                  OneHotEncoder(drop='first'),\n",
       "                                                  ['FuelType'])])),\n",
       "                ('lr', LinearRegression())])"
      ]
     },
     "execution_count": 23,
     "metadata": {},
     "output_type": "execute_result"
    }
   ],
   "source": [
    "model1.fit(X_train, y_train)\n"
   ]
  },
  {
   "cell_type": "code",
   "execution_count": 22,
   "id": "0ed4f13b-b2b8-4aae-9f47-b78f7b916505",
   "metadata": {},
   "outputs": [
    {
     "data": {
      "text/plain": [
       "899     9.159152\n",
       "881     9.189729\n",
       "310     9.468928\n",
       "1145    8.771990\n",
       "31      9.664659\n",
       "          ...   \n",
       "1095    8.839422\n",
       "1130    8.981053\n",
       "1294    8.846641\n",
       "860     9.185125\n",
       "1126    8.824825\n",
       "Name: Price, Length: 1148, dtype: float64"
      ]
     },
     "execution_count": 22,
     "metadata": {},
     "output_type": "execute_result"
    }
   ],
   "source": [
    "# -----------------------------------------------\n",
    "# STEP 3: Model 2 — Linear Regression with Log-Transformed Target\n",
    "# -----------------------------------------------\n",
    "\n",
    "# Log-transform the target variable to reduce skewness and handle heteroscedasticity\n",
    "# np.log1p(y) is used instead of np.log(y) to safely handle zero or near-zero values\n",
    "y_train_log = np.log1p(y_train)\n",
    "y_train_log"
   ]
  },
  {
   "cell_type": "code",
   "execution_count": 24,
   "id": "574429d6-3b11-4216-82f0-c1311508bce8",
   "metadata": {},
   "outputs": [
    {
     "data": {
      "text/html": [
       "<style>#sk-container-id-4 {color: black;}#sk-container-id-4 pre{padding: 0;}#sk-container-id-4 div.sk-toggleable {background-color: white;}#sk-container-id-4 label.sk-toggleable__label {cursor: pointer;display: block;width: 100%;margin-bottom: 0;padding: 0.3em;box-sizing: border-box;text-align: center;}#sk-container-id-4 label.sk-toggleable__label-arrow:before {content: \"▸\";float: left;margin-right: 0.25em;color: #696969;}#sk-container-id-4 label.sk-toggleable__label-arrow:hover:before {color: black;}#sk-container-id-4 div.sk-estimator:hover label.sk-toggleable__label-arrow:before {color: black;}#sk-container-id-4 div.sk-toggleable__content {max-height: 0;max-width: 0;overflow: hidden;text-align: left;background-color: #f0f8ff;}#sk-container-id-4 div.sk-toggleable__content pre {margin: 0.2em;color: black;border-radius: 0.25em;background-color: #f0f8ff;}#sk-container-id-4 input.sk-toggleable__control:checked~div.sk-toggleable__content {max-height: 200px;max-width: 100%;overflow: auto;}#sk-container-id-4 input.sk-toggleable__control:checked~label.sk-toggleable__label-arrow:before {content: \"▾\";}#sk-container-id-4 div.sk-estimator input.sk-toggleable__control:checked~label.sk-toggleable__label {background-color: #d4ebff;}#sk-container-id-4 div.sk-label input.sk-toggleable__control:checked~label.sk-toggleable__label {background-color: #d4ebff;}#sk-container-id-4 input.sk-hidden--visually {border: 0;clip: rect(1px 1px 1px 1px);clip: rect(1px, 1px, 1px, 1px);height: 1px;margin: -1px;overflow: hidden;padding: 0;position: absolute;width: 1px;}#sk-container-id-4 div.sk-estimator {font-family: monospace;background-color: #f0f8ff;border: 1px dotted black;border-radius: 0.25em;box-sizing: border-box;margin-bottom: 0.5em;}#sk-container-id-4 div.sk-estimator:hover {background-color: #d4ebff;}#sk-container-id-4 div.sk-parallel-item::after {content: \"\";width: 100%;border-bottom: 1px solid gray;flex-grow: 1;}#sk-container-id-4 div.sk-label:hover label.sk-toggleable__label {background-color: #d4ebff;}#sk-container-id-4 div.sk-serial::before {content: \"\";position: absolute;border-left: 1px solid gray;box-sizing: border-box;top: 0;bottom: 0;left: 50%;z-index: 0;}#sk-container-id-4 div.sk-serial {display: flex;flex-direction: column;align-items: center;background-color: white;padding-right: 0.2em;padding-left: 0.2em;position: relative;}#sk-container-id-4 div.sk-item {position: relative;z-index: 1;}#sk-container-id-4 div.sk-parallel {display: flex;align-items: stretch;justify-content: center;background-color: white;position: relative;}#sk-container-id-4 div.sk-item::before, #sk-container-id-4 div.sk-parallel-item::before {content: \"\";position: absolute;border-left: 1px solid gray;box-sizing: border-box;top: 0;bottom: 0;left: 50%;z-index: -1;}#sk-container-id-4 div.sk-parallel-item {display: flex;flex-direction: column;z-index: 1;position: relative;background-color: white;}#sk-container-id-4 div.sk-parallel-item:first-child::after {align-self: flex-end;width: 50%;}#sk-container-id-4 div.sk-parallel-item:last-child::after {align-self: flex-start;width: 50%;}#sk-container-id-4 div.sk-parallel-item:only-child::after {width: 0;}#sk-container-id-4 div.sk-dashed-wrapped {border: 1px dashed gray;margin: 0 0.4em 0.5em 0.4em;box-sizing: border-box;padding-bottom: 0.4em;background-color: white;}#sk-container-id-4 div.sk-label label {font-family: monospace;font-weight: bold;display: inline-block;line-height: 1.2em;}#sk-container-id-4 div.sk-label-container {text-align: center;}#sk-container-id-4 div.sk-container {/* jupyter's `normalize.less` sets `[hidden] { display: none; }` but bootstrap.min.css set `[hidden] { display: none !important; }` so we also need the `!important` here to be able to override the default hidden behavior on the sphinx rendered scikit-learn.org. See: https://github.com/scikit-learn/scikit-learn/issues/21755 */display: inline-block !important;position: relative;}#sk-container-id-4 div.sk-text-repr-fallback {display: none;}</style><div id=\"sk-container-id-4\" class=\"sk-top-container\"><div class=\"sk-text-repr-fallback\"><pre>Pipeline(steps=[(&#x27;pre&#x27;,\n",
       "                 ColumnTransformer(transformers=[(&#x27;num&#x27;, StandardScaler(),\n",
       "                                                  [&#x27;Age&#x27;, &#x27;KM&#x27;, &#x27;HP&#x27;,\n",
       "                                                   &#x27;Automatic&#x27;, &#x27;CC&#x27;, &#x27;Doors&#x27;,\n",
       "                                                   &#x27;Weight&#x27;, &#x27;Cylinders&#x27;,\n",
       "                                                   &#x27;Gears&#x27;]),\n",
       "                                                 (&#x27;cat&#x27;,\n",
       "                                                  OneHotEncoder(drop=&#x27;first&#x27;),\n",
       "                                                  [&#x27;FuelType&#x27;])])),\n",
       "                (&#x27;lr&#x27;, LinearRegression())])</pre><b>In a Jupyter environment, please rerun this cell to show the HTML representation or trust the notebook. <br />On GitHub, the HTML representation is unable to render, please try loading this page with nbviewer.org.</b></div><div class=\"sk-container\" hidden><div class=\"sk-item sk-dashed-wrapped\"><div class=\"sk-label-container\"><div class=\"sk-label sk-toggleable\"><input class=\"sk-toggleable__control sk-hidden--visually\" id=\"sk-estimator-id-20\" type=\"checkbox\" ><label for=\"sk-estimator-id-20\" class=\"sk-toggleable__label sk-toggleable__label-arrow\">Pipeline</label><div class=\"sk-toggleable__content\"><pre>Pipeline(steps=[(&#x27;pre&#x27;,\n",
       "                 ColumnTransformer(transformers=[(&#x27;num&#x27;, StandardScaler(),\n",
       "                                                  [&#x27;Age&#x27;, &#x27;KM&#x27;, &#x27;HP&#x27;,\n",
       "                                                   &#x27;Automatic&#x27;, &#x27;CC&#x27;, &#x27;Doors&#x27;,\n",
       "                                                   &#x27;Weight&#x27;, &#x27;Cylinders&#x27;,\n",
       "                                                   &#x27;Gears&#x27;]),\n",
       "                                                 (&#x27;cat&#x27;,\n",
       "                                                  OneHotEncoder(drop=&#x27;first&#x27;),\n",
       "                                                  [&#x27;FuelType&#x27;])])),\n",
       "                (&#x27;lr&#x27;, LinearRegression())])</pre></div></div></div><div class=\"sk-serial\"><div class=\"sk-item sk-dashed-wrapped\"><div class=\"sk-label-container\"><div class=\"sk-label sk-toggleable\"><input class=\"sk-toggleable__control sk-hidden--visually\" id=\"sk-estimator-id-21\" type=\"checkbox\" ><label for=\"sk-estimator-id-21\" class=\"sk-toggleable__label sk-toggleable__label-arrow\">pre: ColumnTransformer</label><div class=\"sk-toggleable__content\"><pre>ColumnTransformer(transformers=[(&#x27;num&#x27;, StandardScaler(),\n",
       "                                 [&#x27;Age&#x27;, &#x27;KM&#x27;, &#x27;HP&#x27;, &#x27;Automatic&#x27;, &#x27;CC&#x27;, &#x27;Doors&#x27;,\n",
       "                                  &#x27;Weight&#x27;, &#x27;Cylinders&#x27;, &#x27;Gears&#x27;]),\n",
       "                                (&#x27;cat&#x27;, OneHotEncoder(drop=&#x27;first&#x27;),\n",
       "                                 [&#x27;FuelType&#x27;])])</pre></div></div></div><div class=\"sk-parallel\"><div class=\"sk-parallel-item\"><div class=\"sk-item\"><div class=\"sk-label-container\"><div class=\"sk-label sk-toggleable\"><input class=\"sk-toggleable__control sk-hidden--visually\" id=\"sk-estimator-id-22\" type=\"checkbox\" ><label for=\"sk-estimator-id-22\" class=\"sk-toggleable__label sk-toggleable__label-arrow\">num</label><div class=\"sk-toggleable__content\"><pre>[&#x27;Age&#x27;, &#x27;KM&#x27;, &#x27;HP&#x27;, &#x27;Automatic&#x27;, &#x27;CC&#x27;, &#x27;Doors&#x27;, &#x27;Weight&#x27;, &#x27;Cylinders&#x27;, &#x27;Gears&#x27;]</pre></div></div></div><div class=\"sk-serial\"><div class=\"sk-item\"><div class=\"sk-estimator sk-toggleable\"><input class=\"sk-toggleable__control sk-hidden--visually\" id=\"sk-estimator-id-23\" type=\"checkbox\" ><label for=\"sk-estimator-id-23\" class=\"sk-toggleable__label sk-toggleable__label-arrow\">StandardScaler</label><div class=\"sk-toggleable__content\"><pre>StandardScaler()</pre></div></div></div></div></div></div><div class=\"sk-parallel-item\"><div class=\"sk-item\"><div class=\"sk-label-container\"><div class=\"sk-label sk-toggleable\"><input class=\"sk-toggleable__control sk-hidden--visually\" id=\"sk-estimator-id-24\" type=\"checkbox\" ><label for=\"sk-estimator-id-24\" class=\"sk-toggleable__label sk-toggleable__label-arrow\">cat</label><div class=\"sk-toggleable__content\"><pre>[&#x27;FuelType&#x27;]</pre></div></div></div><div class=\"sk-serial\"><div class=\"sk-item\"><div class=\"sk-estimator sk-toggleable\"><input class=\"sk-toggleable__control sk-hidden--visually\" id=\"sk-estimator-id-25\" type=\"checkbox\" ><label for=\"sk-estimator-id-25\" class=\"sk-toggleable__label sk-toggleable__label-arrow\">OneHotEncoder</label><div class=\"sk-toggleable__content\"><pre>OneHotEncoder(drop=&#x27;first&#x27;)</pre></div></div></div></div></div></div></div></div><div class=\"sk-item\"><div class=\"sk-estimator sk-toggleable\"><input class=\"sk-toggleable__control sk-hidden--visually\" id=\"sk-estimator-id-26\" type=\"checkbox\" ><label for=\"sk-estimator-id-26\" class=\"sk-toggleable__label sk-toggleable__label-arrow\">LinearRegression</label><div class=\"sk-toggleable__content\"><pre>LinearRegression()</pre></div></div></div></div></div></div></div>"
      ],
      "text/plain": [
       "Pipeline(steps=[('pre',\n",
       "                 ColumnTransformer(transformers=[('num', StandardScaler(),\n",
       "                                                  ['Age', 'KM', 'HP',\n",
       "                                                   'Automatic', 'CC', 'Doors',\n",
       "                                                   'Weight', 'Cylinders',\n",
       "                                                   'Gears']),\n",
       "                                                 ('cat',\n",
       "                                                  OneHotEncoder(drop='first'),\n",
       "                                                  ['FuelType'])])),\n",
       "                ('lr', LinearRegression())])"
      ]
     },
     "execution_count": 24,
     "metadata": {},
     "output_type": "execute_result"
    }
   ],
   "source": [
    "# Create another pipeline (same preprocessing, different target)\n",
    "model2 = Pipeline([\n",
    "    (\"pre\", preprocessor),\n",
    "    (\"lr\", LinearRegression())\n",
    "])\n",
    "model2"
   ]
  },
  {
   "cell_type": "code",
   "execution_count": 25,
   "id": "18c94b81-043b-4efb-8bab-7fa9d017b8c2",
   "metadata": {},
   "outputs": [
    {
     "data": {
      "text/html": [
       "<style>#sk-container-id-5 {color: black;}#sk-container-id-5 pre{padding: 0;}#sk-container-id-5 div.sk-toggleable {background-color: white;}#sk-container-id-5 label.sk-toggleable__label {cursor: pointer;display: block;width: 100%;margin-bottom: 0;padding: 0.3em;box-sizing: border-box;text-align: center;}#sk-container-id-5 label.sk-toggleable__label-arrow:before {content: \"▸\";float: left;margin-right: 0.25em;color: #696969;}#sk-container-id-5 label.sk-toggleable__label-arrow:hover:before {color: black;}#sk-container-id-5 div.sk-estimator:hover label.sk-toggleable__label-arrow:before {color: black;}#sk-container-id-5 div.sk-toggleable__content {max-height: 0;max-width: 0;overflow: hidden;text-align: left;background-color: #f0f8ff;}#sk-container-id-5 div.sk-toggleable__content pre {margin: 0.2em;color: black;border-radius: 0.25em;background-color: #f0f8ff;}#sk-container-id-5 input.sk-toggleable__control:checked~div.sk-toggleable__content {max-height: 200px;max-width: 100%;overflow: auto;}#sk-container-id-5 input.sk-toggleable__control:checked~label.sk-toggleable__label-arrow:before {content: \"▾\";}#sk-container-id-5 div.sk-estimator input.sk-toggleable__control:checked~label.sk-toggleable__label {background-color: #d4ebff;}#sk-container-id-5 div.sk-label input.sk-toggleable__control:checked~label.sk-toggleable__label {background-color: #d4ebff;}#sk-container-id-5 input.sk-hidden--visually {border: 0;clip: rect(1px 1px 1px 1px);clip: rect(1px, 1px, 1px, 1px);height: 1px;margin: -1px;overflow: hidden;padding: 0;position: absolute;width: 1px;}#sk-container-id-5 div.sk-estimator {font-family: monospace;background-color: #f0f8ff;border: 1px dotted black;border-radius: 0.25em;box-sizing: border-box;margin-bottom: 0.5em;}#sk-container-id-5 div.sk-estimator:hover {background-color: #d4ebff;}#sk-container-id-5 div.sk-parallel-item::after {content: \"\";width: 100%;border-bottom: 1px solid gray;flex-grow: 1;}#sk-container-id-5 div.sk-label:hover label.sk-toggleable__label {background-color: #d4ebff;}#sk-container-id-5 div.sk-serial::before {content: \"\";position: absolute;border-left: 1px solid gray;box-sizing: border-box;top: 0;bottom: 0;left: 50%;z-index: 0;}#sk-container-id-5 div.sk-serial {display: flex;flex-direction: column;align-items: center;background-color: white;padding-right: 0.2em;padding-left: 0.2em;position: relative;}#sk-container-id-5 div.sk-item {position: relative;z-index: 1;}#sk-container-id-5 div.sk-parallel {display: flex;align-items: stretch;justify-content: center;background-color: white;position: relative;}#sk-container-id-5 div.sk-item::before, #sk-container-id-5 div.sk-parallel-item::before {content: \"\";position: absolute;border-left: 1px solid gray;box-sizing: border-box;top: 0;bottom: 0;left: 50%;z-index: -1;}#sk-container-id-5 div.sk-parallel-item {display: flex;flex-direction: column;z-index: 1;position: relative;background-color: white;}#sk-container-id-5 div.sk-parallel-item:first-child::after {align-self: flex-end;width: 50%;}#sk-container-id-5 div.sk-parallel-item:last-child::after {align-self: flex-start;width: 50%;}#sk-container-id-5 div.sk-parallel-item:only-child::after {width: 0;}#sk-container-id-5 div.sk-dashed-wrapped {border: 1px dashed gray;margin: 0 0.4em 0.5em 0.4em;box-sizing: border-box;padding-bottom: 0.4em;background-color: white;}#sk-container-id-5 div.sk-label label {font-family: monospace;font-weight: bold;display: inline-block;line-height: 1.2em;}#sk-container-id-5 div.sk-label-container {text-align: center;}#sk-container-id-5 div.sk-container {/* jupyter's `normalize.less` sets `[hidden] { display: none; }` but bootstrap.min.css set `[hidden] { display: none !important; }` so we also need the `!important` here to be able to override the default hidden behavior on the sphinx rendered scikit-learn.org. See: https://github.com/scikit-learn/scikit-learn/issues/21755 */display: inline-block !important;position: relative;}#sk-container-id-5 div.sk-text-repr-fallback {display: none;}</style><div id=\"sk-container-id-5\" class=\"sk-top-container\"><div class=\"sk-text-repr-fallback\"><pre>Pipeline(steps=[(&#x27;pre&#x27;,\n",
       "                 ColumnTransformer(transformers=[(&#x27;num&#x27;, StandardScaler(),\n",
       "                                                  [&#x27;Age&#x27;, &#x27;KM&#x27;, &#x27;HP&#x27;,\n",
       "                                                   &#x27;Automatic&#x27;, &#x27;CC&#x27;, &#x27;Doors&#x27;,\n",
       "                                                   &#x27;Weight&#x27;, &#x27;Cylinders&#x27;,\n",
       "                                                   &#x27;Gears&#x27;]),\n",
       "                                                 (&#x27;cat&#x27;,\n",
       "                                                  OneHotEncoder(drop=&#x27;first&#x27;),\n",
       "                                                  [&#x27;FuelType&#x27;])])),\n",
       "                (&#x27;lr&#x27;, LinearRegression())])</pre><b>In a Jupyter environment, please rerun this cell to show the HTML representation or trust the notebook. <br />On GitHub, the HTML representation is unable to render, please try loading this page with nbviewer.org.</b></div><div class=\"sk-container\" hidden><div class=\"sk-item sk-dashed-wrapped\"><div class=\"sk-label-container\"><div class=\"sk-label sk-toggleable\"><input class=\"sk-toggleable__control sk-hidden--visually\" id=\"sk-estimator-id-27\" type=\"checkbox\" ><label for=\"sk-estimator-id-27\" class=\"sk-toggleable__label sk-toggleable__label-arrow\">Pipeline</label><div class=\"sk-toggleable__content\"><pre>Pipeline(steps=[(&#x27;pre&#x27;,\n",
       "                 ColumnTransformer(transformers=[(&#x27;num&#x27;, StandardScaler(),\n",
       "                                                  [&#x27;Age&#x27;, &#x27;KM&#x27;, &#x27;HP&#x27;,\n",
       "                                                   &#x27;Automatic&#x27;, &#x27;CC&#x27;, &#x27;Doors&#x27;,\n",
       "                                                   &#x27;Weight&#x27;, &#x27;Cylinders&#x27;,\n",
       "                                                   &#x27;Gears&#x27;]),\n",
       "                                                 (&#x27;cat&#x27;,\n",
       "                                                  OneHotEncoder(drop=&#x27;first&#x27;),\n",
       "                                                  [&#x27;FuelType&#x27;])])),\n",
       "                (&#x27;lr&#x27;, LinearRegression())])</pre></div></div></div><div class=\"sk-serial\"><div class=\"sk-item sk-dashed-wrapped\"><div class=\"sk-label-container\"><div class=\"sk-label sk-toggleable\"><input class=\"sk-toggleable__control sk-hidden--visually\" id=\"sk-estimator-id-28\" type=\"checkbox\" ><label for=\"sk-estimator-id-28\" class=\"sk-toggleable__label sk-toggleable__label-arrow\">pre: ColumnTransformer</label><div class=\"sk-toggleable__content\"><pre>ColumnTransformer(transformers=[(&#x27;num&#x27;, StandardScaler(),\n",
       "                                 [&#x27;Age&#x27;, &#x27;KM&#x27;, &#x27;HP&#x27;, &#x27;Automatic&#x27;, &#x27;CC&#x27;, &#x27;Doors&#x27;,\n",
       "                                  &#x27;Weight&#x27;, &#x27;Cylinders&#x27;, &#x27;Gears&#x27;]),\n",
       "                                (&#x27;cat&#x27;, OneHotEncoder(drop=&#x27;first&#x27;),\n",
       "                                 [&#x27;FuelType&#x27;])])</pre></div></div></div><div class=\"sk-parallel\"><div class=\"sk-parallel-item\"><div class=\"sk-item\"><div class=\"sk-label-container\"><div class=\"sk-label sk-toggleable\"><input class=\"sk-toggleable__control sk-hidden--visually\" id=\"sk-estimator-id-29\" type=\"checkbox\" ><label for=\"sk-estimator-id-29\" class=\"sk-toggleable__label sk-toggleable__label-arrow\">num</label><div class=\"sk-toggleable__content\"><pre>[&#x27;Age&#x27;, &#x27;KM&#x27;, &#x27;HP&#x27;, &#x27;Automatic&#x27;, &#x27;CC&#x27;, &#x27;Doors&#x27;, &#x27;Weight&#x27;, &#x27;Cylinders&#x27;, &#x27;Gears&#x27;]</pre></div></div></div><div class=\"sk-serial\"><div class=\"sk-item\"><div class=\"sk-estimator sk-toggleable\"><input class=\"sk-toggleable__control sk-hidden--visually\" id=\"sk-estimator-id-30\" type=\"checkbox\" ><label for=\"sk-estimator-id-30\" class=\"sk-toggleable__label sk-toggleable__label-arrow\">StandardScaler</label><div class=\"sk-toggleable__content\"><pre>StandardScaler()</pre></div></div></div></div></div></div><div class=\"sk-parallel-item\"><div class=\"sk-item\"><div class=\"sk-label-container\"><div class=\"sk-label sk-toggleable\"><input class=\"sk-toggleable__control sk-hidden--visually\" id=\"sk-estimator-id-31\" type=\"checkbox\" ><label for=\"sk-estimator-id-31\" class=\"sk-toggleable__label sk-toggleable__label-arrow\">cat</label><div class=\"sk-toggleable__content\"><pre>[&#x27;FuelType&#x27;]</pre></div></div></div><div class=\"sk-serial\"><div class=\"sk-item\"><div class=\"sk-estimator sk-toggleable\"><input class=\"sk-toggleable__control sk-hidden--visually\" id=\"sk-estimator-id-32\" type=\"checkbox\" ><label for=\"sk-estimator-id-32\" class=\"sk-toggleable__label sk-toggleable__label-arrow\">OneHotEncoder</label><div class=\"sk-toggleable__content\"><pre>OneHotEncoder(drop=&#x27;first&#x27;)</pre></div></div></div></div></div></div></div></div><div class=\"sk-item\"><div class=\"sk-estimator sk-toggleable\"><input class=\"sk-toggleable__control sk-hidden--visually\" id=\"sk-estimator-id-33\" type=\"checkbox\" ><label for=\"sk-estimator-id-33\" class=\"sk-toggleable__label sk-toggleable__label-arrow\">LinearRegression</label><div class=\"sk-toggleable__content\"><pre>LinearRegression()</pre></div></div></div></div></div></div></div>"
      ],
      "text/plain": [
       "Pipeline(steps=[('pre',\n",
       "                 ColumnTransformer(transformers=[('num', StandardScaler(),\n",
       "                                                  ['Age', 'KM', 'HP',\n",
       "                                                   'Automatic', 'CC', 'Doors',\n",
       "                                                   'Weight', 'Cylinders',\n",
       "                                                   'Gears']),\n",
       "                                                 ('cat',\n",
       "                                                  OneHotEncoder(drop='first'),\n",
       "                                                  ['FuelType'])])),\n",
       "                ('lr', LinearRegression())])"
      ]
     },
     "execution_count": 25,
     "metadata": {},
     "output_type": "execute_result"
    }
   ],
   "source": [
    "# Train the model using the log-transformed target\n",
    "model2.fit(X_train, y_train_log)"
   ]
  },
  {
   "cell_type": "code",
   "execution_count": 26,
   "id": "71427684-5520-4584-82e0-656297b46c41",
   "metadata": {},
   "outputs": [],
   "source": [
    "# -----------------------------------------------\n",
    "# STEP 4: Model 3 — Polynomial Regression (degree=2)\n",
    "# -----------------------------------------------\n",
    "\n",
    "# PolynomialFeatures adds interaction and squared terms to capture nonlinear relationships\n",
    "poly = PolynomialFeatures(degree=2, include_bias=False)"
   ]
  },
  {
   "cell_type": "code",
   "execution_count": 27,
   "id": "ffd98935-cbff-4993-8b23-da90a5ab28b1",
   "metadata": {},
   "outputs": [
    {
     "data": {
      "text/html": [
       "<style>#sk-container-id-6 {color: black;}#sk-container-id-6 pre{padding: 0;}#sk-container-id-6 div.sk-toggleable {background-color: white;}#sk-container-id-6 label.sk-toggleable__label {cursor: pointer;display: block;width: 100%;margin-bottom: 0;padding: 0.3em;box-sizing: border-box;text-align: center;}#sk-container-id-6 label.sk-toggleable__label-arrow:before {content: \"▸\";float: left;margin-right: 0.25em;color: #696969;}#sk-container-id-6 label.sk-toggleable__label-arrow:hover:before {color: black;}#sk-container-id-6 div.sk-estimator:hover label.sk-toggleable__label-arrow:before {color: black;}#sk-container-id-6 div.sk-toggleable__content {max-height: 0;max-width: 0;overflow: hidden;text-align: left;background-color: #f0f8ff;}#sk-container-id-6 div.sk-toggleable__content pre {margin: 0.2em;color: black;border-radius: 0.25em;background-color: #f0f8ff;}#sk-container-id-6 input.sk-toggleable__control:checked~div.sk-toggleable__content {max-height: 200px;max-width: 100%;overflow: auto;}#sk-container-id-6 input.sk-toggleable__control:checked~label.sk-toggleable__label-arrow:before {content: \"▾\";}#sk-container-id-6 div.sk-estimator input.sk-toggleable__control:checked~label.sk-toggleable__label {background-color: #d4ebff;}#sk-container-id-6 div.sk-label input.sk-toggleable__control:checked~label.sk-toggleable__label {background-color: #d4ebff;}#sk-container-id-6 input.sk-hidden--visually {border: 0;clip: rect(1px 1px 1px 1px);clip: rect(1px, 1px, 1px, 1px);height: 1px;margin: -1px;overflow: hidden;padding: 0;position: absolute;width: 1px;}#sk-container-id-6 div.sk-estimator {font-family: monospace;background-color: #f0f8ff;border: 1px dotted black;border-radius: 0.25em;box-sizing: border-box;margin-bottom: 0.5em;}#sk-container-id-6 div.sk-estimator:hover {background-color: #d4ebff;}#sk-container-id-6 div.sk-parallel-item::after {content: \"\";width: 100%;border-bottom: 1px solid gray;flex-grow: 1;}#sk-container-id-6 div.sk-label:hover label.sk-toggleable__label {background-color: #d4ebff;}#sk-container-id-6 div.sk-serial::before {content: \"\";position: absolute;border-left: 1px solid gray;box-sizing: border-box;top: 0;bottom: 0;left: 50%;z-index: 0;}#sk-container-id-6 div.sk-serial {display: flex;flex-direction: column;align-items: center;background-color: white;padding-right: 0.2em;padding-left: 0.2em;position: relative;}#sk-container-id-6 div.sk-item {position: relative;z-index: 1;}#sk-container-id-6 div.sk-parallel {display: flex;align-items: stretch;justify-content: center;background-color: white;position: relative;}#sk-container-id-6 div.sk-item::before, #sk-container-id-6 div.sk-parallel-item::before {content: \"\";position: absolute;border-left: 1px solid gray;box-sizing: border-box;top: 0;bottom: 0;left: 50%;z-index: -1;}#sk-container-id-6 div.sk-parallel-item {display: flex;flex-direction: column;z-index: 1;position: relative;background-color: white;}#sk-container-id-6 div.sk-parallel-item:first-child::after {align-self: flex-end;width: 50%;}#sk-container-id-6 div.sk-parallel-item:last-child::after {align-self: flex-start;width: 50%;}#sk-container-id-6 div.sk-parallel-item:only-child::after {width: 0;}#sk-container-id-6 div.sk-dashed-wrapped {border: 1px dashed gray;margin: 0 0.4em 0.5em 0.4em;box-sizing: border-box;padding-bottom: 0.4em;background-color: white;}#sk-container-id-6 div.sk-label label {font-family: monospace;font-weight: bold;display: inline-block;line-height: 1.2em;}#sk-container-id-6 div.sk-label-container {text-align: center;}#sk-container-id-6 div.sk-container {/* jupyter's `normalize.less` sets `[hidden] { display: none; }` but bootstrap.min.css set `[hidden] { display: none !important; }` so we also need the `!important` here to be able to override the default hidden behavior on the sphinx rendered scikit-learn.org. See: https://github.com/scikit-learn/scikit-learn/issues/21755 */display: inline-block !important;position: relative;}#sk-container-id-6 div.sk-text-repr-fallback {display: none;}</style><div id=\"sk-container-id-6\" class=\"sk-top-container\"><div class=\"sk-text-repr-fallback\"><pre>ColumnTransformer(transformers=[(&#x27;num&#x27;,\n",
       "                                 Pipeline(steps=[(&#x27;poly&#x27;,\n",
       "                                                  PolynomialFeatures(include_bias=False)),\n",
       "                                                 (&#x27;scale&#x27;, StandardScaler())]),\n",
       "                                 [&#x27;Age&#x27;, &#x27;KM&#x27;, &#x27;HP&#x27;, &#x27;Automatic&#x27;, &#x27;CC&#x27;, &#x27;Doors&#x27;,\n",
       "                                  &#x27;Weight&#x27;, &#x27;Cylinders&#x27;, &#x27;Gears&#x27;]),\n",
       "                                (&#x27;cat&#x27;, OneHotEncoder(drop=&#x27;first&#x27;),\n",
       "                                 [&#x27;FuelType&#x27;])])</pre><b>In a Jupyter environment, please rerun this cell to show the HTML representation or trust the notebook. <br />On GitHub, the HTML representation is unable to render, please try loading this page with nbviewer.org.</b></div><div class=\"sk-container\" hidden><div class=\"sk-item sk-dashed-wrapped\"><div class=\"sk-label-container\"><div class=\"sk-label sk-toggleable\"><input class=\"sk-toggleable__control sk-hidden--visually\" id=\"sk-estimator-id-34\" type=\"checkbox\" ><label for=\"sk-estimator-id-34\" class=\"sk-toggleable__label sk-toggleable__label-arrow\">ColumnTransformer</label><div class=\"sk-toggleable__content\"><pre>ColumnTransformer(transformers=[(&#x27;num&#x27;,\n",
       "                                 Pipeline(steps=[(&#x27;poly&#x27;,\n",
       "                                                  PolynomialFeatures(include_bias=False)),\n",
       "                                                 (&#x27;scale&#x27;, StandardScaler())]),\n",
       "                                 [&#x27;Age&#x27;, &#x27;KM&#x27;, &#x27;HP&#x27;, &#x27;Automatic&#x27;, &#x27;CC&#x27;, &#x27;Doors&#x27;,\n",
       "                                  &#x27;Weight&#x27;, &#x27;Cylinders&#x27;, &#x27;Gears&#x27;]),\n",
       "                                (&#x27;cat&#x27;, OneHotEncoder(drop=&#x27;first&#x27;),\n",
       "                                 [&#x27;FuelType&#x27;])])</pre></div></div></div><div class=\"sk-parallel\"><div class=\"sk-parallel-item\"><div class=\"sk-item\"><div class=\"sk-label-container\"><div class=\"sk-label sk-toggleable\"><input class=\"sk-toggleable__control sk-hidden--visually\" id=\"sk-estimator-id-35\" type=\"checkbox\" ><label for=\"sk-estimator-id-35\" class=\"sk-toggleable__label sk-toggleable__label-arrow\">num</label><div class=\"sk-toggleable__content\"><pre>[&#x27;Age&#x27;, &#x27;KM&#x27;, &#x27;HP&#x27;, &#x27;Automatic&#x27;, &#x27;CC&#x27;, &#x27;Doors&#x27;, &#x27;Weight&#x27;, &#x27;Cylinders&#x27;, &#x27;Gears&#x27;]</pre></div></div></div><div class=\"sk-serial\"><div class=\"sk-item\"><div class=\"sk-serial\"><div class=\"sk-item\"><div class=\"sk-estimator sk-toggleable\"><input class=\"sk-toggleable__control sk-hidden--visually\" id=\"sk-estimator-id-36\" type=\"checkbox\" ><label for=\"sk-estimator-id-36\" class=\"sk-toggleable__label sk-toggleable__label-arrow\">PolynomialFeatures</label><div class=\"sk-toggleable__content\"><pre>PolynomialFeatures(include_bias=False)</pre></div></div></div><div class=\"sk-item\"><div class=\"sk-estimator sk-toggleable\"><input class=\"sk-toggleable__control sk-hidden--visually\" id=\"sk-estimator-id-37\" type=\"checkbox\" ><label for=\"sk-estimator-id-37\" class=\"sk-toggleable__label sk-toggleable__label-arrow\">StandardScaler</label><div class=\"sk-toggleable__content\"><pre>StandardScaler()</pre></div></div></div></div></div></div></div></div><div class=\"sk-parallel-item\"><div class=\"sk-item\"><div class=\"sk-label-container\"><div class=\"sk-label sk-toggleable\"><input class=\"sk-toggleable__control sk-hidden--visually\" id=\"sk-estimator-id-38\" type=\"checkbox\" ><label for=\"sk-estimator-id-38\" class=\"sk-toggleable__label sk-toggleable__label-arrow\">cat</label><div class=\"sk-toggleable__content\"><pre>[&#x27;FuelType&#x27;]</pre></div></div></div><div class=\"sk-serial\"><div class=\"sk-item\"><div class=\"sk-estimator sk-toggleable\"><input class=\"sk-toggleable__control sk-hidden--visually\" id=\"sk-estimator-id-39\" type=\"checkbox\" ><label for=\"sk-estimator-id-39\" class=\"sk-toggleable__label sk-toggleable__label-arrow\">OneHotEncoder</label><div class=\"sk-toggleable__content\"><pre>OneHotEncoder(drop=&#x27;first&#x27;)</pre></div></div></div></div></div></div></div></div></div></div>"
      ],
      "text/plain": [
       "ColumnTransformer(transformers=[('num',\n",
       "                                 Pipeline(steps=[('poly',\n",
       "                                                  PolynomialFeatures(include_bias=False)),\n",
       "                                                 ('scale', StandardScaler())]),\n",
       "                                 ['Age', 'KM', 'HP', 'Automatic', 'CC', 'Doors',\n",
       "                                  'Weight', 'Cylinders', 'Gears']),\n",
       "                                ('cat', OneHotEncoder(drop='first'),\n",
       "                                 ['FuelType'])])"
      ]
     },
     "execution_count": 27,
     "metadata": {},
     "output_type": "execute_result"
    }
   ],
   "source": [
    "# Create a new preprocessor for polynomial features\n",
    "preprocessor_poly = ColumnTransformer([\n",
    "    ('num', Pipeline([(\"poly\", poly), (\"scale\", StandardScaler())]), numeric_features),\n",
    "    ('cat', OneHotEncoder(drop=\"first\"), categorical_features)\n",
    "])\n",
    "preprocessor_poly"
   ]
  },
  {
   "cell_type": "code",
   "execution_count": 28,
   "id": "628f8d8e-f46b-490f-a70e-6282ba79ae3c",
   "metadata": {},
   "outputs": [
    {
     "data": {
      "text/html": [
       "<style>#sk-container-id-7 {color: black;}#sk-container-id-7 pre{padding: 0;}#sk-container-id-7 div.sk-toggleable {background-color: white;}#sk-container-id-7 label.sk-toggleable__label {cursor: pointer;display: block;width: 100%;margin-bottom: 0;padding: 0.3em;box-sizing: border-box;text-align: center;}#sk-container-id-7 label.sk-toggleable__label-arrow:before {content: \"▸\";float: left;margin-right: 0.25em;color: #696969;}#sk-container-id-7 label.sk-toggleable__label-arrow:hover:before {color: black;}#sk-container-id-7 div.sk-estimator:hover label.sk-toggleable__label-arrow:before {color: black;}#sk-container-id-7 div.sk-toggleable__content {max-height: 0;max-width: 0;overflow: hidden;text-align: left;background-color: #f0f8ff;}#sk-container-id-7 div.sk-toggleable__content pre {margin: 0.2em;color: black;border-radius: 0.25em;background-color: #f0f8ff;}#sk-container-id-7 input.sk-toggleable__control:checked~div.sk-toggleable__content {max-height: 200px;max-width: 100%;overflow: auto;}#sk-container-id-7 input.sk-toggleable__control:checked~label.sk-toggleable__label-arrow:before {content: \"▾\";}#sk-container-id-7 div.sk-estimator input.sk-toggleable__control:checked~label.sk-toggleable__label {background-color: #d4ebff;}#sk-container-id-7 div.sk-label input.sk-toggleable__control:checked~label.sk-toggleable__label {background-color: #d4ebff;}#sk-container-id-7 input.sk-hidden--visually {border: 0;clip: rect(1px 1px 1px 1px);clip: rect(1px, 1px, 1px, 1px);height: 1px;margin: -1px;overflow: hidden;padding: 0;position: absolute;width: 1px;}#sk-container-id-7 div.sk-estimator {font-family: monospace;background-color: #f0f8ff;border: 1px dotted black;border-radius: 0.25em;box-sizing: border-box;margin-bottom: 0.5em;}#sk-container-id-7 div.sk-estimator:hover {background-color: #d4ebff;}#sk-container-id-7 div.sk-parallel-item::after {content: \"\";width: 100%;border-bottom: 1px solid gray;flex-grow: 1;}#sk-container-id-7 div.sk-label:hover label.sk-toggleable__label {background-color: #d4ebff;}#sk-container-id-7 div.sk-serial::before {content: \"\";position: absolute;border-left: 1px solid gray;box-sizing: border-box;top: 0;bottom: 0;left: 50%;z-index: 0;}#sk-container-id-7 div.sk-serial {display: flex;flex-direction: column;align-items: center;background-color: white;padding-right: 0.2em;padding-left: 0.2em;position: relative;}#sk-container-id-7 div.sk-item {position: relative;z-index: 1;}#sk-container-id-7 div.sk-parallel {display: flex;align-items: stretch;justify-content: center;background-color: white;position: relative;}#sk-container-id-7 div.sk-item::before, #sk-container-id-7 div.sk-parallel-item::before {content: \"\";position: absolute;border-left: 1px solid gray;box-sizing: border-box;top: 0;bottom: 0;left: 50%;z-index: -1;}#sk-container-id-7 div.sk-parallel-item {display: flex;flex-direction: column;z-index: 1;position: relative;background-color: white;}#sk-container-id-7 div.sk-parallel-item:first-child::after {align-self: flex-end;width: 50%;}#sk-container-id-7 div.sk-parallel-item:last-child::after {align-self: flex-start;width: 50%;}#sk-container-id-7 div.sk-parallel-item:only-child::after {width: 0;}#sk-container-id-7 div.sk-dashed-wrapped {border: 1px dashed gray;margin: 0 0.4em 0.5em 0.4em;box-sizing: border-box;padding-bottom: 0.4em;background-color: white;}#sk-container-id-7 div.sk-label label {font-family: monospace;font-weight: bold;display: inline-block;line-height: 1.2em;}#sk-container-id-7 div.sk-label-container {text-align: center;}#sk-container-id-7 div.sk-container {/* jupyter's `normalize.less` sets `[hidden] { display: none; }` but bootstrap.min.css set `[hidden] { display: none !important; }` so we also need the `!important` here to be able to override the default hidden behavior on the sphinx rendered scikit-learn.org. See: https://github.com/scikit-learn/scikit-learn/issues/21755 */display: inline-block !important;position: relative;}#sk-container-id-7 div.sk-text-repr-fallback {display: none;}</style><div id=\"sk-container-id-7\" class=\"sk-top-container\"><div class=\"sk-text-repr-fallback\"><pre>Pipeline(steps=[(&#x27;pre&#x27;,\n",
       "                 ColumnTransformer(transformers=[(&#x27;num&#x27;,\n",
       "                                                  Pipeline(steps=[(&#x27;poly&#x27;,\n",
       "                                                                   PolynomialFeatures(include_bias=False)),\n",
       "                                                                  (&#x27;scale&#x27;,\n",
       "                                                                   StandardScaler())]),\n",
       "                                                  [&#x27;Age&#x27;, &#x27;KM&#x27;, &#x27;HP&#x27;,\n",
       "                                                   &#x27;Automatic&#x27;, &#x27;CC&#x27;, &#x27;Doors&#x27;,\n",
       "                                                   &#x27;Weight&#x27;, &#x27;Cylinders&#x27;,\n",
       "                                                   &#x27;Gears&#x27;]),\n",
       "                                                 (&#x27;cat&#x27;,\n",
       "                                                  OneHotEncoder(drop=&#x27;first&#x27;),\n",
       "                                                  [&#x27;FuelType&#x27;])])),\n",
       "                (&#x27;lr&#x27;, LinearRegression())])</pre><b>In a Jupyter environment, please rerun this cell to show the HTML representation or trust the notebook. <br />On GitHub, the HTML representation is unable to render, please try loading this page with nbviewer.org.</b></div><div class=\"sk-container\" hidden><div class=\"sk-item sk-dashed-wrapped\"><div class=\"sk-label-container\"><div class=\"sk-label sk-toggleable\"><input class=\"sk-toggleable__control sk-hidden--visually\" id=\"sk-estimator-id-40\" type=\"checkbox\" ><label for=\"sk-estimator-id-40\" class=\"sk-toggleable__label sk-toggleable__label-arrow\">Pipeline</label><div class=\"sk-toggleable__content\"><pre>Pipeline(steps=[(&#x27;pre&#x27;,\n",
       "                 ColumnTransformer(transformers=[(&#x27;num&#x27;,\n",
       "                                                  Pipeline(steps=[(&#x27;poly&#x27;,\n",
       "                                                                   PolynomialFeatures(include_bias=False)),\n",
       "                                                                  (&#x27;scale&#x27;,\n",
       "                                                                   StandardScaler())]),\n",
       "                                                  [&#x27;Age&#x27;, &#x27;KM&#x27;, &#x27;HP&#x27;,\n",
       "                                                   &#x27;Automatic&#x27;, &#x27;CC&#x27;, &#x27;Doors&#x27;,\n",
       "                                                   &#x27;Weight&#x27;, &#x27;Cylinders&#x27;,\n",
       "                                                   &#x27;Gears&#x27;]),\n",
       "                                                 (&#x27;cat&#x27;,\n",
       "                                                  OneHotEncoder(drop=&#x27;first&#x27;),\n",
       "                                                  [&#x27;FuelType&#x27;])])),\n",
       "                (&#x27;lr&#x27;, LinearRegression())])</pre></div></div></div><div class=\"sk-serial\"><div class=\"sk-item sk-dashed-wrapped\"><div class=\"sk-label-container\"><div class=\"sk-label sk-toggleable\"><input class=\"sk-toggleable__control sk-hidden--visually\" id=\"sk-estimator-id-41\" type=\"checkbox\" ><label for=\"sk-estimator-id-41\" class=\"sk-toggleable__label sk-toggleable__label-arrow\">pre: ColumnTransformer</label><div class=\"sk-toggleable__content\"><pre>ColumnTransformer(transformers=[(&#x27;num&#x27;,\n",
       "                                 Pipeline(steps=[(&#x27;poly&#x27;,\n",
       "                                                  PolynomialFeatures(include_bias=False)),\n",
       "                                                 (&#x27;scale&#x27;, StandardScaler())]),\n",
       "                                 [&#x27;Age&#x27;, &#x27;KM&#x27;, &#x27;HP&#x27;, &#x27;Automatic&#x27;, &#x27;CC&#x27;, &#x27;Doors&#x27;,\n",
       "                                  &#x27;Weight&#x27;, &#x27;Cylinders&#x27;, &#x27;Gears&#x27;]),\n",
       "                                (&#x27;cat&#x27;, OneHotEncoder(drop=&#x27;first&#x27;),\n",
       "                                 [&#x27;FuelType&#x27;])])</pre></div></div></div><div class=\"sk-parallel\"><div class=\"sk-parallel-item\"><div class=\"sk-item\"><div class=\"sk-label-container\"><div class=\"sk-label sk-toggleable\"><input class=\"sk-toggleable__control sk-hidden--visually\" id=\"sk-estimator-id-42\" type=\"checkbox\" ><label for=\"sk-estimator-id-42\" class=\"sk-toggleable__label sk-toggleable__label-arrow\">num</label><div class=\"sk-toggleable__content\"><pre>[&#x27;Age&#x27;, &#x27;KM&#x27;, &#x27;HP&#x27;, &#x27;Automatic&#x27;, &#x27;CC&#x27;, &#x27;Doors&#x27;, &#x27;Weight&#x27;, &#x27;Cylinders&#x27;, &#x27;Gears&#x27;]</pre></div></div></div><div class=\"sk-serial\"><div class=\"sk-item\"><div class=\"sk-serial\"><div class=\"sk-item\"><div class=\"sk-estimator sk-toggleable\"><input class=\"sk-toggleable__control sk-hidden--visually\" id=\"sk-estimator-id-43\" type=\"checkbox\" ><label for=\"sk-estimator-id-43\" class=\"sk-toggleable__label sk-toggleable__label-arrow\">PolynomialFeatures</label><div class=\"sk-toggleable__content\"><pre>PolynomialFeatures(include_bias=False)</pre></div></div></div><div class=\"sk-item\"><div class=\"sk-estimator sk-toggleable\"><input class=\"sk-toggleable__control sk-hidden--visually\" id=\"sk-estimator-id-44\" type=\"checkbox\" ><label for=\"sk-estimator-id-44\" class=\"sk-toggleable__label sk-toggleable__label-arrow\">StandardScaler</label><div class=\"sk-toggleable__content\"><pre>StandardScaler()</pre></div></div></div></div></div></div></div></div><div class=\"sk-parallel-item\"><div class=\"sk-item\"><div class=\"sk-label-container\"><div class=\"sk-label sk-toggleable\"><input class=\"sk-toggleable__control sk-hidden--visually\" id=\"sk-estimator-id-45\" type=\"checkbox\" ><label for=\"sk-estimator-id-45\" class=\"sk-toggleable__label sk-toggleable__label-arrow\">cat</label><div class=\"sk-toggleable__content\"><pre>[&#x27;FuelType&#x27;]</pre></div></div></div><div class=\"sk-serial\"><div class=\"sk-item\"><div class=\"sk-estimator sk-toggleable\"><input class=\"sk-toggleable__control sk-hidden--visually\" id=\"sk-estimator-id-46\" type=\"checkbox\" ><label for=\"sk-estimator-id-46\" class=\"sk-toggleable__label sk-toggleable__label-arrow\">OneHotEncoder</label><div class=\"sk-toggleable__content\"><pre>OneHotEncoder(drop=&#x27;first&#x27;)</pre></div></div></div></div></div></div></div></div><div class=\"sk-item\"><div class=\"sk-estimator sk-toggleable\"><input class=\"sk-toggleable__control sk-hidden--visually\" id=\"sk-estimator-id-47\" type=\"checkbox\" ><label for=\"sk-estimator-id-47\" class=\"sk-toggleable__label sk-toggleable__label-arrow\">LinearRegression</label><div class=\"sk-toggleable__content\"><pre>LinearRegression()</pre></div></div></div></div></div></div></div>"
      ],
      "text/plain": [
       "Pipeline(steps=[('pre',\n",
       "                 ColumnTransformer(transformers=[('num',\n",
       "                                                  Pipeline(steps=[('poly',\n",
       "                                                                   PolynomialFeatures(include_bias=False)),\n",
       "                                                                  ('scale',\n",
       "                                                                   StandardScaler())]),\n",
       "                                                  ['Age', 'KM', 'HP',\n",
       "                                                   'Automatic', 'CC', 'Doors',\n",
       "                                                   'Weight', 'Cylinders',\n",
       "                                                   'Gears']),\n",
       "                                                 ('cat',\n",
       "                                                  OneHotEncoder(drop='first'),\n",
       "                                                  ['FuelType'])])),\n",
       "                ('lr', LinearRegression())])"
      ]
     },
     "execution_count": 28,
     "metadata": {},
     "output_type": "execute_result"
    }
   ],
   "source": [
    "# Build a pipeline for polynomial regression\n",
    "model3 = Pipeline([\n",
    "    (\"pre\", preprocessor_poly),\n",
    "    (\"lr\", LinearRegression())\n",
    "])\n",
    "model3"
   ]
  },
  {
   "cell_type": "markdown",
   "id": "7566fc55-9a7d-4cf9-a976-d59aa362aeca",
   "metadata": {},
   "source": [
    "# Task 4: Model Evaluation"
   ]
  },
  {
   "cell_type": "code",
   "execution_count": 29,
   "id": "cb62d860-690b-4030-85c7-16bcc442a855",
   "metadata": {},
   "outputs": [],
   "source": [
    "from sklearn.metrics import mean_squared_error, mean_absolute_error, r2_score\n",
    "import numpy as np\n",
    "from sklearn.preprocessing import PolynomialFeatures, StandardScaler, OneHotEncoder\n",
    "from sklearn.compose import ColumnTransformer\n",
    "from sklearn.pipeline import Pipeline\n",
    "from sklearn.linear_model import LinearRegression"
   ]
  },
  {
   "cell_type": "code",
   "execution_count": 30,
   "id": "078d2726-bd73-4f3b-8154-fdc66abce075",
   "metadata": {},
   "outputs": [
    {
     "data": {
      "text/plain": [
       "array([11137.15453645,  8974.9731327 ,  9283.27025955,  8951.97440751,\n",
       "       10082.31592852,  7959.3269862 ,  8656.43768303,  8254.87283979,\n",
       "       14063.40319186, 13099.95735642,  9551.42647033,  9325.01973397,\n",
       "       12919.13152502, 12925.08574757,  9793.37148737,  8305.77313577,\n",
       "       12190.02678644, 17535.47631867,  7469.10553333,  9146.75133486,\n",
       "       12638.29998775, 17804.25328461,  7903.43441681, 10386.01442865,\n",
       "        7580.43295913, 16058.83988677, 10034.10324597,  7412.37291567,\n",
       "       15766.17628452, 14440.45886039,  8163.90729602,  9609.36755541,\n",
       "        8509.88035778, 10098.71270421, 10245.63943307,  8073.58357557,\n",
       "        8759.24335824,  9965.93592783, 16471.77872927,  9624.35819079,\n",
       "        9829.937657  ,  9503.46762021,  7888.13705539,  5698.36965348,\n",
       "        6870.22880548, 17266.12085347,  9441.28892372, 10702.0580487 ,\n",
       "        8748.50876678, 13429.13420122, 12940.89346452,  6393.20092254,\n",
       "       15071.98364029, 16374.4739198 ,  6194.47032501,  7783.01004642,\n",
       "       10250.60750962, 10892.73156479, 16161.77461917, 18896.4137361 ,\n",
       "       12700.82225076,  7935.85833552,  7924.15312986, 11012.48786554,\n",
       "       13355.82051501,  8971.48313738, 12701.62150354,  7664.64917455,\n",
       "        8412.63591203, 10487.20510698, 19871.26659719, 11269.69286416,\n",
       "       12815.02374893,  7225.52850012, 18786.49909189, 13900.19635815,\n",
       "        7665.92790172,  7704.08820933,  9852.42107465,  9046.0642993 ,\n",
       "       10359.40529553,  8713.59081042, 10601.53549709, 10774.23066996,\n",
       "        7384.93193848,  6363.9147391 , 11491.84691663, 12990.03032657,\n",
       "        9577.99370147, 10755.83766702,  7422.03000716,  6831.71078697,\n",
       "       10489.99476358, 10919.11199155, 12695.0857688 ,  9306.21574877,\n",
       "       21404.03714114,  7972.12174067, 13925.17762225,  8932.38488568,\n",
       "       10594.42470302,  9541.83562393, 10481.96148022, 16877.83426826,\n",
       "        8673.03027756,  7735.49160673, 16766.51028446,  7677.26221628,\n",
       "        9577.99512716,  8012.48129591, 11678.86729581, 10331.58561681,\n",
       "        9577.03819427, 13677.40961591,  9460.1219842 ,  8343.20980469,\n",
       "        6629.06634417, 13329.0434062 , 12640.03324744, 13976.98716176,\n",
       "        8000.16920788,  7484.91966395,  8333.36653381, 15230.01399841,\n",
       "       11594.31901036,  8579.96522872, 12971.21196851,  8987.26297167,\n",
       "        8578.18862513, 12182.930546  , 11254.64659606, 15743.84475948,\n",
       "       10846.86840097,  9125.92408323,  6579.8736573 ,  9629.99480596,\n",
       "       10334.1288671 , 11501.96163563,  8263.19178376,  5310.8412713 ,\n",
       "       12579.88347728, 10874.41178953, 12492.48889706,  8485.41474828,\n",
       "       12215.41984108, 11181.52624306,  7315.50385713,  8636.37926082,\n",
       "        8663.92987751, 11104.47686931, 10350.71381571, 16148.77709684,\n",
       "        8221.75422791,  8985.93469265, 11196.68495488, 10924.2991619 ,\n",
       "        8905.81931178, 13348.01704408,  9476.30739577, 19318.13787209,\n",
       "       11216.14570972, 15822.91651684, 15538.8716103 ,  7787.19775036,\n",
       "        8828.7787213 , 12632.82640684,  7925.29020973, 13520.08622798,\n",
       "        7807.86741339,  7666.87706993,  8208.38467209, 12173.3164373 ,\n",
       "        9332.72611896, 13012.27562012, 10274.20479721,  9620.67721362,\n",
       "       16922.34463373, 10723.03247923,  9730.52489117, 10753.36107025,\n",
       "       12165.41150407, 11279.06153226, 13619.97049132,  8356.39742642,\n",
       "        9339.46456625,  7335.77607857,  6055.06817666,  8294.02159448,\n",
       "        9712.72262926, 11019.95412979,  8992.6025094 ,  7273.06174554,\n",
       "        6423.39394817, 11173.54855752, 10389.94129759, 11028.79491865,\n",
       "        6863.04008205,  7130.39479482,  9926.07350239, 18337.14802069,\n",
       "        9262.63621955,  7780.96765513,  6919.0182557 ,  9049.8735798 ,\n",
       "       16273.1651299 , 17268.82416224, 10799.45354843, 10103.94768016,\n",
       "       10682.26564345,  9268.84933132,  9243.40746779, 11130.11664695,\n",
       "       10087.06073187,  9972.8444143 ,  7078.56244371, 11636.05252468,\n",
       "        7983.83604466,  9250.69664934,  7176.34607905, 11816.21925771,\n",
       "        8506.28912852, 10440.50261995, 10285.56482061, 10408.40561735,\n",
       "       17668.84206651,  6649.27061281, 16100.6357691 ,  7468.15349792,\n",
       "       13175.84048098,  7487.73206213, 12290.61102062,  9587.60348315,\n",
       "       27502.41843225,  7839.79991459,  9415.13156496,  8317.71945398,\n",
       "       13770.30965399, 13233.24881925, 10016.82666335,  8540.33325053,\n",
       "       13986.52100392, 19211.80986305, 12985.45610131,  9609.54810826,\n",
       "       20238.71655746,  9715.84427214,  9181.33608875,  9925.51587783,\n",
       "        9847.0543621 ,  9447.57860362,  8683.56348739, 10408.22170351,\n",
       "        8305.00985164,  5740.46537633, 10528.73520861, 10755.71638705,\n",
       "        6466.74759006,  9817.09603854, 13315.66168957, 11093.60222252,\n",
       "       12813.81981737,  6946.07051213,  6174.08839198, 10515.25555719,\n",
       "        6639.51224202, 12803.83609449, 13310.8432762 ,  5054.26833605,\n",
       "        9129.96572161,  8128.65982073, 13171.34285826, 15626.10048911,\n",
       "        6675.59884195, 13498.93669995,  8049.91071056,  7311.6865192 ,\n",
       "        8324.85884478,  7846.88512384,  6374.6921537 , 26351.37007746,\n",
       "       22686.73550051, 10217.75962624,  7217.39096358, 19192.10493056,\n",
       "        8011.8278894 , 13519.16511719, 10720.33125759, 10638.63434683])"
      ]
     },
     "execution_count": 30,
     "metadata": {},
     "output_type": "execute_result"
    }
   ],
   "source": [
    "# -----------------------------------------------\n",
    "# STEP 1: Make Predictions on Test Data\n",
    "# -----------------------------------------------\n",
    "\n",
    "# Model 1: Linear Regression predictions\n",
    "y_pred1 = model1.predict(X_test)\n",
    "y_pred1"
   ]
  },
  {
   "cell_type": "code",
   "execution_count": 31,
   "id": "333c1c44-e54c-485a-99d7-9ad3d5203757",
   "metadata": {},
   "outputs": [
    {
     "data": {
      "text/plain": [
       "array([10951.4677563 ,  8737.66727334,  8792.41671693,  8846.07486039,\n",
       "        9749.42331316,  7966.85660558,  8743.36004398,  8310.52857478,\n",
       "       13744.35660203, 12649.55244175,  9091.08233044,  9061.80031488,\n",
       "       12474.6296471 , 12759.98389331,  9368.08732053,  8540.96968784,\n",
       "       11925.45026693, 16387.82348115,  7607.3723613 ,  9027.19421789,\n",
       "       12255.25180829, 18496.83881716,  7990.68169083, 10218.16882283,\n",
       "        7998.31393379, 15840.55305391,  9888.0167225 ,  7579.35232648,\n",
       "       15410.85215727, 14294.3123985 ,  8177.75266405,  9737.40133854,\n",
       "        8523.47907814,  9696.43914193,  9845.82216577,  8079.5901569 ,\n",
       "        8861.08753443,  9584.58369409, 16366.08256644,  9234.20908909,\n",
       "        9512.86102438,  9235.92105682,  8060.54651807,  6657.11677116,\n",
       "        7520.47541743, 17235.32955338,  9156.06869898, 10238.97914785,\n",
       "        8904.14867834, 13061.38635289, 12463.05415838,  7235.92080145,\n",
       "       14400.55368773, 15817.71352193,  6994.31156027,  7955.22290822,\n",
       "       10122.09460661, 10817.84928219, 15743.05052758, 19563.82872534,\n",
       "       12054.65226326,  7851.31312057,  7976.25623211, 10667.70921969,\n",
       "       12939.47129184,  8738.54813656, 12141.64809384,  7746.58665449,\n",
       "        8241.05354597, 10420.41045114, 21184.90913308, 10619.26175232,\n",
       "       12510.35273557,  7808.99722311, 19835.05872352, 13512.92009539,\n",
       "        7787.44766105,  7837.93966239,  9717.19884701,  8948.75047722,\n",
       "        9924.17719124,  8544.90696027,  9988.97991102, 10310.84579292,\n",
       "        8134.64480213,  7166.15895027, 10846.80784875, 12566.9981274 ,\n",
       "        9266.71057126, 10602.77840937,  7542.04461299,  7424.36752506,\n",
       "       10054.76765783, 10320.32693489, 12208.51520443,  9052.94939693,\n",
       "       22932.57639596,  8051.94156448, 13662.22710579,  8921.4564152 ,\n",
       "       10277.73727064,  9339.45949944, 10322.92763623, 16703.77574899,\n",
       "        8660.92887748,  7838.52653131, 15296.02718383,  8143.17974827,\n",
       "        9399.79910102,  8240.7516622 , 11209.6660504 ,  9963.98783055,\n",
       "        9605.53149894, 13409.42596403,  9199.09836437,  8457.26425565,\n",
       "        7317.88156984, 12989.43221717, 12210.36134442, 13621.32433768,\n",
       "        8065.30958543,  7954.34800021,  8565.5284463 , 15279.67094262,\n",
       "       11333.50355664,  8385.22291555, 12787.75226224,  8651.96199862,\n",
       "        8421.44924783, 11503.71426919, 10753.81199739, 15109.86816127,\n",
       "       10328.19071555,  9001.71100235,  7329.02332822,  9056.68894554,\n",
       "       10226.69009639, 10995.00194566,  8322.01461035,  6526.54393834,\n",
       "       12107.35100529, 10533.48972762, 11932.94956464,  8359.45388119,\n",
       "       11691.50842147, 10810.51685221,  7503.33591307,  8510.62519307,\n",
       "        8348.21926827, 10938.4770821 ,  9959.19499727, 15687.01572875,\n",
       "        8078.42173678,  8888.35101635, 10674.28175587, 10576.60499394,\n",
       "        8683.51856097, 12900.38493225,  9090.50867109, 20999.52941056,\n",
       "       10839.60073021, 15302.28472698, 15050.64075505,  7958.69025403,\n",
       "        8925.43528221, 12269.71938912,  8048.14095659, 13133.43671025,\n",
       "        7893.57511345,  8044.85726015,  8454.85311658, 12018.85748989,\n",
       "        9142.6773437 , 12642.38598588, 10144.78485557,  9494.97430225,\n",
       "       16744.21556805, 10288.32934727,  9440.69017096, 10338.05078346,\n",
       "       11739.70292158, 10703.07866932, 13300.051519  ,  8265.76582816,\n",
       "        8999.61071502,  7881.6342198 ,  6985.74595435,  8530.53193497,\n",
       "        9406.74751018, 10623.45160776,  8962.55183878,  7813.05406059,\n",
       "        6898.95080628, 10866.99040543, 10022.0876186 , 10443.09373684,\n",
       "        7486.71267313,  7904.49940056,  9783.86834252, 18458.68552924,\n",
       "        9619.43735317,  8140.93481881,  7132.79472708,  8981.96917821,\n",
       "       15582.71927416, 17320.50468297, 10202.08713788,  9706.7250028 ,\n",
       "       10587.10408582,  9164.95368332,  8867.09105455, 10681.67896688,\n",
       "        9741.83738047,  9873.02706122,  7369.36996309, 11183.98894165,\n",
       "        8322.76406908,  9040.73307694,  7840.60923129, 10920.67786696,\n",
       "        8223.86507218, 10301.26564981, 10133.71844101,  9747.00048038,\n",
       "       17693.21741051,  7349.53284572, 15909.59221725,  8011.09697143,\n",
       "       12947.81149532,  7697.4511297 , 11788.20102788,  9321.9391639 ,\n",
       "       32346.27680019,  8020.10501133,  9090.84913106,  8551.59353135,\n",
       "       13479.87398272, 12713.16341616,  9752.24659284,  8751.99862674,\n",
       "       14055.47925302, 20549.80644557, 12539.11117833,  9347.58570997,\n",
       "       21850.85683109,  9572.16551239,  9030.85919937,  9565.50484096,\n",
       "        9567.65882942,  9438.59032145,  8560.45357055, 10018.96934015,\n",
       "        8203.00139359,  6656.80758719, 10078.25559349, 10525.31391565,\n",
       "        7558.87168436,  9783.31458862, 13108.51780226, 10444.17416872,\n",
       "       12552.21882356,  7613.69178747,  7025.99334155, 10148.39424544,\n",
       "        7398.23239082, 11336.69138637, 12879.05601939,  6192.85775616,\n",
       "        8823.92984609,  8366.46357011, 12749.77525058, 15473.53252284,\n",
       "        7435.23491293, 13104.56622938,  8380.69688591,  7583.82454789,\n",
       "        8389.82073869,  8065.36990171,  7177.5296477 , 23484.51908398,\n",
       "       24818.82349284, 10040.82876885,  7682.42944925, 20507.71650315,\n",
       "        8413.02665702, 13097.06689824, 10099.969148  , 10256.79379505])"
      ]
     },
     "execution_count": 31,
     "metadata": {},
     "output_type": "execute_result"
    }
   ],
   "source": [
    "# Model 2: Log-Target Regression predictions\n",
    "# Apply exponential transformation to reverse log(Price)\n",
    "y_pred2 = np.expm1(model2.predict(X_test))\n",
    "y_pred2"
   ]
  },
  {
   "cell_type": "code",
   "execution_count": 32,
   "id": "8b852296-6940-4080-8c0e-e7aff1329e72",
   "metadata": {},
   "outputs": [
    {
     "data": {
      "text/html": [
       "<style>#sk-container-id-8 {color: black;}#sk-container-id-8 pre{padding: 0;}#sk-container-id-8 div.sk-toggleable {background-color: white;}#sk-container-id-8 label.sk-toggleable__label {cursor: pointer;display: block;width: 100%;margin-bottom: 0;padding: 0.3em;box-sizing: border-box;text-align: center;}#sk-container-id-8 label.sk-toggleable__label-arrow:before {content: \"▸\";float: left;margin-right: 0.25em;color: #696969;}#sk-container-id-8 label.sk-toggleable__label-arrow:hover:before {color: black;}#sk-container-id-8 div.sk-estimator:hover label.sk-toggleable__label-arrow:before {color: black;}#sk-container-id-8 div.sk-toggleable__content {max-height: 0;max-width: 0;overflow: hidden;text-align: left;background-color: #f0f8ff;}#sk-container-id-8 div.sk-toggleable__content pre {margin: 0.2em;color: black;border-radius: 0.25em;background-color: #f0f8ff;}#sk-container-id-8 input.sk-toggleable__control:checked~div.sk-toggleable__content {max-height: 200px;max-width: 100%;overflow: auto;}#sk-container-id-8 input.sk-toggleable__control:checked~label.sk-toggleable__label-arrow:before {content: \"▾\";}#sk-container-id-8 div.sk-estimator input.sk-toggleable__control:checked~label.sk-toggleable__label {background-color: #d4ebff;}#sk-container-id-8 div.sk-label input.sk-toggleable__control:checked~label.sk-toggleable__label {background-color: #d4ebff;}#sk-container-id-8 input.sk-hidden--visually {border: 0;clip: rect(1px 1px 1px 1px);clip: rect(1px, 1px, 1px, 1px);height: 1px;margin: -1px;overflow: hidden;padding: 0;position: absolute;width: 1px;}#sk-container-id-8 div.sk-estimator {font-family: monospace;background-color: #f0f8ff;border: 1px dotted black;border-radius: 0.25em;box-sizing: border-box;margin-bottom: 0.5em;}#sk-container-id-8 div.sk-estimator:hover {background-color: #d4ebff;}#sk-container-id-8 div.sk-parallel-item::after {content: \"\";width: 100%;border-bottom: 1px solid gray;flex-grow: 1;}#sk-container-id-8 div.sk-label:hover label.sk-toggleable__label {background-color: #d4ebff;}#sk-container-id-8 div.sk-serial::before {content: \"\";position: absolute;border-left: 1px solid gray;box-sizing: border-box;top: 0;bottom: 0;left: 50%;z-index: 0;}#sk-container-id-8 div.sk-serial {display: flex;flex-direction: column;align-items: center;background-color: white;padding-right: 0.2em;padding-left: 0.2em;position: relative;}#sk-container-id-8 div.sk-item {position: relative;z-index: 1;}#sk-container-id-8 div.sk-parallel {display: flex;align-items: stretch;justify-content: center;background-color: white;position: relative;}#sk-container-id-8 div.sk-item::before, #sk-container-id-8 div.sk-parallel-item::before {content: \"\";position: absolute;border-left: 1px solid gray;box-sizing: border-box;top: 0;bottom: 0;left: 50%;z-index: -1;}#sk-container-id-8 div.sk-parallel-item {display: flex;flex-direction: column;z-index: 1;position: relative;background-color: white;}#sk-container-id-8 div.sk-parallel-item:first-child::after {align-self: flex-end;width: 50%;}#sk-container-id-8 div.sk-parallel-item:last-child::after {align-self: flex-start;width: 50%;}#sk-container-id-8 div.sk-parallel-item:only-child::after {width: 0;}#sk-container-id-8 div.sk-dashed-wrapped {border: 1px dashed gray;margin: 0 0.4em 0.5em 0.4em;box-sizing: border-box;padding-bottom: 0.4em;background-color: white;}#sk-container-id-8 div.sk-label label {font-family: monospace;font-weight: bold;display: inline-block;line-height: 1.2em;}#sk-container-id-8 div.sk-label-container {text-align: center;}#sk-container-id-8 div.sk-container {/* jupyter's `normalize.less` sets `[hidden] { display: none; }` but bootstrap.min.css set `[hidden] { display: none !important; }` so we also need the `!important` here to be able to override the default hidden behavior on the sphinx rendered scikit-learn.org. See: https://github.com/scikit-learn/scikit-learn/issues/21755 */display: inline-block !important;position: relative;}#sk-container-id-8 div.sk-text-repr-fallback {display: none;}</style><div id=\"sk-container-id-8\" class=\"sk-top-container\"><div class=\"sk-text-repr-fallback\"><pre>Pipeline(steps=[(&#x27;pre&#x27;,\n",
       "                 ColumnTransformer(transformers=[(&#x27;num&#x27;,\n",
       "                                                  Pipeline(steps=[(&#x27;poly&#x27;,\n",
       "                                                                   PolynomialFeatures(include_bias=False)),\n",
       "                                                                  (&#x27;scale&#x27;,\n",
       "                                                                   StandardScaler())]),\n",
       "                                                  [&#x27;Age&#x27;, &#x27;KM&#x27;, &#x27;HP&#x27;,\n",
       "                                                   &#x27;Automatic&#x27;, &#x27;CC&#x27;, &#x27;Doors&#x27;,\n",
       "                                                   &#x27;Weight&#x27;, &#x27;Cylinders&#x27;,\n",
       "                                                   &#x27;Gears&#x27;]),\n",
       "                                                 (&#x27;cat&#x27;,\n",
       "                                                  OneHotEncoder(drop=&#x27;first&#x27;),\n",
       "                                                  [&#x27;FuelType&#x27;])])),\n",
       "                (&#x27;lr&#x27;, LinearRegression())])</pre><b>In a Jupyter environment, please rerun this cell to show the HTML representation or trust the notebook. <br />On GitHub, the HTML representation is unable to render, please try loading this page with nbviewer.org.</b></div><div class=\"sk-container\" hidden><div class=\"sk-item sk-dashed-wrapped\"><div class=\"sk-label-container\"><div class=\"sk-label sk-toggleable\"><input class=\"sk-toggleable__control sk-hidden--visually\" id=\"sk-estimator-id-48\" type=\"checkbox\" ><label for=\"sk-estimator-id-48\" class=\"sk-toggleable__label sk-toggleable__label-arrow\">Pipeline</label><div class=\"sk-toggleable__content\"><pre>Pipeline(steps=[(&#x27;pre&#x27;,\n",
       "                 ColumnTransformer(transformers=[(&#x27;num&#x27;,\n",
       "                                                  Pipeline(steps=[(&#x27;poly&#x27;,\n",
       "                                                                   PolynomialFeatures(include_bias=False)),\n",
       "                                                                  (&#x27;scale&#x27;,\n",
       "                                                                   StandardScaler())]),\n",
       "                                                  [&#x27;Age&#x27;, &#x27;KM&#x27;, &#x27;HP&#x27;,\n",
       "                                                   &#x27;Automatic&#x27;, &#x27;CC&#x27;, &#x27;Doors&#x27;,\n",
       "                                                   &#x27;Weight&#x27;, &#x27;Cylinders&#x27;,\n",
       "                                                   &#x27;Gears&#x27;]),\n",
       "                                                 (&#x27;cat&#x27;,\n",
       "                                                  OneHotEncoder(drop=&#x27;first&#x27;),\n",
       "                                                  [&#x27;FuelType&#x27;])])),\n",
       "                (&#x27;lr&#x27;, LinearRegression())])</pre></div></div></div><div class=\"sk-serial\"><div class=\"sk-item sk-dashed-wrapped\"><div class=\"sk-label-container\"><div class=\"sk-label sk-toggleable\"><input class=\"sk-toggleable__control sk-hidden--visually\" id=\"sk-estimator-id-49\" type=\"checkbox\" ><label for=\"sk-estimator-id-49\" class=\"sk-toggleable__label sk-toggleable__label-arrow\">pre: ColumnTransformer</label><div class=\"sk-toggleable__content\"><pre>ColumnTransformer(transformers=[(&#x27;num&#x27;,\n",
       "                                 Pipeline(steps=[(&#x27;poly&#x27;,\n",
       "                                                  PolynomialFeatures(include_bias=False)),\n",
       "                                                 (&#x27;scale&#x27;, StandardScaler())]),\n",
       "                                 [&#x27;Age&#x27;, &#x27;KM&#x27;, &#x27;HP&#x27;, &#x27;Automatic&#x27;, &#x27;CC&#x27;, &#x27;Doors&#x27;,\n",
       "                                  &#x27;Weight&#x27;, &#x27;Cylinders&#x27;, &#x27;Gears&#x27;]),\n",
       "                                (&#x27;cat&#x27;, OneHotEncoder(drop=&#x27;first&#x27;),\n",
       "                                 [&#x27;FuelType&#x27;])])</pre></div></div></div><div class=\"sk-parallel\"><div class=\"sk-parallel-item\"><div class=\"sk-item\"><div class=\"sk-label-container\"><div class=\"sk-label sk-toggleable\"><input class=\"sk-toggleable__control sk-hidden--visually\" id=\"sk-estimator-id-50\" type=\"checkbox\" ><label for=\"sk-estimator-id-50\" class=\"sk-toggleable__label sk-toggleable__label-arrow\">num</label><div class=\"sk-toggleable__content\"><pre>[&#x27;Age&#x27;, &#x27;KM&#x27;, &#x27;HP&#x27;, &#x27;Automatic&#x27;, &#x27;CC&#x27;, &#x27;Doors&#x27;, &#x27;Weight&#x27;, &#x27;Cylinders&#x27;, &#x27;Gears&#x27;]</pre></div></div></div><div class=\"sk-serial\"><div class=\"sk-item\"><div class=\"sk-serial\"><div class=\"sk-item\"><div class=\"sk-estimator sk-toggleable\"><input class=\"sk-toggleable__control sk-hidden--visually\" id=\"sk-estimator-id-51\" type=\"checkbox\" ><label for=\"sk-estimator-id-51\" class=\"sk-toggleable__label sk-toggleable__label-arrow\">PolynomialFeatures</label><div class=\"sk-toggleable__content\"><pre>PolynomialFeatures(include_bias=False)</pre></div></div></div><div class=\"sk-item\"><div class=\"sk-estimator sk-toggleable\"><input class=\"sk-toggleable__control sk-hidden--visually\" id=\"sk-estimator-id-52\" type=\"checkbox\" ><label for=\"sk-estimator-id-52\" class=\"sk-toggleable__label sk-toggleable__label-arrow\">StandardScaler</label><div class=\"sk-toggleable__content\"><pre>StandardScaler()</pre></div></div></div></div></div></div></div></div><div class=\"sk-parallel-item\"><div class=\"sk-item\"><div class=\"sk-label-container\"><div class=\"sk-label sk-toggleable\"><input class=\"sk-toggleable__control sk-hidden--visually\" id=\"sk-estimator-id-53\" type=\"checkbox\" ><label for=\"sk-estimator-id-53\" class=\"sk-toggleable__label sk-toggleable__label-arrow\">cat</label><div class=\"sk-toggleable__content\"><pre>[&#x27;FuelType&#x27;]</pre></div></div></div><div class=\"sk-serial\"><div class=\"sk-item\"><div class=\"sk-estimator sk-toggleable\"><input class=\"sk-toggleable__control sk-hidden--visually\" id=\"sk-estimator-id-54\" type=\"checkbox\" ><label for=\"sk-estimator-id-54\" class=\"sk-toggleable__label sk-toggleable__label-arrow\">OneHotEncoder</label><div class=\"sk-toggleable__content\"><pre>OneHotEncoder(drop=&#x27;first&#x27;)</pre></div></div></div></div></div></div></div></div><div class=\"sk-item\"><div class=\"sk-estimator sk-toggleable\"><input class=\"sk-toggleable__control sk-hidden--visually\" id=\"sk-estimator-id-55\" type=\"checkbox\" ><label for=\"sk-estimator-id-55\" class=\"sk-toggleable__label sk-toggleable__label-arrow\">LinearRegression</label><div class=\"sk-toggleable__content\"><pre>LinearRegression()</pre></div></div></div></div></div></div></div>"
      ],
      "text/plain": [
       "Pipeline(steps=[('pre',\n",
       "                 ColumnTransformer(transformers=[('num',\n",
       "                                                  Pipeline(steps=[('poly',\n",
       "                                                                   PolynomialFeatures(include_bias=False)),\n",
       "                                                                  ('scale',\n",
       "                                                                   StandardScaler())]),\n",
       "                                                  ['Age', 'KM', 'HP',\n",
       "                                                   'Automatic', 'CC', 'Doors',\n",
       "                                                   'Weight', 'Cylinders',\n",
       "                                                   'Gears']),\n",
       "                                                 ('cat',\n",
       "                                                  OneHotEncoder(drop='first'),\n",
       "                                                  ['FuelType'])])),\n",
       "                ('lr', LinearRegression())])"
      ]
     },
     "execution_count": 32,
     "metadata": {},
     "output_type": "execute_result"
    }
   ],
   "source": [
    "# Model 3: Polynomial Regression predictions\n",
    "model3.fit(X_train, y_train)"
   ]
  },
  {
   "cell_type": "code",
   "execution_count": 33,
   "id": "0b397bd8-ac79-4fd7-975e-e4576780cd14",
   "metadata": {},
   "outputs": [
    {
     "data": {
      "text/plain": [
       "array([10417.92274608,  8925.67274608,  9598.36024608,  8881.54774608,\n",
       "        9824.54774608,  8129.92274608,  8878.54774608,  8040.29774608,\n",
       "       13674.79774608, 12755.17274608,  9507.17274608,  9070.42274608,\n",
       "       12544.29774608, 12109.92274608,  9692.79774608,  8697.92274608,\n",
       "       11420.42274608, 18195.92274608,  7646.92274608,  8994.54774608,\n",
       "       12391.04774608, 18858.04774608,  7838.54774608,  9847.92274608,\n",
       "        8268.79774608, 16395.92274608,  9970.36024608,  7632.42274608,\n",
       "       15676.67274608, 14120.29774608,  8248.67274608,  9175.42274608,\n",
       "        8496.04774608,  9955.04774608, 10050.29774608,  8119.17274608,\n",
       "        8928.17274608,  9831.17274608, 16503.92274608,  9336.54774608,\n",
       "        9603.29774608,  9328.92274608,  8021.04774608,  6539.92274608,\n",
       "        7808.92274608, 18220.42274608,  9348.67274608, 10430.29774608,\n",
       "        8974.42274608, 13031.42274608, 12654.42274608,  7492.92274608,\n",
       "       14932.92274608, 16480.04774608,  7132.92274608,  7970.04774608,\n",
       "       10167.42274608,  9602.42274608, 16632.42274608, 21906.92274608,\n",
       "       12211.17274608,  8395.29774608,  8091.67274608, 10256.92274608,\n",
       "       12976.04774608,  8970.92274608, 12098.92274608,  7822.92274608,\n",
       "        8454.92274608, 10320.92274608, 20798.92274608, 10833.92274608,\n",
       "       12520.79774608,  7697.17274608, 20099.42274608, 13441.79774608,\n",
       "        7915.54774608,  7780.29774608,  9726.42274608,  8723.54774608,\n",
       "       10119.79774608,  8751.17274608, 10374.67274608, 10558.79774608,\n",
       "        8504.42274608,  7504.92274608, 10894.42274608, 12614.04774608,\n",
       "        9472.29774608, 10489.04774608,  8040.29774608,  7630.42274608,\n",
       "       10290.92274608, 10678.67274608, 12338.92274608,  9214.79774608,\n",
       "       22560.92274608,  8288.76649608, 13523.17274608,  8833.29774608,\n",
       "        9810.92274608,  9197.29774608, 10356.67274608, 16748.23524608,\n",
       "        8137.67274608,  7939.17274608, 17138.42274608,  8142.42274608,\n",
       "        9296.54774608,  8904.17274608, 11315.79774608,  9155.48524608,\n",
       "        9561.67274608, 13268.79774608,  9334.04774608,  8620.42274608,\n",
       "        7614.42274608, 12927.29774608, 11895.17274608, 13554.54774608,\n",
       "        8071.79774608,  8336.67274608,  8714.42274608, 14970.29774608,\n",
       "       10907.92274608,  8822.17274608, 12183.17274608,  8959.67274608,\n",
       "        8609.92274608, 11634.92274608, 10902.79774608, 15369.48524608,\n",
       "       10509.67274608,  7384.29774608,  7640.92274608,  9018.42274608,\n",
       "       10354.54774608, 10990.42274608,  8218.29774608,  4521.92274608,\n",
       "       11961.67274608, 10742.86024608, 12029.79774608,  8529.42274608,\n",
       "       11875.42274608, 10620.79774608,  7521.17274608,  8517.42274608,\n",
       "        8418.42274608, 10336.42274608, 10102.29774608, 16705.92274608,\n",
       "        8374.92274608,  8527.54774608, 10895.79774608, 10517.54774608,\n",
       "        8803.04774608, 12934.54774608,  9266.79774608, 20146.54774608,\n",
       "       10229.98524608, 15190.98524608, 15454.92274608,  7973.54774608,\n",
       "        8994.67274608, 12290.54774608,  7899.67274608, 13147.54774608,\n",
       "        8331.67274608,  8278.42274608,  8633.92274608, 11760.54774608,\n",
       "        9203.04774608, 12392.26649608,  9695.42274608,  9692.92274608,\n",
       "       16851.23524608, 10482.17274608,  9538.29774608,  9596.92274608,\n",
       "       11724.79774608, 10760.23524608, 13252.04774608,  8370.67274608,\n",
       "        9258.67274608,  7791.23524608,  7345.92274608,  8690.42274608,\n",
       "        9499.54774608, 10787.61024608,  8635.54774608,  7804.17274608,\n",
       "        6662.92274608, 10551.92274608, 10089.54774608, 10853.92274608,\n",
       "        7503.67274608,  8249.92274608,  9505.92274608, 19124.92274608,\n",
       "        9618.42274608,  8361.42274608,  6910.92274608,  8802.54774608,\n",
       "       16736.29774608, 17172.48524608, 10453.92274608,  9897.79774608,\n",
       "       10520.67274608,  9326.92274608,  9191.92274608, 10796.54774608,\n",
       "        9410.92274608,  9609.86024608,  7396.42274608, 11391.54774608,\n",
       "        8658.79774608,  9142.54774608,  8269.42274608, 11728.42274608,\n",
       "        7930.92274608, 10337.54774608,  9614.54774608,  9899.17274608,\n",
       "       18278.92274608,  7667.42274608, 16424.92274608,  8475.92274608,\n",
       "       12447.67274608,  7650.29774608, 12055.29774608,  9415.54774608,\n",
       "       32487.92274608,  7994.29774608,  9358.92274608,  8705.42274608,\n",
       "       13407.54774608, 12899.92274608,  9728.79774608,  8816.92274608,\n",
       "       12689.29774608, 20747.92274608, 12358.92274608,  9438.79774608,\n",
       "       24036.92274608,  9336.92274608,  8781.42274608,  9767.92274608,\n",
       "        9074.67274608,  9588.92274608,  8699.79774608, 10142.29774608,\n",
       "        8669.92274608,  6261.92274608, 10272.54774608, 10187.42274608,\n",
       "        7933.42274608,  9803.92274608, 12577.42274608, 10864.67274608,\n",
       "       12112.29774608,  7771.42274608,  7350.42274608, 10076.17274608,\n",
       "        7949.17274608, 11986.92274608, 12922.79774608,  6248.67274608,\n",
       "        8992.61024608,  8544.42274608, 12798.29774608, 15270.29774608,\n",
       "        7605.92274608, 13122.79774608,  8467.92274608,  7555.17274608,\n",
       "        7905.67274608,  7991.04774608,  7418.42274608, 25431.92274608,\n",
       "       25826.92274608,  9740.92274608,  7610.04774608, 20727.42274608,\n",
       "        8231.42274608, 13211.67274608,  8813.42274608, 10207.17274608])"
      ]
     },
     "execution_count": 33,
     "metadata": {},
     "output_type": "execute_result"
    }
   ],
   "source": [
    "y_pred3 = model3.predict(X_test)\n",
    "y_pred3"
   ]
  },
  {
   "cell_type": "code",
   "execution_count": 34,
   "id": "cce307cc-25d0-4a73-b8d8-0fa89aca0d7a",
   "metadata": {},
   "outputs": [],
   "source": [
    "# -----------------------------------------------\n",
    "# STEP 2: Evaluate Each Model\n",
    "# -----------------------------------------------\n",
    "\n",
    "# --- Model 1: Linear Regression ---\n",
    "from sklearn.metrics import mean_squared_error, mean_absolute_error, r2_score"
   ]
  },
  {
   "cell_type": "code",
   "execution_count": 35,
   "id": "d8b894f5-5e4a-406b-b632-043613950f64",
   "metadata": {},
   "outputs": [
    {
     "data": {
      "text/plain": [
       "(1484.265415329652, 990.8872739193968, 0.8348888040611081)"
      ]
     },
     "execution_count": 35,
     "metadata": {},
     "output_type": "execute_result"
    }
   ],
   "source": [
    "# --- Model 1: Linear Regression ---\n",
    "rmse1 = np.sqrt(mean_squared_error(y_test, y_pred1))\n",
    "mae1 = mean_absolute_error(y_test, y_pred1)\n",
    "r2_1 = r2_score(y_test, y_pred1)\n",
    "rmse1,mae1,r2_1"
   ]
  },
  {
   "cell_type": "code",
   "execution_count": 36,
   "id": "b75622bd-d4a7-4577-917d-214f6130a8c5",
   "metadata": {},
   "outputs": [
    {
     "data": {
      "text/plain": [
       "(1257.7153735930303, 863.0008847602016, 0.8814454774408771)"
      ]
     },
     "execution_count": 36,
     "metadata": {},
     "output_type": "execute_result"
    }
   ],
   "source": [
    "# --- Model 2: Log-Target Regression ---\n",
    "rmse2 = np.sqrt(mean_squared_error(y_test, y_pred2))\n",
    "mae2 = mean_absolute_error(y_test, y_pred2)\n",
    "r2_2 = r2_score(y_test, y_pred2)\n",
    "rmse2,mae2,r2_2"
   ]
  },
  {
   "cell_type": "code",
   "execution_count": 37,
   "id": "8e5c17bf-500f-4b6d-82c4-2d2f62381dc8",
   "metadata": {},
   "outputs": [
    {
     "data": {
      "text/plain": [
       "(1284.4329122010467, 865.4564044050053, 0.8763550914826921)"
      ]
     },
     "execution_count": 37,
     "metadata": {},
     "output_type": "execute_result"
    }
   ],
   "source": [
    "# --- Model 3: Polynomial Regression ---\n",
    "rmse3 = np.sqrt(mean_squared_error(y_test, y_pred3))\n",
    "mae3 = mean_absolute_error(y_test, y_pred3)\n",
    "r2_3 = r2_score(y_test, y_pred3)\n",
    "rmse3,mae3,r2_3"
   ]
  },
  {
   "cell_type": "markdown",
   "id": "f55d97ca-8c88-46db-a4d2-e54c4e0bc038",
   "metadata": {},
   "source": [
    "#  Task 5: Lasso and Ridge Regression "
   ]
  },
  {
   "cell_type": "code",
   "execution_count": 38,
   "id": "3f4984e8-dfeb-428d-908c-8bcd5cac8bb3",
   "metadata": {},
   "outputs": [],
   "source": [
    "# Import required classes for Lasso and Ridge Regression\n",
    "from sklearn.linear_model import LassoCV, RidgeCV"
   ]
  },
  {
   "cell_type": "code",
   "execution_count": 39,
   "id": "55007222-4838-4d5d-a7bf-4661df7bc69f",
   "metadata": {},
   "outputs": [],
   "source": [
    "\n",
    "\n",
    "# Generate a range of alpha values (regularization strengths)\n",
    "# Using a logarithmic scale between 10^-3 and 10^3 with 50 points\n",
    "alphas = np.logspace(-3, 3, 50)"
   ]
  },
  {
   "cell_type": "code",
   "execution_count": 40,
   "id": "b0a8f69b-6abc-449d-848a-2660f3d884d4",
   "metadata": {},
   "outputs": [
    {
     "data": {
      "text/html": [
       "<style>#sk-container-id-9 {color: black;}#sk-container-id-9 pre{padding: 0;}#sk-container-id-9 div.sk-toggleable {background-color: white;}#sk-container-id-9 label.sk-toggleable__label {cursor: pointer;display: block;width: 100%;margin-bottom: 0;padding: 0.3em;box-sizing: border-box;text-align: center;}#sk-container-id-9 label.sk-toggleable__label-arrow:before {content: \"▸\";float: left;margin-right: 0.25em;color: #696969;}#sk-container-id-9 label.sk-toggleable__label-arrow:hover:before {color: black;}#sk-container-id-9 div.sk-estimator:hover label.sk-toggleable__label-arrow:before {color: black;}#sk-container-id-9 div.sk-toggleable__content {max-height: 0;max-width: 0;overflow: hidden;text-align: left;background-color: #f0f8ff;}#sk-container-id-9 div.sk-toggleable__content pre {margin: 0.2em;color: black;border-radius: 0.25em;background-color: #f0f8ff;}#sk-container-id-9 input.sk-toggleable__control:checked~div.sk-toggleable__content {max-height: 200px;max-width: 100%;overflow: auto;}#sk-container-id-9 input.sk-toggleable__control:checked~label.sk-toggleable__label-arrow:before {content: \"▾\";}#sk-container-id-9 div.sk-estimator input.sk-toggleable__control:checked~label.sk-toggleable__label {background-color: #d4ebff;}#sk-container-id-9 div.sk-label input.sk-toggleable__control:checked~label.sk-toggleable__label {background-color: #d4ebff;}#sk-container-id-9 input.sk-hidden--visually {border: 0;clip: rect(1px 1px 1px 1px);clip: rect(1px, 1px, 1px, 1px);height: 1px;margin: -1px;overflow: hidden;padding: 0;position: absolute;width: 1px;}#sk-container-id-9 div.sk-estimator {font-family: monospace;background-color: #f0f8ff;border: 1px dotted black;border-radius: 0.25em;box-sizing: border-box;margin-bottom: 0.5em;}#sk-container-id-9 div.sk-estimator:hover {background-color: #d4ebff;}#sk-container-id-9 div.sk-parallel-item::after {content: \"\";width: 100%;border-bottom: 1px solid gray;flex-grow: 1;}#sk-container-id-9 div.sk-label:hover label.sk-toggleable__label {background-color: #d4ebff;}#sk-container-id-9 div.sk-serial::before {content: \"\";position: absolute;border-left: 1px solid gray;box-sizing: border-box;top: 0;bottom: 0;left: 50%;z-index: 0;}#sk-container-id-9 div.sk-serial {display: flex;flex-direction: column;align-items: center;background-color: white;padding-right: 0.2em;padding-left: 0.2em;position: relative;}#sk-container-id-9 div.sk-item {position: relative;z-index: 1;}#sk-container-id-9 div.sk-parallel {display: flex;align-items: stretch;justify-content: center;background-color: white;position: relative;}#sk-container-id-9 div.sk-item::before, #sk-container-id-9 div.sk-parallel-item::before {content: \"\";position: absolute;border-left: 1px solid gray;box-sizing: border-box;top: 0;bottom: 0;left: 50%;z-index: -1;}#sk-container-id-9 div.sk-parallel-item {display: flex;flex-direction: column;z-index: 1;position: relative;background-color: white;}#sk-container-id-9 div.sk-parallel-item:first-child::after {align-self: flex-end;width: 50%;}#sk-container-id-9 div.sk-parallel-item:last-child::after {align-self: flex-start;width: 50%;}#sk-container-id-9 div.sk-parallel-item:only-child::after {width: 0;}#sk-container-id-9 div.sk-dashed-wrapped {border: 1px dashed gray;margin: 0 0.4em 0.5em 0.4em;box-sizing: border-box;padding-bottom: 0.4em;background-color: white;}#sk-container-id-9 div.sk-label label {font-family: monospace;font-weight: bold;display: inline-block;line-height: 1.2em;}#sk-container-id-9 div.sk-label-container {text-align: center;}#sk-container-id-9 div.sk-container {/* jupyter's `normalize.less` sets `[hidden] { display: none; }` but bootstrap.min.css set `[hidden] { display: none !important; }` so we also need the `!important` here to be able to override the default hidden behavior on the sphinx rendered scikit-learn.org. See: https://github.com/scikit-learn/scikit-learn/issues/21755 */display: inline-block !important;position: relative;}#sk-container-id-9 div.sk-text-repr-fallback {display: none;}</style><div id=\"sk-container-id-9\" class=\"sk-top-container\"><div class=\"sk-text-repr-fallback\"><pre>Pipeline(steps=[(&#x27;pre&#x27;,\n",
       "                 ColumnTransformer(transformers=[(&#x27;num&#x27;, StandardScaler(),\n",
       "                                                  [&#x27;Age&#x27;, &#x27;KM&#x27;, &#x27;HP&#x27;,\n",
       "                                                   &#x27;Automatic&#x27;, &#x27;CC&#x27;, &#x27;Doors&#x27;,\n",
       "                                                   &#x27;Weight&#x27;, &#x27;Cylinders&#x27;,\n",
       "                                                   &#x27;Gears&#x27;]),\n",
       "                                                 (&#x27;cat&#x27;,\n",
       "                                                  OneHotEncoder(drop=&#x27;first&#x27;),\n",
       "                                                  [&#x27;FuelType&#x27;])])),\n",
       "                (&#x27;model&#x27;,\n",
       "                 LassoCV(alphas=array([1.00000000e-03, 1.32571137e-03, 1.75751062e-03, 2.32995181e-03,\n",
       "       3.08884360e-03, 4.09491506e-03, 5.42867544e-03, 7.19685673...\n",
       "       2.68269580e+00, 3.55648031e+00, 4.71486636e+00, 6.25055193e+00,\n",
       "       8.28642773e+00, 1.09854114e+01, 1.45634848e+01, 1.93069773e+01,\n",
       "       2.55954792e+01, 3.39322177e+01, 4.49843267e+01, 5.96362332e+01,\n",
       "       7.90604321e+01, 1.04811313e+02, 1.38949549e+02, 1.84206997e+02,\n",
       "       2.44205309e+02, 3.23745754e+02, 4.29193426e+02, 5.68986603e+02,\n",
       "       7.54312006e+02, 1.00000000e+03]),\n",
       "                         cv=5, max_iter=5000))])</pre><b>In a Jupyter environment, please rerun this cell to show the HTML representation or trust the notebook. <br />On GitHub, the HTML representation is unable to render, please try loading this page with nbviewer.org.</b></div><div class=\"sk-container\" hidden><div class=\"sk-item sk-dashed-wrapped\"><div class=\"sk-label-container\"><div class=\"sk-label sk-toggleable\"><input class=\"sk-toggleable__control sk-hidden--visually\" id=\"sk-estimator-id-56\" type=\"checkbox\" ><label for=\"sk-estimator-id-56\" class=\"sk-toggleable__label sk-toggleable__label-arrow\">Pipeline</label><div class=\"sk-toggleable__content\"><pre>Pipeline(steps=[(&#x27;pre&#x27;,\n",
       "                 ColumnTransformer(transformers=[(&#x27;num&#x27;, StandardScaler(),\n",
       "                                                  [&#x27;Age&#x27;, &#x27;KM&#x27;, &#x27;HP&#x27;,\n",
       "                                                   &#x27;Automatic&#x27;, &#x27;CC&#x27;, &#x27;Doors&#x27;,\n",
       "                                                   &#x27;Weight&#x27;, &#x27;Cylinders&#x27;,\n",
       "                                                   &#x27;Gears&#x27;]),\n",
       "                                                 (&#x27;cat&#x27;,\n",
       "                                                  OneHotEncoder(drop=&#x27;first&#x27;),\n",
       "                                                  [&#x27;FuelType&#x27;])])),\n",
       "                (&#x27;model&#x27;,\n",
       "                 LassoCV(alphas=array([1.00000000e-03, 1.32571137e-03, 1.75751062e-03, 2.32995181e-03,\n",
       "       3.08884360e-03, 4.09491506e-03, 5.42867544e-03, 7.19685673...\n",
       "       2.68269580e+00, 3.55648031e+00, 4.71486636e+00, 6.25055193e+00,\n",
       "       8.28642773e+00, 1.09854114e+01, 1.45634848e+01, 1.93069773e+01,\n",
       "       2.55954792e+01, 3.39322177e+01, 4.49843267e+01, 5.96362332e+01,\n",
       "       7.90604321e+01, 1.04811313e+02, 1.38949549e+02, 1.84206997e+02,\n",
       "       2.44205309e+02, 3.23745754e+02, 4.29193426e+02, 5.68986603e+02,\n",
       "       7.54312006e+02, 1.00000000e+03]),\n",
       "                         cv=5, max_iter=5000))])</pre></div></div></div><div class=\"sk-serial\"><div class=\"sk-item sk-dashed-wrapped\"><div class=\"sk-label-container\"><div class=\"sk-label sk-toggleable\"><input class=\"sk-toggleable__control sk-hidden--visually\" id=\"sk-estimator-id-57\" type=\"checkbox\" ><label for=\"sk-estimator-id-57\" class=\"sk-toggleable__label sk-toggleable__label-arrow\">pre: ColumnTransformer</label><div class=\"sk-toggleable__content\"><pre>ColumnTransformer(transformers=[(&#x27;num&#x27;, StandardScaler(),\n",
       "                                 [&#x27;Age&#x27;, &#x27;KM&#x27;, &#x27;HP&#x27;, &#x27;Automatic&#x27;, &#x27;CC&#x27;, &#x27;Doors&#x27;,\n",
       "                                  &#x27;Weight&#x27;, &#x27;Cylinders&#x27;, &#x27;Gears&#x27;]),\n",
       "                                (&#x27;cat&#x27;, OneHotEncoder(drop=&#x27;first&#x27;),\n",
       "                                 [&#x27;FuelType&#x27;])])</pre></div></div></div><div class=\"sk-parallel\"><div class=\"sk-parallel-item\"><div class=\"sk-item\"><div class=\"sk-label-container\"><div class=\"sk-label sk-toggleable\"><input class=\"sk-toggleable__control sk-hidden--visually\" id=\"sk-estimator-id-58\" type=\"checkbox\" ><label for=\"sk-estimator-id-58\" class=\"sk-toggleable__label sk-toggleable__label-arrow\">num</label><div class=\"sk-toggleable__content\"><pre>[&#x27;Age&#x27;, &#x27;KM&#x27;, &#x27;HP&#x27;, &#x27;Automatic&#x27;, &#x27;CC&#x27;, &#x27;Doors&#x27;, &#x27;Weight&#x27;, &#x27;Cylinders&#x27;, &#x27;Gears&#x27;]</pre></div></div></div><div class=\"sk-serial\"><div class=\"sk-item\"><div class=\"sk-estimator sk-toggleable\"><input class=\"sk-toggleable__control sk-hidden--visually\" id=\"sk-estimator-id-59\" type=\"checkbox\" ><label for=\"sk-estimator-id-59\" class=\"sk-toggleable__label sk-toggleable__label-arrow\">StandardScaler</label><div class=\"sk-toggleable__content\"><pre>StandardScaler()</pre></div></div></div></div></div></div><div class=\"sk-parallel-item\"><div class=\"sk-item\"><div class=\"sk-label-container\"><div class=\"sk-label sk-toggleable\"><input class=\"sk-toggleable__control sk-hidden--visually\" id=\"sk-estimator-id-60\" type=\"checkbox\" ><label for=\"sk-estimator-id-60\" class=\"sk-toggleable__label sk-toggleable__label-arrow\">cat</label><div class=\"sk-toggleable__content\"><pre>[&#x27;FuelType&#x27;]</pre></div></div></div><div class=\"sk-serial\"><div class=\"sk-item\"><div class=\"sk-estimator sk-toggleable\"><input class=\"sk-toggleable__control sk-hidden--visually\" id=\"sk-estimator-id-61\" type=\"checkbox\" ><label for=\"sk-estimator-id-61\" class=\"sk-toggleable__label sk-toggleable__label-arrow\">OneHotEncoder</label><div class=\"sk-toggleable__content\"><pre>OneHotEncoder(drop=&#x27;first&#x27;)</pre></div></div></div></div></div></div></div></div><div class=\"sk-item\"><div class=\"sk-estimator sk-toggleable\"><input class=\"sk-toggleable__control sk-hidden--visually\" id=\"sk-estimator-id-62\" type=\"checkbox\" ><label for=\"sk-estimator-id-62\" class=\"sk-toggleable__label sk-toggleable__label-arrow\">LassoCV</label><div class=\"sk-toggleable__content\"><pre>LassoCV(alphas=array([1.00000000e-03, 1.32571137e-03, 1.75751062e-03, 2.32995181e-03,\n",
       "       3.08884360e-03, 4.09491506e-03, 5.42867544e-03, 7.19685673e-03,\n",
       "       9.54095476e-03, 1.26485522e-02, 1.67683294e-02, 2.22299648e-02,\n",
       "       2.94705170e-02, 3.90693994e-02, 5.17947468e-02, 6.86648845e-02,\n",
       "       9.10298178e-02, 1.20679264e-01, 1.59985872e-01, 2.12095089e-01,\n",
       "       2.81176870e-01, 3.72759372e-0...\n",
       "       2.68269580e+00, 3.55648031e+00, 4.71486636e+00, 6.25055193e+00,\n",
       "       8.28642773e+00, 1.09854114e+01, 1.45634848e+01, 1.93069773e+01,\n",
       "       2.55954792e+01, 3.39322177e+01, 4.49843267e+01, 5.96362332e+01,\n",
       "       7.90604321e+01, 1.04811313e+02, 1.38949549e+02, 1.84206997e+02,\n",
       "       2.44205309e+02, 3.23745754e+02, 4.29193426e+02, 5.68986603e+02,\n",
       "       7.54312006e+02, 1.00000000e+03]),\n",
       "        cv=5, max_iter=5000)</pre></div></div></div></div></div></div></div>"
      ],
      "text/plain": [
       "Pipeline(steps=[('pre',\n",
       "                 ColumnTransformer(transformers=[('num', StandardScaler(),\n",
       "                                                  ['Age', 'KM', 'HP',\n",
       "                                                   'Automatic', 'CC', 'Doors',\n",
       "                                                   'Weight', 'Cylinders',\n",
       "                                                   'Gears']),\n",
       "                                                 ('cat',\n",
       "                                                  OneHotEncoder(drop='first'),\n",
       "                                                  ['FuelType'])])),\n",
       "                ('model',\n",
       "                 LassoCV(alphas=array([1.00000000e-03, 1.32571137e-03, 1.75751062e-03, 2.32995181e-03,\n",
       "       3.08884360e-03, 4.09491506e-03, 5.42867544e-03, 7.19685673...\n",
       "       2.68269580e+00, 3.55648031e+00, 4.71486636e+00, 6.25055193e+00,\n",
       "       8.28642773e+00, 1.09854114e+01, 1.45634848e+01, 1.93069773e+01,\n",
       "       2.55954792e+01, 3.39322177e+01, 4.49843267e+01, 5.96362332e+01,\n",
       "       7.90604321e+01, 1.04811313e+02, 1.38949549e+02, 1.84206997e+02,\n",
       "       2.44205309e+02, 3.23745754e+02, 4.29193426e+02, 5.68986603e+02,\n",
       "       7.54312006e+02, 1.00000000e+03]),\n",
       "                         cv=5, max_iter=5000))])"
      ]
     },
     "execution_count": 40,
     "metadata": {},
     "output_type": "execute_result"
    }
   ],
   "source": [
    "# -------------------------------\n",
    "# 🔹 LASSO REGRESSION\n",
    "# -------------------------------\n",
    "# Lasso (L1 regularization) shrinks some coefficients to zero\n",
    "# Useful for feature selection and reducing overfitting\n",
    "lasso = Pipeline([\n",
    "    (\"pre\", preprocessor),  # Apply preprocessing (e.g., scaling, encoding)\n",
    "    (\"model\", LassoCV(alphas=alphas, cv=5, max_iter=5000))  # LassoCV performs automatic cross-validation\n",
    "])\n",
    "lasso"
   ]
  },
  {
   "cell_type": "code",
   "execution_count": 41,
   "id": "590e0265-a502-4c1d-a0d3-9c250b1f925b",
   "metadata": {},
   "outputs": [
    {
     "data": {
      "text/html": [
       "<style>#sk-container-id-10 {color: black;}#sk-container-id-10 pre{padding: 0;}#sk-container-id-10 div.sk-toggleable {background-color: white;}#sk-container-id-10 label.sk-toggleable__label {cursor: pointer;display: block;width: 100%;margin-bottom: 0;padding: 0.3em;box-sizing: border-box;text-align: center;}#sk-container-id-10 label.sk-toggleable__label-arrow:before {content: \"▸\";float: left;margin-right: 0.25em;color: #696969;}#sk-container-id-10 label.sk-toggleable__label-arrow:hover:before {color: black;}#sk-container-id-10 div.sk-estimator:hover label.sk-toggleable__label-arrow:before {color: black;}#sk-container-id-10 div.sk-toggleable__content {max-height: 0;max-width: 0;overflow: hidden;text-align: left;background-color: #f0f8ff;}#sk-container-id-10 div.sk-toggleable__content pre {margin: 0.2em;color: black;border-radius: 0.25em;background-color: #f0f8ff;}#sk-container-id-10 input.sk-toggleable__control:checked~div.sk-toggleable__content {max-height: 200px;max-width: 100%;overflow: auto;}#sk-container-id-10 input.sk-toggleable__control:checked~label.sk-toggleable__label-arrow:before {content: \"▾\";}#sk-container-id-10 div.sk-estimator input.sk-toggleable__control:checked~label.sk-toggleable__label {background-color: #d4ebff;}#sk-container-id-10 div.sk-label input.sk-toggleable__control:checked~label.sk-toggleable__label {background-color: #d4ebff;}#sk-container-id-10 input.sk-hidden--visually {border: 0;clip: rect(1px 1px 1px 1px);clip: rect(1px, 1px, 1px, 1px);height: 1px;margin: -1px;overflow: hidden;padding: 0;position: absolute;width: 1px;}#sk-container-id-10 div.sk-estimator {font-family: monospace;background-color: #f0f8ff;border: 1px dotted black;border-radius: 0.25em;box-sizing: border-box;margin-bottom: 0.5em;}#sk-container-id-10 div.sk-estimator:hover {background-color: #d4ebff;}#sk-container-id-10 div.sk-parallel-item::after {content: \"\";width: 100%;border-bottom: 1px solid gray;flex-grow: 1;}#sk-container-id-10 div.sk-label:hover label.sk-toggleable__label {background-color: #d4ebff;}#sk-container-id-10 div.sk-serial::before {content: \"\";position: absolute;border-left: 1px solid gray;box-sizing: border-box;top: 0;bottom: 0;left: 50%;z-index: 0;}#sk-container-id-10 div.sk-serial {display: flex;flex-direction: column;align-items: center;background-color: white;padding-right: 0.2em;padding-left: 0.2em;position: relative;}#sk-container-id-10 div.sk-item {position: relative;z-index: 1;}#sk-container-id-10 div.sk-parallel {display: flex;align-items: stretch;justify-content: center;background-color: white;position: relative;}#sk-container-id-10 div.sk-item::before, #sk-container-id-10 div.sk-parallel-item::before {content: \"\";position: absolute;border-left: 1px solid gray;box-sizing: border-box;top: 0;bottom: 0;left: 50%;z-index: -1;}#sk-container-id-10 div.sk-parallel-item {display: flex;flex-direction: column;z-index: 1;position: relative;background-color: white;}#sk-container-id-10 div.sk-parallel-item:first-child::after {align-self: flex-end;width: 50%;}#sk-container-id-10 div.sk-parallel-item:last-child::after {align-self: flex-start;width: 50%;}#sk-container-id-10 div.sk-parallel-item:only-child::after {width: 0;}#sk-container-id-10 div.sk-dashed-wrapped {border: 1px dashed gray;margin: 0 0.4em 0.5em 0.4em;box-sizing: border-box;padding-bottom: 0.4em;background-color: white;}#sk-container-id-10 div.sk-label label {font-family: monospace;font-weight: bold;display: inline-block;line-height: 1.2em;}#sk-container-id-10 div.sk-label-container {text-align: center;}#sk-container-id-10 div.sk-container {/* jupyter's `normalize.less` sets `[hidden] { display: none; }` but bootstrap.min.css set `[hidden] { display: none !important; }` so we also need the `!important` here to be able to override the default hidden behavior on the sphinx rendered scikit-learn.org. See: https://github.com/scikit-learn/scikit-learn/issues/21755 */display: inline-block !important;position: relative;}#sk-container-id-10 div.sk-text-repr-fallback {display: none;}</style><div id=\"sk-container-id-10\" class=\"sk-top-container\"><div class=\"sk-text-repr-fallback\"><pre>Pipeline(steps=[(&#x27;pre&#x27;,\n",
       "                 ColumnTransformer(transformers=[(&#x27;num&#x27;, StandardScaler(),\n",
       "                                                  [&#x27;Age&#x27;, &#x27;KM&#x27;, &#x27;HP&#x27;,\n",
       "                                                   &#x27;Automatic&#x27;, &#x27;CC&#x27;, &#x27;Doors&#x27;,\n",
       "                                                   &#x27;Weight&#x27;, &#x27;Cylinders&#x27;,\n",
       "                                                   &#x27;Gears&#x27;]),\n",
       "                                                 (&#x27;cat&#x27;,\n",
       "                                                  OneHotEncoder(drop=&#x27;first&#x27;),\n",
       "                                                  [&#x27;FuelType&#x27;])])),\n",
       "                (&#x27;model&#x27;,\n",
       "                 LassoCV(alphas=array([1.00000000e-03, 1.32571137e-03, 1.75751062e-03, 2.32995181e-03,\n",
       "       3.08884360e-03, 4.09491506e-03, 5.42867544e-03, 7.19685673...\n",
       "       2.68269580e+00, 3.55648031e+00, 4.71486636e+00, 6.25055193e+00,\n",
       "       8.28642773e+00, 1.09854114e+01, 1.45634848e+01, 1.93069773e+01,\n",
       "       2.55954792e+01, 3.39322177e+01, 4.49843267e+01, 5.96362332e+01,\n",
       "       7.90604321e+01, 1.04811313e+02, 1.38949549e+02, 1.84206997e+02,\n",
       "       2.44205309e+02, 3.23745754e+02, 4.29193426e+02, 5.68986603e+02,\n",
       "       7.54312006e+02, 1.00000000e+03]),\n",
       "                         cv=5, max_iter=5000))])</pre><b>In a Jupyter environment, please rerun this cell to show the HTML representation or trust the notebook. <br />On GitHub, the HTML representation is unable to render, please try loading this page with nbviewer.org.</b></div><div class=\"sk-container\" hidden><div class=\"sk-item sk-dashed-wrapped\"><div class=\"sk-label-container\"><div class=\"sk-label sk-toggleable\"><input class=\"sk-toggleable__control sk-hidden--visually\" id=\"sk-estimator-id-63\" type=\"checkbox\" ><label for=\"sk-estimator-id-63\" class=\"sk-toggleable__label sk-toggleable__label-arrow\">Pipeline</label><div class=\"sk-toggleable__content\"><pre>Pipeline(steps=[(&#x27;pre&#x27;,\n",
       "                 ColumnTransformer(transformers=[(&#x27;num&#x27;, StandardScaler(),\n",
       "                                                  [&#x27;Age&#x27;, &#x27;KM&#x27;, &#x27;HP&#x27;,\n",
       "                                                   &#x27;Automatic&#x27;, &#x27;CC&#x27;, &#x27;Doors&#x27;,\n",
       "                                                   &#x27;Weight&#x27;, &#x27;Cylinders&#x27;,\n",
       "                                                   &#x27;Gears&#x27;]),\n",
       "                                                 (&#x27;cat&#x27;,\n",
       "                                                  OneHotEncoder(drop=&#x27;first&#x27;),\n",
       "                                                  [&#x27;FuelType&#x27;])])),\n",
       "                (&#x27;model&#x27;,\n",
       "                 LassoCV(alphas=array([1.00000000e-03, 1.32571137e-03, 1.75751062e-03, 2.32995181e-03,\n",
       "       3.08884360e-03, 4.09491506e-03, 5.42867544e-03, 7.19685673...\n",
       "       2.68269580e+00, 3.55648031e+00, 4.71486636e+00, 6.25055193e+00,\n",
       "       8.28642773e+00, 1.09854114e+01, 1.45634848e+01, 1.93069773e+01,\n",
       "       2.55954792e+01, 3.39322177e+01, 4.49843267e+01, 5.96362332e+01,\n",
       "       7.90604321e+01, 1.04811313e+02, 1.38949549e+02, 1.84206997e+02,\n",
       "       2.44205309e+02, 3.23745754e+02, 4.29193426e+02, 5.68986603e+02,\n",
       "       7.54312006e+02, 1.00000000e+03]),\n",
       "                         cv=5, max_iter=5000))])</pre></div></div></div><div class=\"sk-serial\"><div class=\"sk-item sk-dashed-wrapped\"><div class=\"sk-label-container\"><div class=\"sk-label sk-toggleable\"><input class=\"sk-toggleable__control sk-hidden--visually\" id=\"sk-estimator-id-64\" type=\"checkbox\" ><label for=\"sk-estimator-id-64\" class=\"sk-toggleable__label sk-toggleable__label-arrow\">pre: ColumnTransformer</label><div class=\"sk-toggleable__content\"><pre>ColumnTransformer(transformers=[(&#x27;num&#x27;, StandardScaler(),\n",
       "                                 [&#x27;Age&#x27;, &#x27;KM&#x27;, &#x27;HP&#x27;, &#x27;Automatic&#x27;, &#x27;CC&#x27;, &#x27;Doors&#x27;,\n",
       "                                  &#x27;Weight&#x27;, &#x27;Cylinders&#x27;, &#x27;Gears&#x27;]),\n",
       "                                (&#x27;cat&#x27;, OneHotEncoder(drop=&#x27;first&#x27;),\n",
       "                                 [&#x27;FuelType&#x27;])])</pre></div></div></div><div class=\"sk-parallel\"><div class=\"sk-parallel-item\"><div class=\"sk-item\"><div class=\"sk-label-container\"><div class=\"sk-label sk-toggleable\"><input class=\"sk-toggleable__control sk-hidden--visually\" id=\"sk-estimator-id-65\" type=\"checkbox\" ><label for=\"sk-estimator-id-65\" class=\"sk-toggleable__label sk-toggleable__label-arrow\">num</label><div class=\"sk-toggleable__content\"><pre>[&#x27;Age&#x27;, &#x27;KM&#x27;, &#x27;HP&#x27;, &#x27;Automatic&#x27;, &#x27;CC&#x27;, &#x27;Doors&#x27;, &#x27;Weight&#x27;, &#x27;Cylinders&#x27;, &#x27;Gears&#x27;]</pre></div></div></div><div class=\"sk-serial\"><div class=\"sk-item\"><div class=\"sk-estimator sk-toggleable\"><input class=\"sk-toggleable__control sk-hidden--visually\" id=\"sk-estimator-id-66\" type=\"checkbox\" ><label for=\"sk-estimator-id-66\" class=\"sk-toggleable__label sk-toggleable__label-arrow\">StandardScaler</label><div class=\"sk-toggleable__content\"><pre>StandardScaler()</pre></div></div></div></div></div></div><div class=\"sk-parallel-item\"><div class=\"sk-item\"><div class=\"sk-label-container\"><div class=\"sk-label sk-toggleable\"><input class=\"sk-toggleable__control sk-hidden--visually\" id=\"sk-estimator-id-67\" type=\"checkbox\" ><label for=\"sk-estimator-id-67\" class=\"sk-toggleable__label sk-toggleable__label-arrow\">cat</label><div class=\"sk-toggleable__content\"><pre>[&#x27;FuelType&#x27;]</pre></div></div></div><div class=\"sk-serial\"><div class=\"sk-item\"><div class=\"sk-estimator sk-toggleable\"><input class=\"sk-toggleable__control sk-hidden--visually\" id=\"sk-estimator-id-68\" type=\"checkbox\" ><label for=\"sk-estimator-id-68\" class=\"sk-toggleable__label sk-toggleable__label-arrow\">OneHotEncoder</label><div class=\"sk-toggleable__content\"><pre>OneHotEncoder(drop=&#x27;first&#x27;)</pre></div></div></div></div></div></div></div></div><div class=\"sk-item\"><div class=\"sk-estimator sk-toggleable\"><input class=\"sk-toggleable__control sk-hidden--visually\" id=\"sk-estimator-id-69\" type=\"checkbox\" ><label for=\"sk-estimator-id-69\" class=\"sk-toggleable__label sk-toggleable__label-arrow\">LassoCV</label><div class=\"sk-toggleable__content\"><pre>LassoCV(alphas=array([1.00000000e-03, 1.32571137e-03, 1.75751062e-03, 2.32995181e-03,\n",
       "       3.08884360e-03, 4.09491506e-03, 5.42867544e-03, 7.19685673e-03,\n",
       "       9.54095476e-03, 1.26485522e-02, 1.67683294e-02, 2.22299648e-02,\n",
       "       2.94705170e-02, 3.90693994e-02, 5.17947468e-02, 6.86648845e-02,\n",
       "       9.10298178e-02, 1.20679264e-01, 1.59985872e-01, 2.12095089e-01,\n",
       "       2.81176870e-01, 3.72759372e-0...\n",
       "       2.68269580e+00, 3.55648031e+00, 4.71486636e+00, 6.25055193e+00,\n",
       "       8.28642773e+00, 1.09854114e+01, 1.45634848e+01, 1.93069773e+01,\n",
       "       2.55954792e+01, 3.39322177e+01, 4.49843267e+01, 5.96362332e+01,\n",
       "       7.90604321e+01, 1.04811313e+02, 1.38949549e+02, 1.84206997e+02,\n",
       "       2.44205309e+02, 3.23745754e+02, 4.29193426e+02, 5.68986603e+02,\n",
       "       7.54312006e+02, 1.00000000e+03]),\n",
       "        cv=5, max_iter=5000)</pre></div></div></div></div></div></div></div>"
      ],
      "text/plain": [
       "Pipeline(steps=[('pre',\n",
       "                 ColumnTransformer(transformers=[('num', StandardScaler(),\n",
       "                                                  ['Age', 'KM', 'HP',\n",
       "                                                   'Automatic', 'CC', 'Doors',\n",
       "                                                   'Weight', 'Cylinders',\n",
       "                                                   'Gears']),\n",
       "                                                 ('cat',\n",
       "                                                  OneHotEncoder(drop='first'),\n",
       "                                                  ['FuelType'])])),\n",
       "                ('model',\n",
       "                 LassoCV(alphas=array([1.00000000e-03, 1.32571137e-03, 1.75751062e-03, 2.32995181e-03,\n",
       "       3.08884360e-03, 4.09491506e-03, 5.42867544e-03, 7.19685673...\n",
       "       2.68269580e+00, 3.55648031e+00, 4.71486636e+00, 6.25055193e+00,\n",
       "       8.28642773e+00, 1.09854114e+01, 1.45634848e+01, 1.93069773e+01,\n",
       "       2.55954792e+01, 3.39322177e+01, 4.49843267e+01, 5.96362332e+01,\n",
       "       7.90604321e+01, 1.04811313e+02, 1.38949549e+02, 1.84206997e+02,\n",
       "       2.44205309e+02, 3.23745754e+02, 4.29193426e+02, 5.68986603e+02,\n",
       "       7.54312006e+02, 1.00000000e+03]),\n",
       "                         cv=5, max_iter=5000))])"
      ]
     },
     "execution_count": 41,
     "metadata": {},
     "output_type": "execute_result"
    }
   ],
   "source": [
    "# Fit the Lasso model to the training data\n",
    "lasso.fit(X_train, y_train)"
   ]
  },
  {
   "cell_type": "code",
   "execution_count": 42,
   "id": "3e8aa619-9991-4d64-b857-fcbc9674373b",
   "metadata": {},
   "outputs": [
    {
     "data": {
      "text/plain": [
       "array([11324.49643073,  8946.51652894,  9603.04524616,  8952.1404755 ,\n",
       "       10090.58860928,  7807.04915945,  8797.10867339,  8339.16634345,\n",
       "       14059.84653973, 13114.64914106,  9353.14976538,  9360.36116866,\n",
       "       12937.46397193, 13092.62960752,  9752.76525825,  8341.84433101,\n",
       "       12315.70575886, 17304.60273839,  7341.05656513,  9182.41663597,\n",
       "       12788.15561775, 17675.1449736 ,  7910.1229174 , 10528.63236786,\n",
       "        7480.5237661 , 15849.65826302,  9707.91175176,  7297.02802605,\n",
       "       15418.92433504, 14505.62280704,  8162.49000887,  9916.39616337,\n",
       "        8521.64792058, 10127.30999299, 10301.0149767 ,  8042.1509656 ,\n",
       "        8932.20458061,  9993.37780293, 16114.86337041,  9480.03360903,\n",
       "        9901.72484152,  9561.84159221,  7878.76398698,  5489.66562515,\n",
       "        6875.10295492, 16890.65440455,  9465.28653533, 10661.97484459,\n",
       "        8819.18325845, 13480.77645959, 13036.10684384,  6426.3536012 ,\n",
       "       14644.29888445, 16043.6152125 ,  6053.13961321,  7731.43303672,\n",
       "       10464.93926636, 10570.74437373, 15838.51784229, 18681.84605345,\n",
       "       12573.63754126,  8315.58482703,  7879.03924502, 11038.84495275,\n",
       "       13361.5663634 ,  8932.89982894, 13288.32720818,  7549.1952479 ,\n",
       "        8281.690064  , 10790.74601759, 19741.91606457, 11112.11575814,\n",
       "       13020.13224667,  7464.62017258, 18503.77902351, 13866.89430694,\n",
       "        8203.85336122,  7568.99544473,  9866.74414429,  9095.91336214,\n",
       "       10302.95948428,  8674.09297779, 10500.82651414, 10833.76933655,\n",
       "        7618.62056386,  6322.59805077, 11122.26446491, 13021.28449434,\n",
       "        9603.86262796, 10983.62815049,  7846.37186132,  6737.38908389,\n",
       "       10543.8176347 , 10808.79645687, 12705.11912981,  9242.17142587,\n",
       "       21257.41057878,  7943.34959667, 13998.09490362,  8765.75244851,\n",
       "       10782.50018901,  9589.86618895, 10692.37099065, 16502.46942393,\n",
       "        8810.49148795,  7679.03698658, 16510.7077995 ,  7783.13506114,\n",
       "        9646.16926993,  8702.48709966, 11701.59363638, 10832.74903276,\n",
       "        9852.9594447 , 13764.81088666,  9424.127972  ,  8257.33110638,\n",
       "        6566.94329625, 13399.04075898, 12541.00809234, 13957.68068321,\n",
       "        7895.99500566,  7413.69047406,  8374.46678708, 15277.77147491,\n",
       "       11726.71822342,  8958.08141405, 13056.63194863,  9324.39190232,\n",
       "        8523.5035857 , 12675.10179286, 11290.58688845, 15346.15513828,\n",
       "       10611.57300671,  9612.90680881,  6577.91674369,  9390.19938552,\n",
       "       10340.28737517, 11511.42715124,  8262.5334748 ,  5120.42689416,\n",
       "       12446.85174547, 10593.03160015, 12433.06323211,  8359.88770123,\n",
       "       12207.16307294, 11274.91677824,  7182.50401558,  8561.41030792,\n",
       "        8363.54288905, 11308.90699746, 10338.77179076, 15800.10751593,\n",
       "        8534.58436527,  9111.2927721 , 11250.53329743, 11007.40578518,\n",
       "        8768.80039867, 13329.29673465, 10008.01678431, 19052.82537602,\n",
       "       11162.45527581, 15485.72604474, 15150.19205578,  7736.38397417,\n",
       "        9014.4131699 , 12814.21900703,  7972.55928291, 13532.72653274,\n",
       "        8252.6596272 ,  7655.63751297,  8226.70625078, 12429.0114127 ,\n",
       "        9333.15462221, 12925.51532057, 10442.53263706,  9496.80498906,\n",
       "       16532.04813394, 10777.30264076,  9720.76945911, 10686.40292562,\n",
       "       12230.72551024, 11039.85077561, 13673.85921635,  7939.94339782,\n",
       "        9275.7723048 ,  7571.91708675,  6026.59418663,  8327.95100267,\n",
       "        9667.18806865, 10695.96809342,  9092.34900493,  7474.72877043,\n",
       "        6219.97758158, 11261.79445923, 10408.19264007, 11005.9564618 ,\n",
       "        6989.97826297,  7294.64860884, 10030.95237959, 17544.41094331,\n",
       "        9326.37688127,  7790.52177396,  7109.6367983 ,  8917.34164398,\n",
       "       15877.75444439, 16918.6316514 , 10648.34829803, 10047.03108514,\n",
       "       10975.26961731,  9199.8569705 ,  9048.63365612, 11145.00569392,\n",
       "        9937.06535192, 10153.64203779,  6971.51043401, 11750.9969088 ,\n",
       "        7934.40549146,  9222.62150544,  7233.22898743, 11529.17578785,\n",
       "        8802.80288387, 10666.39994048, 10960.85491685, 10226.40972605,\n",
       "       17116.67306581,  6613.87384055, 15899.07168912,  7486.04429488,\n",
       "       13206.37948459,  7359.2949848 , 12363.54500779,  9574.84371902,\n",
       "       26217.72824359,  7821.61711983,  9388.2739858 ,  8355.96793552,\n",
       "       13828.55464022, 13180.05803324, 10072.80469917,  8619.15439725,\n",
       "       13975.93602848, 18914.42944928, 13637.44561687,  9591.29724763,\n",
       "       20453.10805311,  9782.40764373,  9296.2193551 ,  9968.63489228,\n",
       "        9977.53965807,  9271.75569512,  8598.21287019, 10406.76082714,\n",
       "        8702.14560183,  5493.34568019, 10480.10683379, 10873.53894981,\n",
       "        6763.53104932, 10067.63744483, 13348.63999579, 11013.44348656,\n",
       "       12847.51022864,  7010.85511504,  6098.17474272, 10642.81414448,\n",
       "        6575.51011717, 12265.4704114 , 13308.39176002,  5435.56183912,\n",
       "        8576.73790265,  8109.40714978, 13189.55443507, 15418.68907929,\n",
       "        6737.17626186, 13507.72237965,  7895.88181753,  7293.21059371,\n",
       "        8444.95163643,  7866.59087651,  6325.84907952, 22399.60553774,\n",
       "       22525.05167859, 10329.71214458,  7293.69201495, 18891.13317771,\n",
       "        8155.63335344, 13518.08424713, 10633.16816714, 10765.6355098 ])"
      ]
     },
     "execution_count": 42,
     "metadata": {},
     "output_type": "execute_result"
    }
   ],
   "source": [
    "# Predict prices on the test data\n",
    "y_pred_lasso = lasso.predict(X_test)\n",
    "y_pred_lasso"
   ]
  },
  {
   "cell_type": "code",
   "execution_count": 43,
   "id": "2b630378-60e1-4b02-9c7e-0c233b8c42ba",
   "metadata": {},
   "outputs": [
    {
     "data": {
      "text/html": [
       "<style>#sk-container-id-11 {color: black;}#sk-container-id-11 pre{padding: 0;}#sk-container-id-11 div.sk-toggleable {background-color: white;}#sk-container-id-11 label.sk-toggleable__label {cursor: pointer;display: block;width: 100%;margin-bottom: 0;padding: 0.3em;box-sizing: border-box;text-align: center;}#sk-container-id-11 label.sk-toggleable__label-arrow:before {content: \"▸\";float: left;margin-right: 0.25em;color: #696969;}#sk-container-id-11 label.sk-toggleable__label-arrow:hover:before {color: black;}#sk-container-id-11 div.sk-estimator:hover label.sk-toggleable__label-arrow:before {color: black;}#sk-container-id-11 div.sk-toggleable__content {max-height: 0;max-width: 0;overflow: hidden;text-align: left;background-color: #f0f8ff;}#sk-container-id-11 div.sk-toggleable__content pre {margin: 0.2em;color: black;border-radius: 0.25em;background-color: #f0f8ff;}#sk-container-id-11 input.sk-toggleable__control:checked~div.sk-toggleable__content {max-height: 200px;max-width: 100%;overflow: auto;}#sk-container-id-11 input.sk-toggleable__control:checked~label.sk-toggleable__label-arrow:before {content: \"▾\";}#sk-container-id-11 div.sk-estimator input.sk-toggleable__control:checked~label.sk-toggleable__label {background-color: #d4ebff;}#sk-container-id-11 div.sk-label input.sk-toggleable__control:checked~label.sk-toggleable__label {background-color: #d4ebff;}#sk-container-id-11 input.sk-hidden--visually {border: 0;clip: rect(1px 1px 1px 1px);clip: rect(1px, 1px, 1px, 1px);height: 1px;margin: -1px;overflow: hidden;padding: 0;position: absolute;width: 1px;}#sk-container-id-11 div.sk-estimator {font-family: monospace;background-color: #f0f8ff;border: 1px dotted black;border-radius: 0.25em;box-sizing: border-box;margin-bottom: 0.5em;}#sk-container-id-11 div.sk-estimator:hover {background-color: #d4ebff;}#sk-container-id-11 div.sk-parallel-item::after {content: \"\";width: 100%;border-bottom: 1px solid gray;flex-grow: 1;}#sk-container-id-11 div.sk-label:hover label.sk-toggleable__label {background-color: #d4ebff;}#sk-container-id-11 div.sk-serial::before {content: \"\";position: absolute;border-left: 1px solid gray;box-sizing: border-box;top: 0;bottom: 0;left: 50%;z-index: 0;}#sk-container-id-11 div.sk-serial {display: flex;flex-direction: column;align-items: center;background-color: white;padding-right: 0.2em;padding-left: 0.2em;position: relative;}#sk-container-id-11 div.sk-item {position: relative;z-index: 1;}#sk-container-id-11 div.sk-parallel {display: flex;align-items: stretch;justify-content: center;background-color: white;position: relative;}#sk-container-id-11 div.sk-item::before, #sk-container-id-11 div.sk-parallel-item::before {content: \"\";position: absolute;border-left: 1px solid gray;box-sizing: border-box;top: 0;bottom: 0;left: 50%;z-index: -1;}#sk-container-id-11 div.sk-parallel-item {display: flex;flex-direction: column;z-index: 1;position: relative;background-color: white;}#sk-container-id-11 div.sk-parallel-item:first-child::after {align-self: flex-end;width: 50%;}#sk-container-id-11 div.sk-parallel-item:last-child::after {align-self: flex-start;width: 50%;}#sk-container-id-11 div.sk-parallel-item:only-child::after {width: 0;}#sk-container-id-11 div.sk-dashed-wrapped {border: 1px dashed gray;margin: 0 0.4em 0.5em 0.4em;box-sizing: border-box;padding-bottom: 0.4em;background-color: white;}#sk-container-id-11 div.sk-label label {font-family: monospace;font-weight: bold;display: inline-block;line-height: 1.2em;}#sk-container-id-11 div.sk-label-container {text-align: center;}#sk-container-id-11 div.sk-container {/* jupyter's `normalize.less` sets `[hidden] { display: none; }` but bootstrap.min.css set `[hidden] { display: none !important; }` so we also need the `!important` here to be able to override the default hidden behavior on the sphinx rendered scikit-learn.org. See: https://github.com/scikit-learn/scikit-learn/issues/21755 */display: inline-block !important;position: relative;}#sk-container-id-11 div.sk-text-repr-fallback {display: none;}</style><div id=\"sk-container-id-11\" class=\"sk-top-container\"><div class=\"sk-text-repr-fallback\"><pre>Pipeline(steps=[(&#x27;pre&#x27;,\n",
       "                 ColumnTransformer(transformers=[(&#x27;num&#x27;, StandardScaler(),\n",
       "                                                  [&#x27;Age&#x27;, &#x27;KM&#x27;, &#x27;HP&#x27;,\n",
       "                                                   &#x27;Automatic&#x27;, &#x27;CC&#x27;, &#x27;Doors&#x27;,\n",
       "                                                   &#x27;Weight&#x27;, &#x27;Cylinders&#x27;,\n",
       "                                                   &#x27;Gears&#x27;]),\n",
       "                                                 (&#x27;cat&#x27;,\n",
       "                                                  OneHotEncoder(drop=&#x27;first&#x27;),\n",
       "                                                  [&#x27;FuelType&#x27;])])),\n",
       "                (&#x27;model&#x27;,\n",
       "                 RidgeCV(alphas=array([1.00000000e-03, 1.32571137e-03, 1.75751062e-03, 2.32995181e-03,\n",
       "       3.08884360e-03, 4.09491506e-03, 5.42867544e-03, 7.19685673...\n",
       "       8.68511374e-01, 1.15139540e+00, 1.52641797e+00, 2.02358965e+00,\n",
       "       2.68269580e+00, 3.55648031e+00, 4.71486636e+00, 6.25055193e+00,\n",
       "       8.28642773e+00, 1.09854114e+01, 1.45634848e+01, 1.93069773e+01,\n",
       "       2.55954792e+01, 3.39322177e+01, 4.49843267e+01, 5.96362332e+01,\n",
       "       7.90604321e+01, 1.04811313e+02, 1.38949549e+02, 1.84206997e+02,\n",
       "       2.44205309e+02, 3.23745754e+02, 4.29193426e+02, 5.68986603e+02,\n",
       "       7.54312006e+02, 1.00000000e+03]),\n",
       "                         cv=5))])</pre><b>In a Jupyter environment, please rerun this cell to show the HTML representation or trust the notebook. <br />On GitHub, the HTML representation is unable to render, please try loading this page with nbviewer.org.</b></div><div class=\"sk-container\" hidden><div class=\"sk-item sk-dashed-wrapped\"><div class=\"sk-label-container\"><div class=\"sk-label sk-toggleable\"><input class=\"sk-toggleable__control sk-hidden--visually\" id=\"sk-estimator-id-70\" type=\"checkbox\" ><label for=\"sk-estimator-id-70\" class=\"sk-toggleable__label sk-toggleable__label-arrow\">Pipeline</label><div class=\"sk-toggleable__content\"><pre>Pipeline(steps=[(&#x27;pre&#x27;,\n",
       "                 ColumnTransformer(transformers=[(&#x27;num&#x27;, StandardScaler(),\n",
       "                                                  [&#x27;Age&#x27;, &#x27;KM&#x27;, &#x27;HP&#x27;,\n",
       "                                                   &#x27;Automatic&#x27;, &#x27;CC&#x27;, &#x27;Doors&#x27;,\n",
       "                                                   &#x27;Weight&#x27;, &#x27;Cylinders&#x27;,\n",
       "                                                   &#x27;Gears&#x27;]),\n",
       "                                                 (&#x27;cat&#x27;,\n",
       "                                                  OneHotEncoder(drop=&#x27;first&#x27;),\n",
       "                                                  [&#x27;FuelType&#x27;])])),\n",
       "                (&#x27;model&#x27;,\n",
       "                 RidgeCV(alphas=array([1.00000000e-03, 1.32571137e-03, 1.75751062e-03, 2.32995181e-03,\n",
       "       3.08884360e-03, 4.09491506e-03, 5.42867544e-03, 7.19685673...\n",
       "       8.68511374e-01, 1.15139540e+00, 1.52641797e+00, 2.02358965e+00,\n",
       "       2.68269580e+00, 3.55648031e+00, 4.71486636e+00, 6.25055193e+00,\n",
       "       8.28642773e+00, 1.09854114e+01, 1.45634848e+01, 1.93069773e+01,\n",
       "       2.55954792e+01, 3.39322177e+01, 4.49843267e+01, 5.96362332e+01,\n",
       "       7.90604321e+01, 1.04811313e+02, 1.38949549e+02, 1.84206997e+02,\n",
       "       2.44205309e+02, 3.23745754e+02, 4.29193426e+02, 5.68986603e+02,\n",
       "       7.54312006e+02, 1.00000000e+03]),\n",
       "                         cv=5))])</pre></div></div></div><div class=\"sk-serial\"><div class=\"sk-item sk-dashed-wrapped\"><div class=\"sk-label-container\"><div class=\"sk-label sk-toggleable\"><input class=\"sk-toggleable__control sk-hidden--visually\" id=\"sk-estimator-id-71\" type=\"checkbox\" ><label for=\"sk-estimator-id-71\" class=\"sk-toggleable__label sk-toggleable__label-arrow\">pre: ColumnTransformer</label><div class=\"sk-toggleable__content\"><pre>ColumnTransformer(transformers=[(&#x27;num&#x27;, StandardScaler(),\n",
       "                                 [&#x27;Age&#x27;, &#x27;KM&#x27;, &#x27;HP&#x27;, &#x27;Automatic&#x27;, &#x27;CC&#x27;, &#x27;Doors&#x27;,\n",
       "                                  &#x27;Weight&#x27;, &#x27;Cylinders&#x27;, &#x27;Gears&#x27;]),\n",
       "                                (&#x27;cat&#x27;, OneHotEncoder(drop=&#x27;first&#x27;),\n",
       "                                 [&#x27;FuelType&#x27;])])</pre></div></div></div><div class=\"sk-parallel\"><div class=\"sk-parallel-item\"><div class=\"sk-item\"><div class=\"sk-label-container\"><div class=\"sk-label sk-toggleable\"><input class=\"sk-toggleable__control sk-hidden--visually\" id=\"sk-estimator-id-72\" type=\"checkbox\" ><label for=\"sk-estimator-id-72\" class=\"sk-toggleable__label sk-toggleable__label-arrow\">num</label><div class=\"sk-toggleable__content\"><pre>[&#x27;Age&#x27;, &#x27;KM&#x27;, &#x27;HP&#x27;, &#x27;Automatic&#x27;, &#x27;CC&#x27;, &#x27;Doors&#x27;, &#x27;Weight&#x27;, &#x27;Cylinders&#x27;, &#x27;Gears&#x27;]</pre></div></div></div><div class=\"sk-serial\"><div class=\"sk-item\"><div class=\"sk-estimator sk-toggleable\"><input class=\"sk-toggleable__control sk-hidden--visually\" id=\"sk-estimator-id-73\" type=\"checkbox\" ><label for=\"sk-estimator-id-73\" class=\"sk-toggleable__label sk-toggleable__label-arrow\">StandardScaler</label><div class=\"sk-toggleable__content\"><pre>StandardScaler()</pre></div></div></div></div></div></div><div class=\"sk-parallel-item\"><div class=\"sk-item\"><div class=\"sk-label-container\"><div class=\"sk-label sk-toggleable\"><input class=\"sk-toggleable__control sk-hidden--visually\" id=\"sk-estimator-id-74\" type=\"checkbox\" ><label for=\"sk-estimator-id-74\" class=\"sk-toggleable__label sk-toggleable__label-arrow\">cat</label><div class=\"sk-toggleable__content\"><pre>[&#x27;FuelType&#x27;]</pre></div></div></div><div class=\"sk-serial\"><div class=\"sk-item\"><div class=\"sk-estimator sk-toggleable\"><input class=\"sk-toggleable__control sk-hidden--visually\" id=\"sk-estimator-id-75\" type=\"checkbox\" ><label for=\"sk-estimator-id-75\" class=\"sk-toggleable__label sk-toggleable__label-arrow\">OneHotEncoder</label><div class=\"sk-toggleable__content\"><pre>OneHotEncoder(drop=&#x27;first&#x27;)</pre></div></div></div></div></div></div></div></div><div class=\"sk-item\"><div class=\"sk-estimator sk-toggleable\"><input class=\"sk-toggleable__control sk-hidden--visually\" id=\"sk-estimator-id-76\" type=\"checkbox\" ><label for=\"sk-estimator-id-76\" class=\"sk-toggleable__label sk-toggleable__label-arrow\">RidgeCV</label><div class=\"sk-toggleable__content\"><pre>RidgeCV(alphas=array([1.00000000e-03, 1.32571137e-03, 1.75751062e-03, 2.32995181e-03,\n",
       "       3.08884360e-03, 4.09491506e-03, 5.42867544e-03, 7.19685673e-03,\n",
       "       9.54095476e-03, 1.26485522e-02, 1.67683294e-02, 2.22299648e-02,\n",
       "       2.94705170e-02, 3.90693994e-02, 5.17947468e-02, 6.86648845e-02,\n",
       "       9.10298178e-02, 1.20679264e-01, 1.59985872e-01, 2.12095089e-01,\n",
       "       2.81176870e-01, 3.72759372e-0...\n",
       "       8.68511374e-01, 1.15139540e+00, 1.52641797e+00, 2.02358965e+00,\n",
       "       2.68269580e+00, 3.55648031e+00, 4.71486636e+00, 6.25055193e+00,\n",
       "       8.28642773e+00, 1.09854114e+01, 1.45634848e+01, 1.93069773e+01,\n",
       "       2.55954792e+01, 3.39322177e+01, 4.49843267e+01, 5.96362332e+01,\n",
       "       7.90604321e+01, 1.04811313e+02, 1.38949549e+02, 1.84206997e+02,\n",
       "       2.44205309e+02, 3.23745754e+02, 4.29193426e+02, 5.68986603e+02,\n",
       "       7.54312006e+02, 1.00000000e+03]),\n",
       "        cv=5)</pre></div></div></div></div></div></div></div>"
      ],
      "text/plain": [
       "Pipeline(steps=[('pre',\n",
       "                 ColumnTransformer(transformers=[('num', StandardScaler(),\n",
       "                                                  ['Age', 'KM', 'HP',\n",
       "                                                   'Automatic', 'CC', 'Doors',\n",
       "                                                   'Weight', 'Cylinders',\n",
       "                                                   'Gears']),\n",
       "                                                 ('cat',\n",
       "                                                  OneHotEncoder(drop='first'),\n",
       "                                                  ['FuelType'])])),\n",
       "                ('model',\n",
       "                 RidgeCV(alphas=array([1.00000000e-03, 1.32571137e-03, 1.75751062e-03, 2.32995181e-03,\n",
       "       3.08884360e-03, 4.09491506e-03, 5.42867544e-03, 7.19685673...\n",
       "       8.68511374e-01, 1.15139540e+00, 1.52641797e+00, 2.02358965e+00,\n",
       "       2.68269580e+00, 3.55648031e+00, 4.71486636e+00, 6.25055193e+00,\n",
       "       8.28642773e+00, 1.09854114e+01, 1.45634848e+01, 1.93069773e+01,\n",
       "       2.55954792e+01, 3.39322177e+01, 4.49843267e+01, 5.96362332e+01,\n",
       "       7.90604321e+01, 1.04811313e+02, 1.38949549e+02, 1.84206997e+02,\n",
       "       2.44205309e+02, 3.23745754e+02, 4.29193426e+02, 5.68986603e+02,\n",
       "       7.54312006e+02, 1.00000000e+03]),\n",
       "                         cv=5))])"
      ]
     },
     "execution_count": 43,
     "metadata": {},
     "output_type": "execute_result"
    }
   ],
   "source": [
    "# -------------------------------\n",
    "# 🔹 RIDGE REGRESSION\n",
    "# -------------------------------\n",
    "# Ridge (L2 regularization) shrinks coefficients but never makes them exactly zero\n",
    "# Helps prevent overfitting when predictors are highly correlated\n",
    "ridge = Pipeline([\n",
    "    (\"pre\", preprocessor),  # Same preprocessing as above\n",
    "    (\"model\", RidgeCV(alphas=alphas, cv=5))  # RidgeCV also finds the best alpha via cross-validation\n",
    "])\n",
    "ridge"
   ]
  },
  {
   "cell_type": "code",
   "execution_count": 44,
   "id": "62233fb0-b6aa-4597-8d28-48a79e64a656",
   "metadata": {},
   "outputs": [
    {
     "data": {
      "text/html": [
       "<style>#sk-container-id-12 {color: black;}#sk-container-id-12 pre{padding: 0;}#sk-container-id-12 div.sk-toggleable {background-color: white;}#sk-container-id-12 label.sk-toggleable__label {cursor: pointer;display: block;width: 100%;margin-bottom: 0;padding: 0.3em;box-sizing: border-box;text-align: center;}#sk-container-id-12 label.sk-toggleable__label-arrow:before {content: \"▸\";float: left;margin-right: 0.25em;color: #696969;}#sk-container-id-12 label.sk-toggleable__label-arrow:hover:before {color: black;}#sk-container-id-12 div.sk-estimator:hover label.sk-toggleable__label-arrow:before {color: black;}#sk-container-id-12 div.sk-toggleable__content {max-height: 0;max-width: 0;overflow: hidden;text-align: left;background-color: #f0f8ff;}#sk-container-id-12 div.sk-toggleable__content pre {margin: 0.2em;color: black;border-radius: 0.25em;background-color: #f0f8ff;}#sk-container-id-12 input.sk-toggleable__control:checked~div.sk-toggleable__content {max-height: 200px;max-width: 100%;overflow: auto;}#sk-container-id-12 input.sk-toggleable__control:checked~label.sk-toggleable__label-arrow:before {content: \"▾\";}#sk-container-id-12 div.sk-estimator input.sk-toggleable__control:checked~label.sk-toggleable__label {background-color: #d4ebff;}#sk-container-id-12 div.sk-label input.sk-toggleable__control:checked~label.sk-toggleable__label {background-color: #d4ebff;}#sk-container-id-12 input.sk-hidden--visually {border: 0;clip: rect(1px 1px 1px 1px);clip: rect(1px, 1px, 1px, 1px);height: 1px;margin: -1px;overflow: hidden;padding: 0;position: absolute;width: 1px;}#sk-container-id-12 div.sk-estimator {font-family: monospace;background-color: #f0f8ff;border: 1px dotted black;border-radius: 0.25em;box-sizing: border-box;margin-bottom: 0.5em;}#sk-container-id-12 div.sk-estimator:hover {background-color: #d4ebff;}#sk-container-id-12 div.sk-parallel-item::after {content: \"\";width: 100%;border-bottom: 1px solid gray;flex-grow: 1;}#sk-container-id-12 div.sk-label:hover label.sk-toggleable__label {background-color: #d4ebff;}#sk-container-id-12 div.sk-serial::before {content: \"\";position: absolute;border-left: 1px solid gray;box-sizing: border-box;top: 0;bottom: 0;left: 50%;z-index: 0;}#sk-container-id-12 div.sk-serial {display: flex;flex-direction: column;align-items: center;background-color: white;padding-right: 0.2em;padding-left: 0.2em;position: relative;}#sk-container-id-12 div.sk-item {position: relative;z-index: 1;}#sk-container-id-12 div.sk-parallel {display: flex;align-items: stretch;justify-content: center;background-color: white;position: relative;}#sk-container-id-12 div.sk-item::before, #sk-container-id-12 div.sk-parallel-item::before {content: \"\";position: absolute;border-left: 1px solid gray;box-sizing: border-box;top: 0;bottom: 0;left: 50%;z-index: -1;}#sk-container-id-12 div.sk-parallel-item {display: flex;flex-direction: column;z-index: 1;position: relative;background-color: white;}#sk-container-id-12 div.sk-parallel-item:first-child::after {align-self: flex-end;width: 50%;}#sk-container-id-12 div.sk-parallel-item:last-child::after {align-self: flex-start;width: 50%;}#sk-container-id-12 div.sk-parallel-item:only-child::after {width: 0;}#sk-container-id-12 div.sk-dashed-wrapped {border: 1px dashed gray;margin: 0 0.4em 0.5em 0.4em;box-sizing: border-box;padding-bottom: 0.4em;background-color: white;}#sk-container-id-12 div.sk-label label {font-family: monospace;font-weight: bold;display: inline-block;line-height: 1.2em;}#sk-container-id-12 div.sk-label-container {text-align: center;}#sk-container-id-12 div.sk-container {/* jupyter's `normalize.less` sets `[hidden] { display: none; }` but bootstrap.min.css set `[hidden] { display: none !important; }` so we also need the `!important` here to be able to override the default hidden behavior on the sphinx rendered scikit-learn.org. See: https://github.com/scikit-learn/scikit-learn/issues/21755 */display: inline-block !important;position: relative;}#sk-container-id-12 div.sk-text-repr-fallback {display: none;}</style><div id=\"sk-container-id-12\" class=\"sk-top-container\"><div class=\"sk-text-repr-fallback\"><pre>Pipeline(steps=[(&#x27;pre&#x27;,\n",
       "                 ColumnTransformer(transformers=[(&#x27;num&#x27;, StandardScaler(),\n",
       "                                                  [&#x27;Age&#x27;, &#x27;KM&#x27;, &#x27;HP&#x27;,\n",
       "                                                   &#x27;Automatic&#x27;, &#x27;CC&#x27;, &#x27;Doors&#x27;,\n",
       "                                                   &#x27;Weight&#x27;, &#x27;Cylinders&#x27;,\n",
       "                                                   &#x27;Gears&#x27;]),\n",
       "                                                 (&#x27;cat&#x27;,\n",
       "                                                  OneHotEncoder(drop=&#x27;first&#x27;),\n",
       "                                                  [&#x27;FuelType&#x27;])])),\n",
       "                (&#x27;model&#x27;,\n",
       "                 RidgeCV(alphas=array([1.00000000e-03, 1.32571137e-03, 1.75751062e-03, 2.32995181e-03,\n",
       "       3.08884360e-03, 4.09491506e-03, 5.42867544e-03, 7.19685673...\n",
       "       8.68511374e-01, 1.15139540e+00, 1.52641797e+00, 2.02358965e+00,\n",
       "       2.68269580e+00, 3.55648031e+00, 4.71486636e+00, 6.25055193e+00,\n",
       "       8.28642773e+00, 1.09854114e+01, 1.45634848e+01, 1.93069773e+01,\n",
       "       2.55954792e+01, 3.39322177e+01, 4.49843267e+01, 5.96362332e+01,\n",
       "       7.90604321e+01, 1.04811313e+02, 1.38949549e+02, 1.84206997e+02,\n",
       "       2.44205309e+02, 3.23745754e+02, 4.29193426e+02, 5.68986603e+02,\n",
       "       7.54312006e+02, 1.00000000e+03]),\n",
       "                         cv=5))])</pre><b>In a Jupyter environment, please rerun this cell to show the HTML representation or trust the notebook. <br />On GitHub, the HTML representation is unable to render, please try loading this page with nbviewer.org.</b></div><div class=\"sk-container\" hidden><div class=\"sk-item sk-dashed-wrapped\"><div class=\"sk-label-container\"><div class=\"sk-label sk-toggleable\"><input class=\"sk-toggleable__control sk-hidden--visually\" id=\"sk-estimator-id-77\" type=\"checkbox\" ><label for=\"sk-estimator-id-77\" class=\"sk-toggleable__label sk-toggleable__label-arrow\">Pipeline</label><div class=\"sk-toggleable__content\"><pre>Pipeline(steps=[(&#x27;pre&#x27;,\n",
       "                 ColumnTransformer(transformers=[(&#x27;num&#x27;, StandardScaler(),\n",
       "                                                  [&#x27;Age&#x27;, &#x27;KM&#x27;, &#x27;HP&#x27;,\n",
       "                                                   &#x27;Automatic&#x27;, &#x27;CC&#x27;, &#x27;Doors&#x27;,\n",
       "                                                   &#x27;Weight&#x27;, &#x27;Cylinders&#x27;,\n",
       "                                                   &#x27;Gears&#x27;]),\n",
       "                                                 (&#x27;cat&#x27;,\n",
       "                                                  OneHotEncoder(drop=&#x27;first&#x27;),\n",
       "                                                  [&#x27;FuelType&#x27;])])),\n",
       "                (&#x27;model&#x27;,\n",
       "                 RidgeCV(alphas=array([1.00000000e-03, 1.32571137e-03, 1.75751062e-03, 2.32995181e-03,\n",
       "       3.08884360e-03, 4.09491506e-03, 5.42867544e-03, 7.19685673...\n",
       "       8.68511374e-01, 1.15139540e+00, 1.52641797e+00, 2.02358965e+00,\n",
       "       2.68269580e+00, 3.55648031e+00, 4.71486636e+00, 6.25055193e+00,\n",
       "       8.28642773e+00, 1.09854114e+01, 1.45634848e+01, 1.93069773e+01,\n",
       "       2.55954792e+01, 3.39322177e+01, 4.49843267e+01, 5.96362332e+01,\n",
       "       7.90604321e+01, 1.04811313e+02, 1.38949549e+02, 1.84206997e+02,\n",
       "       2.44205309e+02, 3.23745754e+02, 4.29193426e+02, 5.68986603e+02,\n",
       "       7.54312006e+02, 1.00000000e+03]),\n",
       "                         cv=5))])</pre></div></div></div><div class=\"sk-serial\"><div class=\"sk-item sk-dashed-wrapped\"><div class=\"sk-label-container\"><div class=\"sk-label sk-toggleable\"><input class=\"sk-toggleable__control sk-hidden--visually\" id=\"sk-estimator-id-78\" type=\"checkbox\" ><label for=\"sk-estimator-id-78\" class=\"sk-toggleable__label sk-toggleable__label-arrow\">pre: ColumnTransformer</label><div class=\"sk-toggleable__content\"><pre>ColumnTransformer(transformers=[(&#x27;num&#x27;, StandardScaler(),\n",
       "                                 [&#x27;Age&#x27;, &#x27;KM&#x27;, &#x27;HP&#x27;, &#x27;Automatic&#x27;, &#x27;CC&#x27;, &#x27;Doors&#x27;,\n",
       "                                  &#x27;Weight&#x27;, &#x27;Cylinders&#x27;, &#x27;Gears&#x27;]),\n",
       "                                (&#x27;cat&#x27;, OneHotEncoder(drop=&#x27;first&#x27;),\n",
       "                                 [&#x27;FuelType&#x27;])])</pre></div></div></div><div class=\"sk-parallel\"><div class=\"sk-parallel-item\"><div class=\"sk-item\"><div class=\"sk-label-container\"><div class=\"sk-label sk-toggleable\"><input class=\"sk-toggleable__control sk-hidden--visually\" id=\"sk-estimator-id-79\" type=\"checkbox\" ><label for=\"sk-estimator-id-79\" class=\"sk-toggleable__label sk-toggleable__label-arrow\">num</label><div class=\"sk-toggleable__content\"><pre>[&#x27;Age&#x27;, &#x27;KM&#x27;, &#x27;HP&#x27;, &#x27;Automatic&#x27;, &#x27;CC&#x27;, &#x27;Doors&#x27;, &#x27;Weight&#x27;, &#x27;Cylinders&#x27;, &#x27;Gears&#x27;]</pre></div></div></div><div class=\"sk-serial\"><div class=\"sk-item\"><div class=\"sk-estimator sk-toggleable\"><input class=\"sk-toggleable__control sk-hidden--visually\" id=\"sk-estimator-id-80\" type=\"checkbox\" ><label for=\"sk-estimator-id-80\" class=\"sk-toggleable__label sk-toggleable__label-arrow\">StandardScaler</label><div class=\"sk-toggleable__content\"><pre>StandardScaler()</pre></div></div></div></div></div></div><div class=\"sk-parallel-item\"><div class=\"sk-item\"><div class=\"sk-label-container\"><div class=\"sk-label sk-toggleable\"><input class=\"sk-toggleable__control sk-hidden--visually\" id=\"sk-estimator-id-81\" type=\"checkbox\" ><label for=\"sk-estimator-id-81\" class=\"sk-toggleable__label sk-toggleable__label-arrow\">cat</label><div class=\"sk-toggleable__content\"><pre>[&#x27;FuelType&#x27;]</pre></div></div></div><div class=\"sk-serial\"><div class=\"sk-item\"><div class=\"sk-estimator sk-toggleable\"><input class=\"sk-toggleable__control sk-hidden--visually\" id=\"sk-estimator-id-82\" type=\"checkbox\" ><label for=\"sk-estimator-id-82\" class=\"sk-toggleable__label sk-toggleable__label-arrow\">OneHotEncoder</label><div class=\"sk-toggleable__content\"><pre>OneHotEncoder(drop=&#x27;first&#x27;)</pre></div></div></div></div></div></div></div></div><div class=\"sk-item\"><div class=\"sk-estimator sk-toggleable\"><input class=\"sk-toggleable__control sk-hidden--visually\" id=\"sk-estimator-id-83\" type=\"checkbox\" ><label for=\"sk-estimator-id-83\" class=\"sk-toggleable__label sk-toggleable__label-arrow\">RidgeCV</label><div class=\"sk-toggleable__content\"><pre>RidgeCV(alphas=array([1.00000000e-03, 1.32571137e-03, 1.75751062e-03, 2.32995181e-03,\n",
       "       3.08884360e-03, 4.09491506e-03, 5.42867544e-03, 7.19685673e-03,\n",
       "       9.54095476e-03, 1.26485522e-02, 1.67683294e-02, 2.22299648e-02,\n",
       "       2.94705170e-02, 3.90693994e-02, 5.17947468e-02, 6.86648845e-02,\n",
       "       9.10298178e-02, 1.20679264e-01, 1.59985872e-01, 2.12095089e-01,\n",
       "       2.81176870e-01, 3.72759372e-0...\n",
       "       8.68511374e-01, 1.15139540e+00, 1.52641797e+00, 2.02358965e+00,\n",
       "       2.68269580e+00, 3.55648031e+00, 4.71486636e+00, 6.25055193e+00,\n",
       "       8.28642773e+00, 1.09854114e+01, 1.45634848e+01, 1.93069773e+01,\n",
       "       2.55954792e+01, 3.39322177e+01, 4.49843267e+01, 5.96362332e+01,\n",
       "       7.90604321e+01, 1.04811313e+02, 1.38949549e+02, 1.84206997e+02,\n",
       "       2.44205309e+02, 3.23745754e+02, 4.29193426e+02, 5.68986603e+02,\n",
       "       7.54312006e+02, 1.00000000e+03]),\n",
       "        cv=5)</pre></div></div></div></div></div></div></div>"
      ],
      "text/plain": [
       "Pipeline(steps=[('pre',\n",
       "                 ColumnTransformer(transformers=[('num', StandardScaler(),\n",
       "                                                  ['Age', 'KM', 'HP',\n",
       "                                                   'Automatic', 'CC', 'Doors',\n",
       "                                                   'Weight', 'Cylinders',\n",
       "                                                   'Gears']),\n",
       "                                                 ('cat',\n",
       "                                                  OneHotEncoder(drop='first'),\n",
       "                                                  ['FuelType'])])),\n",
       "                ('model',\n",
       "                 RidgeCV(alphas=array([1.00000000e-03, 1.32571137e-03, 1.75751062e-03, 2.32995181e-03,\n",
       "       3.08884360e-03, 4.09491506e-03, 5.42867544e-03, 7.19685673...\n",
       "       8.68511374e-01, 1.15139540e+00, 1.52641797e+00, 2.02358965e+00,\n",
       "       2.68269580e+00, 3.55648031e+00, 4.71486636e+00, 6.25055193e+00,\n",
       "       8.28642773e+00, 1.09854114e+01, 1.45634848e+01, 1.93069773e+01,\n",
       "       2.55954792e+01, 3.39322177e+01, 4.49843267e+01, 5.96362332e+01,\n",
       "       7.90604321e+01, 1.04811313e+02, 1.38949549e+02, 1.84206997e+02,\n",
       "       2.44205309e+02, 3.23745754e+02, 4.29193426e+02, 5.68986603e+02,\n",
       "       7.54312006e+02, 1.00000000e+03]),\n",
       "                         cv=5))])"
      ]
     },
     "execution_count": 44,
     "metadata": {},
     "output_type": "execute_result"
    }
   ],
   "source": [
    "# Fit the Ridge model to the training data\n",
    "ridge.fit(X_train, y_train)"
   ]
  },
  {
   "cell_type": "code",
   "execution_count": 45,
   "id": "9391866b-f5cb-4a63-bd8a-238b3099429c",
   "metadata": {},
   "outputs": [
    {
     "data": {
      "text/plain": [
       "array([11224.63891225,  8983.90608676,  9421.60529148,  9077.12547886,\n",
       "       10195.14653401,  8031.8628152 ,  8793.76617836,  8439.88413128,\n",
       "       13922.29227415, 13086.18168558,  9500.14478298,  9412.49977051,\n",
       "       12879.77555325, 12875.98693561,  9734.98220879,  8341.42725185,\n",
       "       12119.38966544, 17152.98860042,  7370.24267418,  9315.60847084,\n",
       "       12582.08594889, 17483.95004499,  8030.44288978, 10448.35759648,\n",
       "        7559.71126992, 15815.30137588,  9959.82489622,  7336.63165167,\n",
       "       15405.59145327, 14383.95559945,  8220.95125373,  9879.44267424,\n",
       "        8679.23717703, 10087.98247553, 10267.87814581,  8131.21633655,\n",
       "        8898.7838806 ,  9961.26371824, 16054.41319828,  9526.8719524 ,\n",
       "        9902.30428939,  9574.28121906,  8061.38806226,  5507.46604238,\n",
       "        6942.27909003, 16818.27656406,  9462.29837497, 10702.98987781,\n",
       "        8811.80479481, 13453.37079312, 12907.5926677 ,  6537.46998721,\n",
       "       14627.33236768, 16020.40074428,  6079.03507404,  7896.81971843,\n",
       "       10366.2772932 , 10747.747801  , 15860.49600542, 18877.64397447,\n",
       "       12489.92896756,  8107.16437411,  7927.39856418, 10856.88715679,\n",
       "       13271.04595205,  8922.92454722, 12902.14465935,  7573.81257563,\n",
       "        8295.38581533, 10727.66880552, 19899.01848954, 11096.18642022,\n",
       "       12834.31666585,  7558.69590893, 18392.99824028, 13722.46340045,\n",
       "        8099.33078171,  7692.63303921,  9846.61905633,  9284.88850574,\n",
       "       10355.15284557,  8678.86736365, 10401.82380236, 10771.67276967,\n",
       "        7628.94107853,  6394.05672378, 11486.75849479, 12966.58336233,\n",
       "        9593.82653926, 10820.61226125,  7693.14900829,  6751.71060916,\n",
       "       10495.36076143, 10923.76281598, 12698.01635989,  9352.45249919,\n",
       "       21133.45570856,  8096.03106032, 13953.16603264,  8769.81073108,\n",
       "       10802.48301041,  9748.49874545, 10577.84116911, 16379.35775603,\n",
       "        8916.02021898,  7732.25506178, 16390.73323978,  7858.69932232,\n",
       "        9771.91551727,  8508.40815598, 11719.72646447, 10489.04905749,\n",
       "        9828.38029819, 13700.6483943 ,  9540.89381001,  8228.86168572,\n",
       "        6611.15024989, 13345.81586096, 12682.11319815, 13816.48532004,\n",
       "        8019.2999117 ,  7514.46940733,  8375.21234238, 15099.71636509,\n",
       "       11569.27560099,  8822.9269435 , 13029.71300384,  9142.35913519,\n",
       "        8569.79065633, 12267.06445171, 11103.06516165, 15277.72671514,\n",
       "       10850.76638365,  9201.5196735 ,  6658.47474114,  9710.7953962 ,\n",
       "       10399.39358007, 11616.54172553,  8469.75433586,  5017.74076706,\n",
       "       12572.61455189, 10906.95253119, 12357.3984329 ,  8568.44405624,\n",
       "       12218.27356528, 11361.74980754,  7218.02611032,  8789.13539751,\n",
       "        8464.34963107, 11220.48053925, 10416.21477665, 15808.7301168 ,\n",
       "        8384.33684767,  9191.5818253 , 11202.22275574, 11061.7987216 ,\n",
       "        8862.21096201, 13225.63960989,  9834.87268916, 18810.15372306,\n",
       "       11167.36381153, 15446.2451077 , 15127.28180163,  7901.94710276,\n",
       "        8983.92230873, 12667.9444197 ,  8072.19818418, 13436.31945972,\n",
       "        8200.24445061,  7666.7246113 ,  8222.18575586, 12197.64112556,\n",
       "        9435.75866071, 13009.47105233, 10383.16265689,  9525.85025404,\n",
       "       16398.00397079, 10631.42120032,  9836.12067472, 10467.91111173,\n",
       "       12243.74280703, 11293.24051933, 13594.46863634,  8338.06344171,\n",
       "        9230.07007061,  7657.83013349,  6123.46351313,  8327.038778  ,\n",
       "        9721.76348637, 10977.59762665,  9270.27752548,  7545.19146116,\n",
       "        6269.14272911, 11146.64858574, 10500.09637486, 10924.95611885,\n",
       "        7043.16488947,  7281.43640627,  9956.9140559 , 17788.18082418,\n",
       "        9574.81041346,  7806.41602385,  6968.5387211 ,  9042.51777988,\n",
       "       15824.65554347, 16786.37831744, 10663.83732604, 10114.0766994 ,\n",
       "       10894.79535059,  9167.95128769,  9173.85640578, 11191.24885094,\n",
       "       10201.57541061, 10192.79545168,  7035.47287088, 11626.76332637,\n",
       "        8017.78227099,  9356.17914428,  7423.4696657 , 11618.66801083,\n",
       "        8461.60052364, 10562.93118789, 10585.5207645 , 10093.65374442,\n",
       "       17086.5911701 ,  6671.74000922, 15866.47585124,  7637.34846565,\n",
       "       13136.85079129,  7499.43235369, 12177.23550499,  9696.98092826,\n",
       "       26554.59311871,  8002.20453308,  9358.5678619 ,  8356.05420869,\n",
       "       13742.69061008, 13105.97507722, 10165.80922899,  8628.62039494,\n",
       "       14031.03043314, 18770.33725764, 13228.81242905,  9667.14129276,\n",
       "       20278.42128522,  9699.51141322,  9359.1257156 ,  9947.62564631,\n",
       "       10051.67393617,  9529.67656514,  8733.49046379, 10486.62688003,\n",
       "        8593.82977346,  5487.30394442, 10526.62691102, 10757.60971963,\n",
       "        6863.24349056, 10014.7492655 , 13272.19468346, 10896.75001413,\n",
       "       12801.15172383,  7106.84263964,  6161.63517452, 10633.84537636,\n",
       "        6730.32364374, 12464.00474135, 13215.97625449,  5244.91920438,\n",
       "        8842.77327927,  8088.71956891, 13116.87698288, 15407.48193476,\n",
       "        6847.3834295 , 13410.4241815 ,  8248.60764307,  7392.61143651,\n",
       "        8561.42616864,  8025.87486725,  6350.54406341, 23870.44183764,\n",
       "       22428.8325916 , 10242.34803857,  7297.76945451, 18746.21072829,\n",
       "        8232.4864593 , 13456.04823586, 10974.08914032, 10749.05732929])"
      ]
     },
     "execution_count": 45,
     "metadata": {},
     "output_type": "execute_result"
    }
   ],
   "source": [
    "# Predict prices on the test data\n",
    "y_pred_ridge = ridge.predict(X_test)\n",
    "y_pred_ridge"
   ]
  },
  {
   "cell_type": "code",
   "execution_count": 46,
   "id": "c8c75980-7476-4560-a447-17225d2a415d",
   "metadata": {},
   "outputs": [
    {
     "data": {
      "text/plain": [
       "(1404.5383555333613, 994.0580066847446, 0.8521502502008379)"
      ]
     },
     "execution_count": 46,
     "metadata": {},
     "output_type": "execute_result"
    }
   ],
   "source": [
    "# --- Model Evaluation: Lasso ---\n",
    "rmse_lasso = np.sqrt(mean_squared_error(y_test, y_pred_lasso))  # sqrt of MSE gives RMSE\n",
    "mae_lasso = mean_absolute_error(y_test, y_pred_lasso)\n",
    "r2_lasso = r2_score(y_test, y_pred_lasso)\n",
    "rmse_lasso,mae_lasso,r2_lasso"
   ]
  },
  {
   "cell_type": "code",
   "execution_count": 47,
   "id": "cdbf81d2-2a7b-41be-baf9-029872d57264",
   "metadata": {},
   "outputs": [
    {
     "data": {
      "text/plain": [
       "(1433.4321618284444, 993.0656767622697, 0.8460046256720861)"
      ]
     },
     "execution_count": 47,
     "metadata": {},
     "output_type": "execute_result"
    }
   ],
   "source": [
    "# --- Model Evaluation: Ridge ---\n",
    "rmse_ridge = np.sqrt(mean_squared_error(y_test, y_pred_ridge))\n",
    "mae_ridge = mean_absolute_error(y_test, y_pred_ridge)\n",
    "r2_ridge = r2_score(y_test, y_pred_ridge)\n",
    "rmse_ridge,mae_ridge,r2_ridge"
   ]
  },
  {
   "cell_type": "code",
   "execution_count": null,
   "id": "36bb80f4-3ce0-4561-a498-bd6713fb8dbc",
   "metadata": {},
   "outputs": [],
   "source": []
  }
 ],
 "metadata": {
  "kernelspec": {
   "display_name": "Python 3 (ipykernel)",
   "language": "python",
   "name": "python3"
  },
  "language_info": {
   "codemirror_mode": {
    "name": "ipython",
    "version": 3
   },
   "file_extension": ".py",
   "mimetype": "text/x-python",
   "name": "python",
   "nbconvert_exporter": "python",
   "pygments_lexer": "ipython3",
   "version": "3.11.5"
  }
 },
 "nbformat": 4,
 "nbformat_minor": 5
}
