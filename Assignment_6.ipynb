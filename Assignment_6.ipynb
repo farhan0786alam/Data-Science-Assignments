{
 "cells": [
  {
   "cell_type": "markdown",
   "id": "0fca56d9-4c1f-4440-a918-bce1e33309ee",
   "metadata": {},
   "source": [
    "# Estimation And Confidence Intervals "
   ]
  },
  {
   "cell_type": "markdown",
   "id": "30a82dcd-3ec4-4df0-9e2b-f5d9aaecfb9a",
   "metadata": {},
   "source": [
    "## Import Liberaries"
   ]
  },
  {
   "cell_type": "code",
   "execution_count": 3,
   "id": "6c96614d-5541-451a-825a-a11e56e2e592",
   "metadata": {},
   "outputs": [],
   "source": [
    "import pandas as pd\n",
    "import numpy as np\n",
    "import math\n",
    "from scipy import stats as st\n",
    "from scipy.stats import norm"
   ]
  },
  {
   "cell_type": "markdown",
   "id": "5eb24f62-33b8-49ca-91d2-d8d2dcd5fa54",
   "metadata": {},
   "source": [
    "##  Build 99% Confidence Interval Using Sample Standard Deviation\n",
    "###  Data: List of sample values"
   ]
  },
  {
   "cell_type": "code",
   "execution_count": 4,
   "id": "6c020aeb-3e3f-4021-8939-f15ebe1e4cf6",
   "metadata": {},
   "outputs": [
    {
     "data": {
      "text/plain": [
       "15"
      ]
     },
     "execution_count": 4,
     "metadata": {},
     "output_type": "execute_result"
    }
   ],
   "source": [
    "\n",
    "data = [1.13, 1.55, 1.43, 0.92, 1.25, 1.36, 1.32, 0.85, 1.07, 1.48, 1.20, 1.33, 1.18, 1.22, 1.29]\n",
    "CI = len(data)             \n",
    "CI                         "
   ]
  },
  {
   "cell_type": "markdown",
   "id": "08f0ba6c-f7ec-4c88-a445-cbb245a1b7e7",
   "metadata": {},
   "source": [
    "## Number of data points in the sample"
   ]
  },
  {
   "cell_type": "code",
   "execution_count": 6,
   "id": "69c9cf66-53e6-41c4-9c0a-81c3d4ec59dd",
   "metadata": {},
   "outputs": [
    {
     "data": {
      "text/plain": [
       "1.2386666666666666"
      ]
     },
     "execution_count": 6,
     "metadata": {},
     "output_type": "execute_result"
    }
   ],
   "source": [
    "sample_mean = sum(data)/CI # Sample mean (average) is the sum of the data points divided by the number of points\n",
    "sample_mean"
   ]
  },
  {
   "cell_type": "markdown",
   "id": "02d2bae5-490a-44a4-8fce-26b181b086e3",
   "metadata": {},
   "source": [
    "##  Sample standard deviation (using the formula for the sample standard deviation, not the population)"
   ]
  },
  {
   "cell_type": "code",
   "execution_count": 7,
   "id": "31f867c5-d4fe-4ef6-9331-bb565ba4e1e0",
   "metadata": {},
   "outputs": [
    {
     "data": {
      "text/plain": [
       "0.19316412956959936"
      ]
     },
     "execution_count": 7,
     "metadata": {},
     "output_type": "execute_result"
    }
   ],
   "source": [
    "sample_sd = st.tstd(data) # st.tstd calculates the sample standard deviation\n",
    "sample_sd"
   ]
  },
  {
   "cell_type": "markdown",
   "id": "923f7b8b-9390-423e-9740-c5f7a3ccef4e",
   "metadata": {},
   "source": [
    "## Degrees of freedom: CI - 1 (for sample-based estimation)"
   ]
  },
  {
   "cell_type": "code",
   "execution_count": 8,
   "id": "2da7c725-0e2f-4b33-bcfd-efe820a21d8d",
   "metadata": {},
   "outputs": [
    {
     "data": {
      "text/plain": [
       "14"
      ]
     },
     "execution_count": 8,
     "metadata": {},
     "output_type": "execute_result"
    }
   ],
   "source": [
    "df = CI - 1           \n",
    "df "
   ]
  },
  {
   "cell_type": "markdown",
   "id": "0d8f3ddb-2925-4066-9553-9bfc6f26a048",
   "metadata": {},
   "source": [
    "## Output the results"
   ]
  },
  {
   "cell_type": "code",
   "execution_count": 9,
   "id": "0083bc12-4e4d-416b-ae80-1e0d58b27e53",
   "metadata": {},
   "outputs": [
    {
     "data": {
      "text/plain": [
       "(15, 1.2386666666666666, 0.19316412956959936, 14)"
      ]
     },
     "execution_count": 9,
     "metadata": {},
     "output_type": "execute_result"
    }
   ],
   "source": [
    "CI,sample_mean,sample_sd,df"
   ]
  },
  {
   "cell_type": "markdown",
   "id": "d83721d0-06b3-41f0-a971-ef6b08b31fb0",
   "metadata": {},
   "source": [
    "##  b. Build 99% Confidence Interval Using Known Population Standard Deviation\n",
    "# Confidence level (99%)"
   ]
  },
  {
   "cell_type": "code",
   "execution_count": 10,
   "id": "b83231a2-5b28-4998-83d5-9c09d7518095",
   "metadata": {},
   "outputs": [
    {
     "data": {
      "text/plain": [
       "0.010000000000000009"
      ]
     },
     "execution_count": 10,
     "metadata": {},
     "output_type": "execute_result"
    }
   ],
   "source": [
    "\n",
    "confidence = 0.99\n",
    "alpha = 1 - confidence              # Significance level, alpha = 1 - confidence\n",
    "alpha"
   ]
  },
  {
   "cell_type": "markdown",
   "id": "b7cd1756-bf6d-42ea-b2f6-a58ed953e77d",
   "metadata": {},
   "source": [
    "# Critical t-value for a two-tailed test with the given confidence level and degrees of freedom \n"
   ]
  },
  {
   "cell_type": "code",
   "execution_count": 11,
   "id": "3e8ba9c0-6142-4c88-b5ea-12b1a74ff03f",
   "metadata": {},
   "outputs": [
    {
     "data": {
      "text/plain": [
       "2.97684273411266"
      ]
     },
     "execution_count": 11,
     "metadata": {},
     "output_type": "execute_result"
    }
   ],
   "source": [
    "t_crit = st.t.ppf(1 - alpha/2, df) # st.t.ppf is the percent point function (inverse of CDF)\n",
    "t_crit"
   ]
  },
  {
   "cell_type": "markdown",
   "id": "4b2ff762-c50a-4f53-a9d6-7a828c65c521",
   "metadata": {},
   "source": [
    "### Standard error of the sample mean (standard deviation of the sample divided by the square root of CI)"
   ]
  },
  {
   "cell_type": "code",
   "execution_count": 12,
   "id": "f64dad3e-c7f8-4c3b-8219-24dc28d1d260",
   "metadata": {},
   "outputs": [
    {
     "data": {
      "text/plain": [
       "0.04987476379384733"
      ]
     },
     "execution_count": 12,
     "metadata": {},
     "output_type": "execute_result"
    }
   ],
   "source": [
    "\n",
    "se_sample = sample_sd / math.sqrt(CI)\n",
    "se_sample"
   ]
  },
  {
   "cell_type": "markdown",
   "id": "eb732d77-e22a-42c0-b8c3-cc9fcf422107",
   "metadata": {},
   "source": [
    "## Margin of error: Critical t-value * standard error"
   ]
  },
  {
   "cell_type": "code",
   "execution_count": 13,
   "id": "4a7a8dd8-b0fd-4675-acb1-60192d7de172",
   "metadata": {},
   "outputs": [
    {
     "data": {
      "text/plain": [
       "0.1484693282152996"
      ]
     },
     "execution_count": 13,
     "metadata": {},
     "output_type": "execute_result"
    }
   ],
   "source": [
    "margin_t = t_crit * se_sample\n",
    "margin_t"
   ]
  },
  {
   "cell_type": "markdown",
   "id": "51a13523-1526-4b5c-8e52-d45fc790caa4",
   "metadata": {},
   "source": [
    "## Confidence interval for the population mean"
   ]
  },
  {
   "cell_type": "code",
   "execution_count": 14,
   "id": "bc59fa1b-3879-4c66-b3d3-88cc9e388039",
   "metadata": {},
   "outputs": [
    {
     "data": {
      "text/plain": [
       "(1.090197338451367, 1.3871359948819662)"
      ]
     },
     "execution_count": 14,
     "metadata": {},
     "output_type": "execute_result"
    }
   ],
   "source": [
    "ci_t = (sample_mean - margin_t, sample_mean + margin_t)\n",
    "ci_t"
   ]
  },
  {
   "cell_type": "markdown",
   "id": "d5fff8ed-3626-4b35-ae73-39f4d0615cb5",
   "metadata": {},
   "source": [
    "## Output the critical t-value and the confidence interval"
   ]
  },
  {
   "cell_type": "code",
   "execution_count": 15,
   "id": "446b10e4-b1d4-4f70-8582-3aaef4435fb5",
   "metadata": {},
   "outputs": [
    {
     "data": {
      "text/plain": [
       "(2.97684273411266, (1.090197338451367, 1.3871359948819662))"
      ]
     },
     "execution_count": 15,
     "metadata": {},
     "output_type": "execute_result"
    }
   ],
   "source": [
    "t_crit, ci_t"
   ]
  },
  {
   "cell_type": "code",
   "execution_count": null,
   "id": "6531c3f9-f7d5-4b66-b593-588886450a12",
   "metadata": {},
   "outputs": [],
   "source": []
  },
  {
   "cell_type": "markdown",
   "id": "81717f44-5174-4c72-a7db-e1b9fd27cc49",
   "metadata": {},
   "source": [
    "# 1. State the Hypotheses statement:"
   ]
  },
  {
   "cell_type": "markdown",
   "id": "09d867d9-47bc-4788-aeeb-d49aca1a9dd1",
   "metadata": {},
   "source": [
    "##  H0: The weekly operating cost follows the given model (no increase)\n",
    "##  H1: The weekly operating cost is higher than the model predicts\n"
   ]
  },
  {
   "cell_type": "markdown",
   "id": "4c6a258b-15cd-41ec-a87c-8e904f95176e",
   "metadata": {},
   "source": [
    "## 2. Calculate the Test Statistic:\n",
    "### Given values"
   ]
  },
  {
   "cell_type": "code",
   "execution_count": 16,
   "id": "31330a07-ec49-4f0f-98eb-00ea93c1566a",
   "metadata": {},
   "outputs": [],
   "source": [
    "sample_mean = 3050     # Rs. 3,050 (observed sample mean)\n",
    "CI = 25                 # sample size\n",
    "X_mean = 600           # average units produced\n",
    "X_std = 25             # std deviation of units produced"
   ]
  },
  {
   "cell_type": "markdown",
   "id": "d672e0f9-a4e7-49f9-a28c-80f2eaafc9ee",
   "metadata": {},
   "source": [
    "### Theoretical mean according to model: W = 1000 + 5X"
   ]
  },
  {
   "cell_type": "code",
   "execution_count": 17,
   "id": "e3255b44-0741-4069-bdab-e6f4e753dc76",
   "metadata": {},
   "outputs": [
    {
     "data": {
      "text/plain": [
       "4000"
      ]
     },
     "execution_count": 17,
     "metadata": {},
     "output_type": "execute_result"
    }
   ],
   "source": [
    "mu = 1000 + 5 * X_mean\n",
    "mu"
   ]
  },
  {
   "cell_type": "markdown",
   "id": "a4f43a9e-4146-4af0-8897-55dd9557ffad",
   "metadata": {},
   "source": [
    "### Standard deviation of W = 5 * std(X)"
   ]
  },
  {
   "cell_type": "code",
   "execution_count": 19,
   "id": "da2f57bb-3f01-42fe-9733-afb68448f721",
   "metadata": {},
   "outputs": [
    {
     "data": {
      "text/plain": [
       "125"
      ]
     },
     "execution_count": 19,
     "metadata": {},
     "output_type": "execute_result"
    }
   ],
   "source": [
    "sigma = 5 * X_std\n",
    "sigma"
   ]
  },
  {
   "cell_type": "markdown",
   "id": "ae1cd25a-0a74-4182-8d7d-2edd265a3966",
   "metadata": {},
   "source": [
    "### Standard error\n"
   ]
  },
  {
   "cell_type": "code",
   "execution_count": 22,
   "id": "cd010973-f802-44e6-9a0c-144266bea4b2",
   "metadata": {},
   "outputs": [
    {
     "data": {
      "text/plain": [
       "25.0"
      ]
     },
     "execution_count": 22,
     "metadata": {},
     "output_type": "execute_result"
    }
   ],
   "source": [
    "se = sigma / math.sqrt(CI)\n",
    "se"
   ]
  },
  {
   "cell_type": "markdown",
   "id": "e844a1dc-0ae3-4e95-a577-7b11d8dca0ae",
   "metadata": {},
   "source": [
    "### Z test statistic"
   ]
  },
  {
   "cell_type": "code",
   "execution_count": 23,
   "id": "5447c739-8a4c-4059-b83c-a3f8d905d26f",
   "metadata": {},
   "outputs": [
    {
     "data": {
      "text/plain": [
       "-38.0"
      ]
     },
     "execution_count": 23,
     "metadata": {},
     "output_type": "execute_result"
    }
   ],
   "source": [
    "z = (sample_mean - mu) / se\n",
    "z"
   ]
  },
  {
   "cell_type": "markdown",
   "id": "c62dd28a-f689-422a-a09b-aac36f2a443f",
   "metadata": {},
   "source": [
    "### Output the results"
   ]
  },
  {
   "cell_type": "code",
   "execution_count": 25,
   "id": "29c979b4-1f63-48b2-bbd3-d7cfc3a2fe25",
   "metadata": {},
   "outputs": [
    {
     "data": {
      "text/plain": [
       "(4000, 125, 25.0, -38.0)"
      ]
     },
     "execution_count": 25,
     "metadata": {},
     "output_type": "execute_result"
    }
   ],
   "source": [
    "mu,sigma,se,z"
   ]
  },
  {
   "cell_type": "markdown",
   "id": "dbedb109-890b-4f97-9828-60ddd0e051ff",
   "metadata": {},
   "source": [
    "### 3. Determine the Probability and compare:"
   ]
  },
  {
   "cell_type": "code",
   "execution_count": 26,
   "id": "3f395dab-07ce-4378-9266-44b50aa24dd0",
   "metadata": {},
   "outputs": [
    {
     "data": {
      "text/plain": [
       "1.6448536269514722"
      ]
     },
     "execution_count": 26,
     "metadata": {},
     "output_type": "execute_result"
    }
   ],
   "source": [
    "alpha = 0.05\n",
    "z_critical = norm.ppf(1 - alpha)    # one-tailed test\n",
    "z_critical"
   ]
  },
  {
   "cell_type": "markdown",
   "id": "17f2ff69-14be-44cf-815a-2ab061f5a804",
   "metadata": {},
   "source": [
    "### 4. Make a Decision:"
   ]
  },
  {
   "cell_type": "code",
   "execution_count": 27,
   "id": "e73a5b02-3313-471c-b177-2ea174f49f94",
   "metadata": {},
   "outputs": [
    {
     "data": {
      "text/plain": [
       "'Fail to Reject H0'"
      ]
     },
     "execution_count": 27,
     "metadata": {},
     "output_type": "execute_result"
    }
   ],
   "source": [
    "if z > z_critical:\n",
    "    decision = \"Reject H0\"\n",
    "else:\n",
    "    decision = \"Fail to Reject H0\"\n",
    "decision"
   ]
  },
  {
   "cell_type": "markdown",
   "id": "bbfd34b6-ae76-44a8-8958-d019f32d8a25",
   "metadata": {},
   "source": [
    "### 5. Conclusion:"
   ]
  },
  {
   "cell_type": "code",
   "execution_count": 28,
   "id": "98ea8715-6ba8-40fa-ac15-115d9afa2872",
   "metadata": {},
   "outputs": [
    {
     "name": "stdout",
     "output_type": "stream",
     "text": [
      "Conclusion: There is not enough evidence to conclude that the weekly operating costs are higher than the model suggests.\n"
     ]
    }
   ],
   "source": [
    "if decision == \"Reject H0\":\n",
    "    print(\"Conclusion: There is strong evidence that the weekly operating costs are higher than the model suggests.\")\n",
    "else:\n",
    "    print(\"Conclusion: There is not enough evidence to conclude that the weekly operating costs are higher than the model suggests.\")\n"
   ]
  },
  {
   "cell_type": "code",
   "execution_count": null,
   "id": "e86c3ee1-0e1d-48b5-ad13-060c084145f0",
   "metadata": {},
   "outputs": [],
   "source": []
  }
 ],
 "metadata": {
  "kernelspec": {
   "display_name": "Python 3 (ipykernel)",
   "language": "python",
   "name": "python3"
  },
  "language_info": {
   "codemirror_mode": {
    "name": "ipython",
    "version": 3
   },
   "file_extension": ".py",
   "mimetype": "text/x-python",
   "name": "python",
   "nbconvert_exporter": "python",
   "pygments_lexer": "ipython3",
   "version": "3.11.5"
  }
 },
 "nbformat": 4,
 "nbformat_minor": 5
}
